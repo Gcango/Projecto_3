{
  "nbformat": 4,
  "nbformat_minor": 0,
  "metadata": {
    "colab": {
      "provenance": [],
      "authorship_tag": "ABX9TyNgwLCE4zG9ukRsU7bxWCdS",
      "include_colab_link": true
    },
    "kernelspec": {
      "name": "python3",
      "display_name": "Python 3"
    },
    "language_info": {
      "name": "python"
    },
    "widgets": {
      "application/vnd.jupyter.widget-state+json": {
        "7a0a6427cb34490d8131e28879b78c2a": {
          "model_module": "@jupyter-widgets/controls",
          "model_name": "HBoxModel",
          "model_module_version": "1.5.0",
          "state": {
            "_dom_classes": [],
            "_model_module": "@jupyter-widgets/controls",
            "_model_module_version": "1.5.0",
            "_model_name": "HBoxModel",
            "_view_count": null,
            "_view_module": "@jupyter-widgets/controls",
            "_view_module_version": "1.5.0",
            "_view_name": "HBoxView",
            "box_style": "",
            "children": [
              "IPY_MODEL_a5d85d3c02694df388699216a029b093",
              "IPY_MODEL_9f939549bdbe4ab2af51f7128bb2b961",
              "IPY_MODEL_033a3fce337747119cc90860c5014f6e"
            ],
            "layout": "IPY_MODEL_467aff55f5fb42579ce633b5cac7e2fe"
          }
        },
        "a5d85d3c02694df388699216a029b093": {
          "model_module": "@jupyter-widgets/controls",
          "model_name": "HTMLModel",
          "model_module_version": "1.5.0",
          "state": {
            "_dom_classes": [],
            "_model_module": "@jupyter-widgets/controls",
            "_model_module_version": "1.5.0",
            "_model_name": "HTMLModel",
            "_view_count": null,
            "_view_module": "@jupyter-widgets/controls",
            "_view_module_version": "1.5.0",
            "_view_name": "HTMLView",
            "description": "",
            "description_tooltip": null,
            "layout": "IPY_MODEL_6da8eaf15b844df28622c89536c9d6bf",
            "placeholder": "​",
            "style": "IPY_MODEL_08617d4c67604fa5acbd85be1e7e06cc",
            "value": "Summarize dataset: 100%"
          }
        },
        "9f939549bdbe4ab2af51f7128bb2b961": {
          "model_module": "@jupyter-widgets/controls",
          "model_name": "FloatProgressModel",
          "model_module_version": "1.5.0",
          "state": {
            "_dom_classes": [],
            "_model_module": "@jupyter-widgets/controls",
            "_model_module_version": "1.5.0",
            "_model_name": "FloatProgressModel",
            "_view_count": null,
            "_view_module": "@jupyter-widgets/controls",
            "_view_module_version": "1.5.0",
            "_view_name": "ProgressView",
            "bar_style": "success",
            "description": "",
            "description_tooltip": null,
            "layout": "IPY_MODEL_7399a58bfab24bc8a3ac400a3151b128",
            "max": 5,
            "min": 0,
            "orientation": "horizontal",
            "style": "IPY_MODEL_536ad532a93940c3aa21bc8d4547e349",
            "value": 5
          }
        },
        "033a3fce337747119cc90860c5014f6e": {
          "model_module": "@jupyter-widgets/controls",
          "model_name": "HTMLModel",
          "model_module_version": "1.5.0",
          "state": {
            "_dom_classes": [],
            "_model_module": "@jupyter-widgets/controls",
            "_model_module_version": "1.5.0",
            "_model_name": "HTMLModel",
            "_view_count": null,
            "_view_module": "@jupyter-widgets/controls",
            "_view_module_version": "1.5.0",
            "_view_name": "HTMLView",
            "description": "",
            "description_tooltip": null,
            "layout": "IPY_MODEL_ef7535b700404d62a93dbfe76db4db19",
            "placeholder": "​",
            "style": "IPY_MODEL_cf2ab00cc9f44f06b1d5585caa7719e2",
            "value": " 128/128 [00:47&lt;00:00,  2.20it/s, Completed]"
          }
        },
        "467aff55f5fb42579ce633b5cac7e2fe": {
          "model_module": "@jupyter-widgets/base",
          "model_name": "LayoutModel",
          "model_module_version": "1.2.0",
          "state": {
            "_model_module": "@jupyter-widgets/base",
            "_model_module_version": "1.2.0",
            "_model_name": "LayoutModel",
            "_view_count": null,
            "_view_module": "@jupyter-widgets/base",
            "_view_module_version": "1.2.0",
            "_view_name": "LayoutView",
            "align_content": null,
            "align_items": null,
            "align_self": null,
            "border": null,
            "bottom": null,
            "display": null,
            "flex": null,
            "flex_flow": null,
            "grid_area": null,
            "grid_auto_columns": null,
            "grid_auto_flow": null,
            "grid_auto_rows": null,
            "grid_column": null,
            "grid_gap": null,
            "grid_row": null,
            "grid_template_areas": null,
            "grid_template_columns": null,
            "grid_template_rows": null,
            "height": null,
            "justify_content": null,
            "justify_items": null,
            "left": null,
            "margin": null,
            "max_height": null,
            "max_width": null,
            "min_height": null,
            "min_width": null,
            "object_fit": null,
            "object_position": null,
            "order": null,
            "overflow": null,
            "overflow_x": null,
            "overflow_y": null,
            "padding": null,
            "right": null,
            "top": null,
            "visibility": null,
            "width": null
          }
        },
        "6da8eaf15b844df28622c89536c9d6bf": {
          "model_module": "@jupyter-widgets/base",
          "model_name": "LayoutModel",
          "model_module_version": "1.2.0",
          "state": {
            "_model_module": "@jupyter-widgets/base",
            "_model_module_version": "1.2.0",
            "_model_name": "LayoutModel",
            "_view_count": null,
            "_view_module": "@jupyter-widgets/base",
            "_view_module_version": "1.2.0",
            "_view_name": "LayoutView",
            "align_content": null,
            "align_items": null,
            "align_self": null,
            "border": null,
            "bottom": null,
            "display": null,
            "flex": null,
            "flex_flow": null,
            "grid_area": null,
            "grid_auto_columns": null,
            "grid_auto_flow": null,
            "grid_auto_rows": null,
            "grid_column": null,
            "grid_gap": null,
            "grid_row": null,
            "grid_template_areas": null,
            "grid_template_columns": null,
            "grid_template_rows": null,
            "height": null,
            "justify_content": null,
            "justify_items": null,
            "left": null,
            "margin": null,
            "max_height": null,
            "max_width": null,
            "min_height": null,
            "min_width": null,
            "object_fit": null,
            "object_position": null,
            "order": null,
            "overflow": null,
            "overflow_x": null,
            "overflow_y": null,
            "padding": null,
            "right": null,
            "top": null,
            "visibility": null,
            "width": null
          }
        },
        "08617d4c67604fa5acbd85be1e7e06cc": {
          "model_module": "@jupyter-widgets/controls",
          "model_name": "DescriptionStyleModel",
          "model_module_version": "1.5.0",
          "state": {
            "_model_module": "@jupyter-widgets/controls",
            "_model_module_version": "1.5.0",
            "_model_name": "DescriptionStyleModel",
            "_view_count": null,
            "_view_module": "@jupyter-widgets/base",
            "_view_module_version": "1.2.0",
            "_view_name": "StyleView",
            "description_width": ""
          }
        },
        "7399a58bfab24bc8a3ac400a3151b128": {
          "model_module": "@jupyter-widgets/base",
          "model_name": "LayoutModel",
          "model_module_version": "1.2.0",
          "state": {
            "_model_module": "@jupyter-widgets/base",
            "_model_module_version": "1.2.0",
            "_model_name": "LayoutModel",
            "_view_count": null,
            "_view_module": "@jupyter-widgets/base",
            "_view_module_version": "1.2.0",
            "_view_name": "LayoutView",
            "align_content": null,
            "align_items": null,
            "align_self": null,
            "border": null,
            "bottom": null,
            "display": null,
            "flex": null,
            "flex_flow": null,
            "grid_area": null,
            "grid_auto_columns": null,
            "grid_auto_flow": null,
            "grid_auto_rows": null,
            "grid_column": null,
            "grid_gap": null,
            "grid_row": null,
            "grid_template_areas": null,
            "grid_template_columns": null,
            "grid_template_rows": null,
            "height": null,
            "justify_content": null,
            "justify_items": null,
            "left": null,
            "margin": null,
            "max_height": null,
            "max_width": null,
            "min_height": null,
            "min_width": null,
            "object_fit": null,
            "object_position": null,
            "order": null,
            "overflow": null,
            "overflow_x": null,
            "overflow_y": null,
            "padding": null,
            "right": null,
            "top": null,
            "visibility": null,
            "width": null
          }
        },
        "536ad532a93940c3aa21bc8d4547e349": {
          "model_module": "@jupyter-widgets/controls",
          "model_name": "ProgressStyleModel",
          "model_module_version": "1.5.0",
          "state": {
            "_model_module": "@jupyter-widgets/controls",
            "_model_module_version": "1.5.0",
            "_model_name": "ProgressStyleModel",
            "_view_count": null,
            "_view_module": "@jupyter-widgets/base",
            "_view_module_version": "1.2.0",
            "_view_name": "StyleView",
            "bar_color": null,
            "description_width": ""
          }
        },
        "ef7535b700404d62a93dbfe76db4db19": {
          "model_module": "@jupyter-widgets/base",
          "model_name": "LayoutModel",
          "model_module_version": "1.2.0",
          "state": {
            "_model_module": "@jupyter-widgets/base",
            "_model_module_version": "1.2.0",
            "_model_name": "LayoutModel",
            "_view_count": null,
            "_view_module": "@jupyter-widgets/base",
            "_view_module_version": "1.2.0",
            "_view_name": "LayoutView",
            "align_content": null,
            "align_items": null,
            "align_self": null,
            "border": null,
            "bottom": null,
            "display": null,
            "flex": null,
            "flex_flow": null,
            "grid_area": null,
            "grid_auto_columns": null,
            "grid_auto_flow": null,
            "grid_auto_rows": null,
            "grid_column": null,
            "grid_gap": null,
            "grid_row": null,
            "grid_template_areas": null,
            "grid_template_columns": null,
            "grid_template_rows": null,
            "height": null,
            "justify_content": null,
            "justify_items": null,
            "left": null,
            "margin": null,
            "max_height": null,
            "max_width": null,
            "min_height": null,
            "min_width": null,
            "object_fit": null,
            "object_position": null,
            "order": null,
            "overflow": null,
            "overflow_x": null,
            "overflow_y": null,
            "padding": null,
            "right": null,
            "top": null,
            "visibility": null,
            "width": null
          }
        },
        "cf2ab00cc9f44f06b1d5585caa7719e2": {
          "model_module": "@jupyter-widgets/controls",
          "model_name": "DescriptionStyleModel",
          "model_module_version": "1.5.0",
          "state": {
            "_model_module": "@jupyter-widgets/controls",
            "_model_module_version": "1.5.0",
            "_model_name": "DescriptionStyleModel",
            "_view_count": null,
            "_view_module": "@jupyter-widgets/base",
            "_view_module_version": "1.2.0",
            "_view_name": "StyleView",
            "description_width": ""
          }
        },
        "99004586e565421f93dd5d4b9e830230": {
          "model_module": "@jupyter-widgets/controls",
          "model_name": "HBoxModel",
          "model_module_version": "1.5.0",
          "state": {
            "_dom_classes": [],
            "_model_module": "@jupyter-widgets/controls",
            "_model_module_version": "1.5.0",
            "_model_name": "HBoxModel",
            "_view_count": null,
            "_view_module": "@jupyter-widgets/controls",
            "_view_module_version": "1.5.0",
            "_view_name": "HBoxView",
            "box_style": "",
            "children": [
              "IPY_MODEL_9d1503eedc554cf1ab7dc97faf761880",
              "IPY_MODEL_907b7437b56548f7a438f8f45a45af10",
              "IPY_MODEL_2f46d5a02bf2413a92e14e530ea74f53"
            ],
            "layout": "IPY_MODEL_8ae8e08098fd4bd597f6137ec108650f"
          }
        },
        "9d1503eedc554cf1ab7dc97faf761880": {
          "model_module": "@jupyter-widgets/controls",
          "model_name": "HTMLModel",
          "model_module_version": "1.5.0",
          "state": {
            "_dom_classes": [],
            "_model_module": "@jupyter-widgets/controls",
            "_model_module_version": "1.5.0",
            "_model_name": "HTMLModel",
            "_view_count": null,
            "_view_module": "@jupyter-widgets/controls",
            "_view_module_version": "1.5.0",
            "_view_name": "HTMLView",
            "description": "",
            "description_tooltip": null,
            "layout": "IPY_MODEL_7457d671855647f7b6c35de1c4ae2cf7",
            "placeholder": "​",
            "style": "IPY_MODEL_c5cd1852acd943e19fe0bc6a1ff44779",
            "value": "Generate report structure: 100%"
          }
        },
        "907b7437b56548f7a438f8f45a45af10": {
          "model_module": "@jupyter-widgets/controls",
          "model_name": "FloatProgressModel",
          "model_module_version": "1.5.0",
          "state": {
            "_dom_classes": [],
            "_model_module": "@jupyter-widgets/controls",
            "_model_module_version": "1.5.0",
            "_model_name": "FloatProgressModel",
            "_view_count": null,
            "_view_module": "@jupyter-widgets/controls",
            "_view_module_version": "1.5.0",
            "_view_name": "ProgressView",
            "bar_style": "success",
            "description": "",
            "description_tooltip": null,
            "layout": "IPY_MODEL_ded2d59a7d544dfe93e99178cbb7d942",
            "max": 1,
            "min": 0,
            "orientation": "horizontal",
            "style": "IPY_MODEL_f786b8636e22471481afda65a8067a00",
            "value": 1
          }
        },
        "2f46d5a02bf2413a92e14e530ea74f53": {
          "model_module": "@jupyter-widgets/controls",
          "model_name": "HTMLModel",
          "model_module_version": "1.5.0",
          "state": {
            "_dom_classes": [],
            "_model_module": "@jupyter-widgets/controls",
            "_model_module_version": "1.5.0",
            "_model_name": "HTMLModel",
            "_view_count": null,
            "_view_module": "@jupyter-widgets/controls",
            "_view_module_version": "1.5.0",
            "_view_name": "HTMLView",
            "description": "",
            "description_tooltip": null,
            "layout": "IPY_MODEL_3a1367f52fcd4c7ba1abc21adb9f81e2",
            "placeholder": "​",
            "style": "IPY_MODEL_53ed495369e54369baa51ce571cfa522",
            "value": " 1/1 [00:13&lt;00:00, 13.37s/it]"
          }
        },
        "8ae8e08098fd4bd597f6137ec108650f": {
          "model_module": "@jupyter-widgets/base",
          "model_name": "LayoutModel",
          "model_module_version": "1.2.0",
          "state": {
            "_model_module": "@jupyter-widgets/base",
            "_model_module_version": "1.2.0",
            "_model_name": "LayoutModel",
            "_view_count": null,
            "_view_module": "@jupyter-widgets/base",
            "_view_module_version": "1.2.0",
            "_view_name": "LayoutView",
            "align_content": null,
            "align_items": null,
            "align_self": null,
            "border": null,
            "bottom": null,
            "display": null,
            "flex": null,
            "flex_flow": null,
            "grid_area": null,
            "grid_auto_columns": null,
            "grid_auto_flow": null,
            "grid_auto_rows": null,
            "grid_column": null,
            "grid_gap": null,
            "grid_row": null,
            "grid_template_areas": null,
            "grid_template_columns": null,
            "grid_template_rows": null,
            "height": null,
            "justify_content": null,
            "justify_items": null,
            "left": null,
            "margin": null,
            "max_height": null,
            "max_width": null,
            "min_height": null,
            "min_width": null,
            "object_fit": null,
            "object_position": null,
            "order": null,
            "overflow": null,
            "overflow_x": null,
            "overflow_y": null,
            "padding": null,
            "right": null,
            "top": null,
            "visibility": null,
            "width": null
          }
        },
        "7457d671855647f7b6c35de1c4ae2cf7": {
          "model_module": "@jupyter-widgets/base",
          "model_name": "LayoutModel",
          "model_module_version": "1.2.0",
          "state": {
            "_model_module": "@jupyter-widgets/base",
            "_model_module_version": "1.2.0",
            "_model_name": "LayoutModel",
            "_view_count": null,
            "_view_module": "@jupyter-widgets/base",
            "_view_module_version": "1.2.0",
            "_view_name": "LayoutView",
            "align_content": null,
            "align_items": null,
            "align_self": null,
            "border": null,
            "bottom": null,
            "display": null,
            "flex": null,
            "flex_flow": null,
            "grid_area": null,
            "grid_auto_columns": null,
            "grid_auto_flow": null,
            "grid_auto_rows": null,
            "grid_column": null,
            "grid_gap": null,
            "grid_row": null,
            "grid_template_areas": null,
            "grid_template_columns": null,
            "grid_template_rows": null,
            "height": null,
            "justify_content": null,
            "justify_items": null,
            "left": null,
            "margin": null,
            "max_height": null,
            "max_width": null,
            "min_height": null,
            "min_width": null,
            "object_fit": null,
            "object_position": null,
            "order": null,
            "overflow": null,
            "overflow_x": null,
            "overflow_y": null,
            "padding": null,
            "right": null,
            "top": null,
            "visibility": null,
            "width": null
          }
        },
        "c5cd1852acd943e19fe0bc6a1ff44779": {
          "model_module": "@jupyter-widgets/controls",
          "model_name": "DescriptionStyleModel",
          "model_module_version": "1.5.0",
          "state": {
            "_model_module": "@jupyter-widgets/controls",
            "_model_module_version": "1.5.0",
            "_model_name": "DescriptionStyleModel",
            "_view_count": null,
            "_view_module": "@jupyter-widgets/base",
            "_view_module_version": "1.2.0",
            "_view_name": "StyleView",
            "description_width": ""
          }
        },
        "ded2d59a7d544dfe93e99178cbb7d942": {
          "model_module": "@jupyter-widgets/base",
          "model_name": "LayoutModel",
          "model_module_version": "1.2.0",
          "state": {
            "_model_module": "@jupyter-widgets/base",
            "_model_module_version": "1.2.0",
            "_model_name": "LayoutModel",
            "_view_count": null,
            "_view_module": "@jupyter-widgets/base",
            "_view_module_version": "1.2.0",
            "_view_name": "LayoutView",
            "align_content": null,
            "align_items": null,
            "align_self": null,
            "border": null,
            "bottom": null,
            "display": null,
            "flex": null,
            "flex_flow": null,
            "grid_area": null,
            "grid_auto_columns": null,
            "grid_auto_flow": null,
            "grid_auto_rows": null,
            "grid_column": null,
            "grid_gap": null,
            "grid_row": null,
            "grid_template_areas": null,
            "grid_template_columns": null,
            "grid_template_rows": null,
            "height": null,
            "justify_content": null,
            "justify_items": null,
            "left": null,
            "margin": null,
            "max_height": null,
            "max_width": null,
            "min_height": null,
            "min_width": null,
            "object_fit": null,
            "object_position": null,
            "order": null,
            "overflow": null,
            "overflow_x": null,
            "overflow_y": null,
            "padding": null,
            "right": null,
            "top": null,
            "visibility": null,
            "width": null
          }
        },
        "f786b8636e22471481afda65a8067a00": {
          "model_module": "@jupyter-widgets/controls",
          "model_name": "ProgressStyleModel",
          "model_module_version": "1.5.0",
          "state": {
            "_model_module": "@jupyter-widgets/controls",
            "_model_module_version": "1.5.0",
            "_model_name": "ProgressStyleModel",
            "_view_count": null,
            "_view_module": "@jupyter-widgets/base",
            "_view_module_version": "1.2.0",
            "_view_name": "StyleView",
            "bar_color": null,
            "description_width": ""
          }
        },
        "3a1367f52fcd4c7ba1abc21adb9f81e2": {
          "model_module": "@jupyter-widgets/base",
          "model_name": "LayoutModel",
          "model_module_version": "1.2.0",
          "state": {
            "_model_module": "@jupyter-widgets/base",
            "_model_module_version": "1.2.0",
            "_model_name": "LayoutModel",
            "_view_count": null,
            "_view_module": "@jupyter-widgets/base",
            "_view_module_version": "1.2.0",
            "_view_name": "LayoutView",
            "align_content": null,
            "align_items": null,
            "align_self": null,
            "border": null,
            "bottom": null,
            "display": null,
            "flex": null,
            "flex_flow": null,
            "grid_area": null,
            "grid_auto_columns": null,
            "grid_auto_flow": null,
            "grid_auto_rows": null,
            "grid_column": null,
            "grid_gap": null,
            "grid_row": null,
            "grid_template_areas": null,
            "grid_template_columns": null,
            "grid_template_rows": null,
            "height": null,
            "justify_content": null,
            "justify_items": null,
            "left": null,
            "margin": null,
            "max_height": null,
            "max_width": null,
            "min_height": null,
            "min_width": null,
            "object_fit": null,
            "object_position": null,
            "order": null,
            "overflow": null,
            "overflow_x": null,
            "overflow_y": null,
            "padding": null,
            "right": null,
            "top": null,
            "visibility": null,
            "width": null
          }
        },
        "53ed495369e54369baa51ce571cfa522": {
          "model_module": "@jupyter-widgets/controls",
          "model_name": "DescriptionStyleModel",
          "model_module_version": "1.5.0",
          "state": {
            "_model_module": "@jupyter-widgets/controls",
            "_model_module_version": "1.5.0",
            "_model_name": "DescriptionStyleModel",
            "_view_count": null,
            "_view_module": "@jupyter-widgets/base",
            "_view_module_version": "1.2.0",
            "_view_name": "StyleView",
            "description_width": ""
          }
        },
        "8e3338f4044b48b8b12d9a8e9090db55": {
          "model_module": "@jupyter-widgets/controls",
          "model_name": "HBoxModel",
          "model_module_version": "1.5.0",
          "state": {
            "_dom_classes": [],
            "_model_module": "@jupyter-widgets/controls",
            "_model_module_version": "1.5.0",
            "_model_name": "HBoxModel",
            "_view_count": null,
            "_view_module": "@jupyter-widgets/controls",
            "_view_module_version": "1.5.0",
            "_view_name": "HBoxView",
            "box_style": "",
            "children": [
              "IPY_MODEL_f0914cf910d64d7ba4c220431681c75d",
              "IPY_MODEL_ca19c64c6968424d98ad18e22c051e82",
              "IPY_MODEL_5949d29663e4413ab29a3fc7f3a3289a"
            ],
            "layout": "IPY_MODEL_5d61b0d3bb9544f2a5454fb51b2dccad"
          }
        },
        "f0914cf910d64d7ba4c220431681c75d": {
          "model_module": "@jupyter-widgets/controls",
          "model_name": "HTMLModel",
          "model_module_version": "1.5.0",
          "state": {
            "_dom_classes": [],
            "_model_module": "@jupyter-widgets/controls",
            "_model_module_version": "1.5.0",
            "_model_name": "HTMLModel",
            "_view_count": null,
            "_view_module": "@jupyter-widgets/controls",
            "_view_module_version": "1.5.0",
            "_view_name": "HTMLView",
            "description": "",
            "description_tooltip": null,
            "layout": "IPY_MODEL_de75cd3fd06c468db650345fa103c2e6",
            "placeholder": "​",
            "style": "IPY_MODEL_f5510129103f4391a1bf6dab456a1e39",
            "value": "Render HTML: 100%"
          }
        },
        "ca19c64c6968424d98ad18e22c051e82": {
          "model_module": "@jupyter-widgets/controls",
          "model_name": "FloatProgressModel",
          "model_module_version": "1.5.0",
          "state": {
            "_dom_classes": [],
            "_model_module": "@jupyter-widgets/controls",
            "_model_module_version": "1.5.0",
            "_model_name": "FloatProgressModel",
            "_view_count": null,
            "_view_module": "@jupyter-widgets/controls",
            "_view_module_version": "1.5.0",
            "_view_name": "ProgressView",
            "bar_style": "success",
            "description": "",
            "description_tooltip": null,
            "layout": "IPY_MODEL_6bf7ba55fcad4bbc9c04af97483bde56",
            "max": 1,
            "min": 0,
            "orientation": "horizontal",
            "style": "IPY_MODEL_ef3495abfa374c599b46e63aa56e2bb9",
            "value": 1
          }
        },
        "5949d29663e4413ab29a3fc7f3a3289a": {
          "model_module": "@jupyter-widgets/controls",
          "model_name": "HTMLModel",
          "model_module_version": "1.5.0",
          "state": {
            "_dom_classes": [],
            "_model_module": "@jupyter-widgets/controls",
            "_model_module_version": "1.5.0",
            "_model_name": "HTMLModel",
            "_view_count": null,
            "_view_module": "@jupyter-widgets/controls",
            "_view_module_version": "1.5.0",
            "_view_name": "HTMLView",
            "description": "",
            "description_tooltip": null,
            "layout": "IPY_MODEL_69d506cd3bb94c9bada372b190ca761f",
            "placeholder": "​",
            "style": "IPY_MODEL_7c8474296fa44b9691db7ba3da804561",
            "value": " 1/1 [00:04&lt;00:00,  4.82s/it]"
          }
        },
        "5d61b0d3bb9544f2a5454fb51b2dccad": {
          "model_module": "@jupyter-widgets/base",
          "model_name": "LayoutModel",
          "model_module_version": "1.2.0",
          "state": {
            "_model_module": "@jupyter-widgets/base",
            "_model_module_version": "1.2.0",
            "_model_name": "LayoutModel",
            "_view_count": null,
            "_view_module": "@jupyter-widgets/base",
            "_view_module_version": "1.2.0",
            "_view_name": "LayoutView",
            "align_content": null,
            "align_items": null,
            "align_self": null,
            "border": null,
            "bottom": null,
            "display": null,
            "flex": null,
            "flex_flow": null,
            "grid_area": null,
            "grid_auto_columns": null,
            "grid_auto_flow": null,
            "grid_auto_rows": null,
            "grid_column": null,
            "grid_gap": null,
            "grid_row": null,
            "grid_template_areas": null,
            "grid_template_columns": null,
            "grid_template_rows": null,
            "height": null,
            "justify_content": null,
            "justify_items": null,
            "left": null,
            "margin": null,
            "max_height": null,
            "max_width": null,
            "min_height": null,
            "min_width": null,
            "object_fit": null,
            "object_position": null,
            "order": null,
            "overflow": null,
            "overflow_x": null,
            "overflow_y": null,
            "padding": null,
            "right": null,
            "top": null,
            "visibility": null,
            "width": null
          }
        },
        "de75cd3fd06c468db650345fa103c2e6": {
          "model_module": "@jupyter-widgets/base",
          "model_name": "LayoutModel",
          "model_module_version": "1.2.0",
          "state": {
            "_model_module": "@jupyter-widgets/base",
            "_model_module_version": "1.2.0",
            "_model_name": "LayoutModel",
            "_view_count": null,
            "_view_module": "@jupyter-widgets/base",
            "_view_module_version": "1.2.0",
            "_view_name": "LayoutView",
            "align_content": null,
            "align_items": null,
            "align_self": null,
            "border": null,
            "bottom": null,
            "display": null,
            "flex": null,
            "flex_flow": null,
            "grid_area": null,
            "grid_auto_columns": null,
            "grid_auto_flow": null,
            "grid_auto_rows": null,
            "grid_column": null,
            "grid_gap": null,
            "grid_row": null,
            "grid_template_areas": null,
            "grid_template_columns": null,
            "grid_template_rows": null,
            "height": null,
            "justify_content": null,
            "justify_items": null,
            "left": null,
            "margin": null,
            "max_height": null,
            "max_width": null,
            "min_height": null,
            "min_width": null,
            "object_fit": null,
            "object_position": null,
            "order": null,
            "overflow": null,
            "overflow_x": null,
            "overflow_y": null,
            "padding": null,
            "right": null,
            "top": null,
            "visibility": null,
            "width": null
          }
        },
        "f5510129103f4391a1bf6dab456a1e39": {
          "model_module": "@jupyter-widgets/controls",
          "model_name": "DescriptionStyleModel",
          "model_module_version": "1.5.0",
          "state": {
            "_model_module": "@jupyter-widgets/controls",
            "_model_module_version": "1.5.0",
            "_model_name": "DescriptionStyleModel",
            "_view_count": null,
            "_view_module": "@jupyter-widgets/base",
            "_view_module_version": "1.2.0",
            "_view_name": "StyleView",
            "description_width": ""
          }
        },
        "6bf7ba55fcad4bbc9c04af97483bde56": {
          "model_module": "@jupyter-widgets/base",
          "model_name": "LayoutModel",
          "model_module_version": "1.2.0",
          "state": {
            "_model_module": "@jupyter-widgets/base",
            "_model_module_version": "1.2.0",
            "_model_name": "LayoutModel",
            "_view_count": null,
            "_view_module": "@jupyter-widgets/base",
            "_view_module_version": "1.2.0",
            "_view_name": "LayoutView",
            "align_content": null,
            "align_items": null,
            "align_self": null,
            "border": null,
            "bottom": null,
            "display": null,
            "flex": null,
            "flex_flow": null,
            "grid_area": null,
            "grid_auto_columns": null,
            "grid_auto_flow": null,
            "grid_auto_rows": null,
            "grid_column": null,
            "grid_gap": null,
            "grid_row": null,
            "grid_template_areas": null,
            "grid_template_columns": null,
            "grid_template_rows": null,
            "height": null,
            "justify_content": null,
            "justify_items": null,
            "left": null,
            "margin": null,
            "max_height": null,
            "max_width": null,
            "min_height": null,
            "min_width": null,
            "object_fit": null,
            "object_position": null,
            "order": null,
            "overflow": null,
            "overflow_x": null,
            "overflow_y": null,
            "padding": null,
            "right": null,
            "top": null,
            "visibility": null,
            "width": null
          }
        },
        "ef3495abfa374c599b46e63aa56e2bb9": {
          "model_module": "@jupyter-widgets/controls",
          "model_name": "ProgressStyleModel",
          "model_module_version": "1.5.0",
          "state": {
            "_model_module": "@jupyter-widgets/controls",
            "_model_module_version": "1.5.0",
            "_model_name": "ProgressStyleModel",
            "_view_count": null,
            "_view_module": "@jupyter-widgets/base",
            "_view_module_version": "1.2.0",
            "_view_name": "StyleView",
            "bar_color": null,
            "description_width": ""
          }
        },
        "69d506cd3bb94c9bada372b190ca761f": {
          "model_module": "@jupyter-widgets/base",
          "model_name": "LayoutModel",
          "model_module_version": "1.2.0",
          "state": {
            "_model_module": "@jupyter-widgets/base",
            "_model_module_version": "1.2.0",
            "_model_name": "LayoutModel",
            "_view_count": null,
            "_view_module": "@jupyter-widgets/base",
            "_view_module_version": "1.2.0",
            "_view_name": "LayoutView",
            "align_content": null,
            "align_items": null,
            "align_self": null,
            "border": null,
            "bottom": null,
            "display": null,
            "flex": null,
            "flex_flow": null,
            "grid_area": null,
            "grid_auto_columns": null,
            "grid_auto_flow": null,
            "grid_auto_rows": null,
            "grid_column": null,
            "grid_gap": null,
            "grid_row": null,
            "grid_template_areas": null,
            "grid_template_columns": null,
            "grid_template_rows": null,
            "height": null,
            "justify_content": null,
            "justify_items": null,
            "left": null,
            "margin": null,
            "max_height": null,
            "max_width": null,
            "min_height": null,
            "min_width": null,
            "object_fit": null,
            "object_position": null,
            "order": null,
            "overflow": null,
            "overflow_x": null,
            "overflow_y": null,
            "padding": null,
            "right": null,
            "top": null,
            "visibility": null,
            "width": null
          }
        },
        "7c8474296fa44b9691db7ba3da804561": {
          "model_module": "@jupyter-widgets/controls",
          "model_name": "DescriptionStyleModel",
          "model_module_version": "1.5.0",
          "state": {
            "_model_module": "@jupyter-widgets/controls",
            "_model_module_version": "1.5.0",
            "_model_name": "DescriptionStyleModel",
            "_view_count": null,
            "_view_module": "@jupyter-widgets/base",
            "_view_module_version": "1.2.0",
            "_view_name": "StyleView",
            "description_width": ""
          }
        },
        "d2941171e55f484f95e4e0652bb77eeb": {
          "model_module": "@jupyter-widgets/controls",
          "model_name": "HBoxModel",
          "model_module_version": "1.5.0",
          "state": {
            "_dom_classes": [],
            "_model_module": "@jupyter-widgets/controls",
            "_model_module_version": "1.5.0",
            "_model_name": "HBoxModel",
            "_view_count": null,
            "_view_module": "@jupyter-widgets/controls",
            "_view_module_version": "1.5.0",
            "_view_name": "HBoxView",
            "box_style": "",
            "children": [
              "IPY_MODEL_8a59d3e8e24e487889edcd31940ce1b5",
              "IPY_MODEL_7b1e4affb7a7492d87e821fd79673b93",
              "IPY_MODEL_80e323180bf5499ab364c234290ccc39"
            ],
            "layout": "IPY_MODEL_b84df15a3076478b9f1150ffd16f7862"
          }
        },
        "8a59d3e8e24e487889edcd31940ce1b5": {
          "model_module": "@jupyter-widgets/controls",
          "model_name": "HTMLModel",
          "model_module_version": "1.5.0",
          "state": {
            "_dom_classes": [],
            "_model_module": "@jupyter-widgets/controls",
            "_model_module_version": "1.5.0",
            "_model_name": "HTMLModel",
            "_view_count": null,
            "_view_module": "@jupyter-widgets/controls",
            "_view_module_version": "1.5.0",
            "_view_name": "HTMLView",
            "description": "",
            "description_tooltip": null,
            "layout": "IPY_MODEL_b610d8375c1f4f4bb3d2e629a8dfd3e2",
            "placeholder": "​",
            "style": "IPY_MODEL_5012f724862e4ac197aee316b93ba97f",
            "value": "Export report to file: 100%"
          }
        },
        "7b1e4affb7a7492d87e821fd79673b93": {
          "model_module": "@jupyter-widgets/controls",
          "model_name": "FloatProgressModel",
          "model_module_version": "1.5.0",
          "state": {
            "_dom_classes": [],
            "_model_module": "@jupyter-widgets/controls",
            "_model_module_version": "1.5.0",
            "_model_name": "FloatProgressModel",
            "_view_count": null,
            "_view_module": "@jupyter-widgets/controls",
            "_view_module_version": "1.5.0",
            "_view_name": "ProgressView",
            "bar_style": "success",
            "description": "",
            "description_tooltip": null,
            "layout": "IPY_MODEL_cd62271068144ca59c46745e2760d98c",
            "max": 1,
            "min": 0,
            "orientation": "horizontal",
            "style": "IPY_MODEL_2107fff2a17945048dae175c392b7d94",
            "value": 1
          }
        },
        "80e323180bf5499ab364c234290ccc39": {
          "model_module": "@jupyter-widgets/controls",
          "model_name": "HTMLModel",
          "model_module_version": "1.5.0",
          "state": {
            "_dom_classes": [],
            "_model_module": "@jupyter-widgets/controls",
            "_model_module_version": "1.5.0",
            "_model_name": "HTMLModel",
            "_view_count": null,
            "_view_module": "@jupyter-widgets/controls",
            "_view_module_version": "1.5.0",
            "_view_name": "HTMLView",
            "description": "",
            "description_tooltip": null,
            "layout": "IPY_MODEL_f96a107dbb25434fbf6943006ace3af1",
            "placeholder": "​",
            "style": "IPY_MODEL_34add2df9b634271a577e01618f58f43",
            "value": " 1/1 [00:00&lt;00:00, 20.85it/s]"
          }
        },
        "b84df15a3076478b9f1150ffd16f7862": {
          "model_module": "@jupyter-widgets/base",
          "model_name": "LayoutModel",
          "model_module_version": "1.2.0",
          "state": {
            "_model_module": "@jupyter-widgets/base",
            "_model_module_version": "1.2.0",
            "_model_name": "LayoutModel",
            "_view_count": null,
            "_view_module": "@jupyter-widgets/base",
            "_view_module_version": "1.2.0",
            "_view_name": "LayoutView",
            "align_content": null,
            "align_items": null,
            "align_self": null,
            "border": null,
            "bottom": null,
            "display": null,
            "flex": null,
            "flex_flow": null,
            "grid_area": null,
            "grid_auto_columns": null,
            "grid_auto_flow": null,
            "grid_auto_rows": null,
            "grid_column": null,
            "grid_gap": null,
            "grid_row": null,
            "grid_template_areas": null,
            "grid_template_columns": null,
            "grid_template_rows": null,
            "height": null,
            "justify_content": null,
            "justify_items": null,
            "left": null,
            "margin": null,
            "max_height": null,
            "max_width": null,
            "min_height": null,
            "min_width": null,
            "object_fit": null,
            "object_position": null,
            "order": null,
            "overflow": null,
            "overflow_x": null,
            "overflow_y": null,
            "padding": null,
            "right": null,
            "top": null,
            "visibility": null,
            "width": null
          }
        },
        "b610d8375c1f4f4bb3d2e629a8dfd3e2": {
          "model_module": "@jupyter-widgets/base",
          "model_name": "LayoutModel",
          "model_module_version": "1.2.0",
          "state": {
            "_model_module": "@jupyter-widgets/base",
            "_model_module_version": "1.2.0",
            "_model_name": "LayoutModel",
            "_view_count": null,
            "_view_module": "@jupyter-widgets/base",
            "_view_module_version": "1.2.0",
            "_view_name": "LayoutView",
            "align_content": null,
            "align_items": null,
            "align_self": null,
            "border": null,
            "bottom": null,
            "display": null,
            "flex": null,
            "flex_flow": null,
            "grid_area": null,
            "grid_auto_columns": null,
            "grid_auto_flow": null,
            "grid_auto_rows": null,
            "grid_column": null,
            "grid_gap": null,
            "grid_row": null,
            "grid_template_areas": null,
            "grid_template_columns": null,
            "grid_template_rows": null,
            "height": null,
            "justify_content": null,
            "justify_items": null,
            "left": null,
            "margin": null,
            "max_height": null,
            "max_width": null,
            "min_height": null,
            "min_width": null,
            "object_fit": null,
            "object_position": null,
            "order": null,
            "overflow": null,
            "overflow_x": null,
            "overflow_y": null,
            "padding": null,
            "right": null,
            "top": null,
            "visibility": null,
            "width": null
          }
        },
        "5012f724862e4ac197aee316b93ba97f": {
          "model_module": "@jupyter-widgets/controls",
          "model_name": "DescriptionStyleModel",
          "model_module_version": "1.5.0",
          "state": {
            "_model_module": "@jupyter-widgets/controls",
            "_model_module_version": "1.5.0",
            "_model_name": "DescriptionStyleModel",
            "_view_count": null,
            "_view_module": "@jupyter-widgets/base",
            "_view_module_version": "1.2.0",
            "_view_name": "StyleView",
            "description_width": ""
          }
        },
        "cd62271068144ca59c46745e2760d98c": {
          "model_module": "@jupyter-widgets/base",
          "model_name": "LayoutModel",
          "model_module_version": "1.2.0",
          "state": {
            "_model_module": "@jupyter-widgets/base",
            "_model_module_version": "1.2.0",
            "_model_name": "LayoutModel",
            "_view_count": null,
            "_view_module": "@jupyter-widgets/base",
            "_view_module_version": "1.2.0",
            "_view_name": "LayoutView",
            "align_content": null,
            "align_items": null,
            "align_self": null,
            "border": null,
            "bottom": null,
            "display": null,
            "flex": null,
            "flex_flow": null,
            "grid_area": null,
            "grid_auto_columns": null,
            "grid_auto_flow": null,
            "grid_auto_rows": null,
            "grid_column": null,
            "grid_gap": null,
            "grid_row": null,
            "grid_template_areas": null,
            "grid_template_columns": null,
            "grid_template_rows": null,
            "height": null,
            "justify_content": null,
            "justify_items": null,
            "left": null,
            "margin": null,
            "max_height": null,
            "max_width": null,
            "min_height": null,
            "min_width": null,
            "object_fit": null,
            "object_position": null,
            "order": null,
            "overflow": null,
            "overflow_x": null,
            "overflow_y": null,
            "padding": null,
            "right": null,
            "top": null,
            "visibility": null,
            "width": null
          }
        },
        "2107fff2a17945048dae175c392b7d94": {
          "model_module": "@jupyter-widgets/controls",
          "model_name": "ProgressStyleModel",
          "model_module_version": "1.5.0",
          "state": {
            "_model_module": "@jupyter-widgets/controls",
            "_model_module_version": "1.5.0",
            "_model_name": "ProgressStyleModel",
            "_view_count": null,
            "_view_module": "@jupyter-widgets/base",
            "_view_module_version": "1.2.0",
            "_view_name": "StyleView",
            "bar_color": null,
            "description_width": ""
          }
        },
        "f96a107dbb25434fbf6943006ace3af1": {
          "model_module": "@jupyter-widgets/base",
          "model_name": "LayoutModel",
          "model_module_version": "1.2.0",
          "state": {
            "_model_module": "@jupyter-widgets/base",
            "_model_module_version": "1.2.0",
            "_model_name": "LayoutModel",
            "_view_count": null,
            "_view_module": "@jupyter-widgets/base",
            "_view_module_version": "1.2.0",
            "_view_name": "LayoutView",
            "align_content": null,
            "align_items": null,
            "align_self": null,
            "border": null,
            "bottom": null,
            "display": null,
            "flex": null,
            "flex_flow": null,
            "grid_area": null,
            "grid_auto_columns": null,
            "grid_auto_flow": null,
            "grid_auto_rows": null,
            "grid_column": null,
            "grid_gap": null,
            "grid_row": null,
            "grid_template_areas": null,
            "grid_template_columns": null,
            "grid_template_rows": null,
            "height": null,
            "justify_content": null,
            "justify_items": null,
            "left": null,
            "margin": null,
            "max_height": null,
            "max_width": null,
            "min_height": null,
            "min_width": null,
            "object_fit": null,
            "object_position": null,
            "order": null,
            "overflow": null,
            "overflow_x": null,
            "overflow_y": null,
            "padding": null,
            "right": null,
            "top": null,
            "visibility": null,
            "width": null
          }
        },
        "34add2df9b634271a577e01618f58f43": {
          "model_module": "@jupyter-widgets/controls",
          "model_name": "DescriptionStyleModel",
          "model_module_version": "1.5.0",
          "state": {
            "_model_module": "@jupyter-widgets/controls",
            "_model_module_version": "1.5.0",
            "_model_name": "DescriptionStyleModel",
            "_view_count": null,
            "_view_module": "@jupyter-widgets/base",
            "_view_module_version": "1.2.0",
            "_view_name": "StyleView",
            "description_width": ""
          }
        }
      }
    }
  },
  "cells": [
    {
      "cell_type": "markdown",
      "metadata": {
        "id": "view-in-github",
        "colab_type": "text"
      },
      "source": [
        "<a href=\"https://colab.research.google.com/github/Gcango/Projecto_3/blob/main/Analise_Vendas.ipynb\" target=\"_parent\"><img src=\"https://colab.research.google.com/assets/colab-badge.svg\" alt=\"Open In Colab\"/></a>"
      ]
    },
    {
      "cell_type": "markdown",
      "source": [
        "A abordagem aplicada a este conjunto de dados extraidos de uma base BD ad Empresa Yetuki Lda, relacionada com vendas de produtos diversos, permitiu a compreensão mais profunda dos fatores que influenciam a demanda neste estlablecimento bem como  forneceu informações valiosas para orientar as estratégias para as melhores tomadas de decisão. Este projecto adotou a seguinte metodologia:\n",
        "Coleta de Dados: Reunir dados históricos de vendas, produtos e outros;\n",
        "Análise Exploratória: Explorar os dados para entender as distribuições, tendências e possíveis relações entre as variáveis.\n",
        "Interpretação dos Resultados: Interpretar os coeficientes de regressão para entender o impacto relativo de cada variável independente sobre as vendas.\n",
        "Tomada de Decisão: Utilizar os insights obtidos para tomar decisões estratégicas relacionadas à precificação, estratégias da Yetuki, visando maximizar as vendas e o desempenho geral do negócio."
      ],
      "metadata": {
        "id": "O7P-9uVqoMY4"
      }
    },
    {
      "cell_type": "code",
      "execution_count": 102,
      "metadata": {
        "colab": {
          "base_uri": "https://localhost:8080/"
        },
        "id": "5BMt65VkE8vD",
        "outputId": "bbad213b-095a-4c6a-8e62-b96ba23cff2c"
      },
      "outputs": [
        {
          "output_type": "stream",
          "name": "stdout",
          "text": [
            "Collecting ydata_profiling[notebook]\n",
            "  Downloading ydata_profiling-4.7.0-py2.py3-none-any.whl (357 kB)\n",
            "\u001b[2K     \u001b[90m━━━━━━━━━━━━━━━━━━━━━━━━━━━━━━━━━━━━━━━━\u001b[0m \u001b[32m357.9/357.9 kB\u001b[0m \u001b[31m4.8 MB/s\u001b[0m eta \u001b[36m0:00:00\u001b[0m\n",
            "\u001b[?25hRequirement already satisfied: scipy<1.12,>=1.4.1 in /usr/local/lib/python3.10/dist-packages (from ydata_profiling[notebook]) (1.11.4)\n",
            "Requirement already satisfied: pandas!=1.4.0,<3,>1.1 in /usr/local/lib/python3.10/dist-packages (from ydata_profiling[notebook]) (2.0.3)\n",
            "Requirement already satisfied: matplotlib<3.9,>=3.2 in /usr/local/lib/python3.10/dist-packages (from ydata_profiling[notebook]) (3.7.1)\n",
            "Requirement already satisfied: pydantic>=2 in /usr/local/lib/python3.10/dist-packages (from ydata_profiling[notebook]) (2.6.4)\n",
            "Requirement already satisfied: PyYAML<6.1,>=5.0.0 in /usr/local/lib/python3.10/dist-packages (from ydata_profiling[notebook]) (6.0.1)\n",
            "Requirement already satisfied: jinja2<3.2,>=2.11.1 in /usr/local/lib/python3.10/dist-packages (from ydata_profiling[notebook]) (3.1.3)\n",
            "Collecting visions[type_image_path]<0.7.7,>=0.7.5 (from ydata_profiling[notebook])\n",
            "  Downloading visions-0.7.6-py3-none-any.whl (104 kB)\n",
            "\u001b[2K     \u001b[90m━━━━━━━━━━━━━━━━━━━━━━━━━━━━━━━━━━━━━━━━\u001b[0m \u001b[32m104.8/104.8 kB\u001b[0m \u001b[31m6.2 MB/s\u001b[0m eta \u001b[36m0:00:00\u001b[0m\n",
            "\u001b[?25hRequirement already satisfied: numpy<2,>=1.16.0 in /usr/local/lib/python3.10/dist-packages (from ydata_profiling[notebook]) (1.25.2)\n",
            "Collecting htmlmin==0.1.12 (from ydata_profiling[notebook])\n",
            "  Downloading htmlmin-0.1.12.tar.gz (19 kB)\n",
            "  Preparing metadata (setup.py) ... \u001b[?25l\u001b[?25hdone\n",
            "Collecting phik<0.13,>=0.11.1 (from ydata_profiling[notebook])\n",
            "  Downloading phik-0.12.4-cp310-cp310-manylinux_2_17_x86_64.manylinux2014_x86_64.whl (686 kB)\n",
            "\u001b[2K     \u001b[90m━━━━━━━━━━━━━━━━━━━━━━━━━━━━━━━━━━━━━━━━\u001b[0m \u001b[32m686.1/686.1 kB\u001b[0m \u001b[31m11.7 MB/s\u001b[0m eta \u001b[36m0:00:00\u001b[0m\n",
            "\u001b[?25hRequirement already satisfied: requests<3,>=2.24.0 in /usr/local/lib/python3.10/dist-packages (from ydata_profiling[notebook]) (2.31.0)\n",
            "Requirement already satisfied: tqdm<5,>=4.48.2 in /usr/local/lib/python3.10/dist-packages (from ydata_profiling[notebook]) (4.66.2)\n",
            "Collecting seaborn<0.13,>=0.10.1 (from ydata_profiling[notebook])\n",
            "  Downloading seaborn-0.12.2-py3-none-any.whl (293 kB)\n",
            "\u001b[2K     \u001b[90m━━━━━━━━━━━━━━━━━━━━━━━━━━━━━━━━━━━━━━━━\u001b[0m \u001b[32m293.3/293.3 kB\u001b[0m \u001b[31m13.6 MB/s\u001b[0m eta \u001b[36m0:00:00\u001b[0m\n",
            "\u001b[?25hCollecting multimethod<2,>=1.4 (from ydata_profiling[notebook])\n",
            "  Downloading multimethod-1.11.2-py3-none-any.whl (10 kB)\n",
            "Requirement already satisfied: statsmodels<1,>=0.13.2 in /usr/local/lib/python3.10/dist-packages (from ydata_profiling[notebook]) (0.14.1)\n",
            "Collecting typeguard<5,>=4.1.2 (from ydata_profiling[notebook])\n",
            "  Downloading typeguard-4.2.1-py3-none-any.whl (34 kB)\n",
            "Collecting imagehash==4.3.1 (from ydata_profiling[notebook])\n",
            "  Downloading ImageHash-4.3.1-py2.py3-none-any.whl (296 kB)\n",
            "\u001b[2K     \u001b[90m━━━━━━━━━━━━━━━━━━━━━━━━━━━━━━━━━━━━━━━━\u001b[0m \u001b[32m296.5/296.5 kB\u001b[0m \u001b[31m17.2 MB/s\u001b[0m eta \u001b[36m0:00:00\u001b[0m\n",
            "\u001b[?25hRequirement already satisfied: wordcloud>=1.9.1 in /usr/local/lib/python3.10/dist-packages (from ydata_profiling[notebook]) (1.9.3)\n",
            "Collecting dacite>=1.8 (from ydata_profiling[notebook])\n",
            "  Downloading dacite-1.8.1-py3-none-any.whl (14 kB)\n",
            "Requirement already satisfied: numba<1,>=0.56.0 in /usr/local/lib/python3.10/dist-packages (from ydata_profiling[notebook]) (0.58.1)\n",
            "Requirement already satisfied: jupyter-client>=5.3.4 in /usr/local/lib/python3.10/dist-packages (from ydata_profiling[notebook]) (6.1.12)\n",
            "Requirement already satisfied: jupyter-core>=4.6.3 in /usr/local/lib/python3.10/dist-packages (from ydata_profiling[notebook]) (5.7.2)\n",
            "Requirement already satisfied: ipywidgets>=7.5.1 in /usr/local/lib/python3.10/dist-packages (from ydata_profiling[notebook]) (7.7.1)\n",
            "Requirement already satisfied: PyWavelets in /usr/local/lib/python3.10/dist-packages (from imagehash==4.3.1->ydata_profiling[notebook]) (1.6.0)\n",
            "Requirement already satisfied: pillow in /usr/local/lib/python3.10/dist-packages (from imagehash==4.3.1->ydata_profiling[notebook]) (9.4.0)\n",
            "Requirement already satisfied: ipykernel>=4.5.1 in /usr/local/lib/python3.10/dist-packages (from ipywidgets>=7.5.1->ydata_profiling[notebook]) (5.5.6)\n",
            "Requirement already satisfied: ipython-genutils~=0.2.0 in /usr/local/lib/python3.10/dist-packages (from ipywidgets>=7.5.1->ydata_profiling[notebook]) (0.2.0)\n",
            "Requirement already satisfied: traitlets>=4.3.1 in /usr/local/lib/python3.10/dist-packages (from ipywidgets>=7.5.1->ydata_profiling[notebook]) (5.7.1)\n",
            "Requirement already satisfied: widgetsnbextension~=3.6.0 in /usr/local/lib/python3.10/dist-packages (from ipywidgets>=7.5.1->ydata_profiling[notebook]) (3.6.6)\n",
            "Requirement already satisfied: ipython>=4.0.0 in /usr/local/lib/python3.10/dist-packages (from ipywidgets>=7.5.1->ydata_profiling[notebook]) (7.34.0)\n",
            "Requirement already satisfied: jupyterlab-widgets>=1.0.0 in /usr/local/lib/python3.10/dist-packages (from ipywidgets>=7.5.1->ydata_profiling[notebook]) (3.0.10)\n",
            "Requirement already satisfied: MarkupSafe>=2.0 in /usr/local/lib/python3.10/dist-packages (from jinja2<3.2,>=2.11.1->ydata_profiling[notebook]) (2.1.5)\n",
            "Requirement already satisfied: pyzmq>=13 in /usr/local/lib/python3.10/dist-packages (from jupyter-client>=5.3.4->ydata_profiling[notebook]) (23.2.1)\n",
            "Requirement already satisfied: python-dateutil>=2.1 in /usr/local/lib/python3.10/dist-packages (from jupyter-client>=5.3.4->ydata_profiling[notebook]) (2.8.2)\n",
            "Requirement already satisfied: tornado>=4.1 in /usr/local/lib/python3.10/dist-packages (from jupyter-client>=5.3.4->ydata_profiling[notebook]) (6.3.3)\n",
            "Requirement already satisfied: platformdirs>=2.5 in /usr/local/lib/python3.10/dist-packages (from jupyter-core>=4.6.3->ydata_profiling[notebook]) (4.2.0)\n",
            "Requirement already satisfied: contourpy>=1.0.1 in /usr/local/lib/python3.10/dist-packages (from matplotlib<3.9,>=3.2->ydata_profiling[notebook]) (1.2.1)\n",
            "Requirement already satisfied: cycler>=0.10 in /usr/local/lib/python3.10/dist-packages (from matplotlib<3.9,>=3.2->ydata_profiling[notebook]) (0.12.1)\n",
            "Requirement already satisfied: fonttools>=4.22.0 in /usr/local/lib/python3.10/dist-packages (from matplotlib<3.9,>=3.2->ydata_profiling[notebook]) (4.50.0)\n",
            "Requirement already satisfied: kiwisolver>=1.0.1 in /usr/local/lib/python3.10/dist-packages (from matplotlib<3.9,>=3.2->ydata_profiling[notebook]) (1.4.5)\n",
            "Requirement already satisfied: packaging>=20.0 in /usr/local/lib/python3.10/dist-packages (from matplotlib<3.9,>=3.2->ydata_profiling[notebook]) (24.0)\n",
            "Requirement already satisfied: pyparsing>=2.3.1 in /usr/local/lib/python3.10/dist-packages (from matplotlib<3.9,>=3.2->ydata_profiling[notebook]) (3.1.2)\n",
            "Requirement already satisfied: llvmlite<0.42,>=0.41.0dev0 in /usr/local/lib/python3.10/dist-packages (from numba<1,>=0.56.0->ydata_profiling[notebook]) (0.41.1)\n",
            "Requirement already satisfied: pytz>=2020.1 in /usr/local/lib/python3.10/dist-packages (from pandas!=1.4.0,<3,>1.1->ydata_profiling[notebook]) (2023.4)\n",
            "Requirement already satisfied: tzdata>=2022.1 in /usr/local/lib/python3.10/dist-packages (from pandas!=1.4.0,<3,>1.1->ydata_profiling[notebook]) (2024.1)\n",
            "Requirement already satisfied: joblib>=0.14.1 in /usr/local/lib/python3.10/dist-packages (from phik<0.13,>=0.11.1->ydata_profiling[notebook]) (1.3.2)\n",
            "Requirement already satisfied: annotated-types>=0.4.0 in /usr/local/lib/python3.10/dist-packages (from pydantic>=2->ydata_profiling[notebook]) (0.6.0)\n",
            "Requirement already satisfied: pydantic-core==2.16.3 in /usr/local/lib/python3.10/dist-packages (from pydantic>=2->ydata_profiling[notebook]) (2.16.3)\n",
            "Requirement already satisfied: typing-extensions>=4.6.1 in /usr/local/lib/python3.10/dist-packages (from pydantic>=2->ydata_profiling[notebook]) (4.10.0)\n",
            "Requirement already satisfied: charset-normalizer<4,>=2 in /usr/local/lib/python3.10/dist-packages (from requests<3,>=2.24.0->ydata_profiling[notebook]) (3.3.2)\n",
            "Requirement already satisfied: idna<4,>=2.5 in /usr/local/lib/python3.10/dist-packages (from requests<3,>=2.24.0->ydata_profiling[notebook]) (3.6)\n",
            "Requirement already satisfied: urllib3<3,>=1.21.1 in /usr/local/lib/python3.10/dist-packages (from requests<3,>=2.24.0->ydata_profiling[notebook]) (2.0.7)\n",
            "Requirement already satisfied: certifi>=2017.4.17 in /usr/local/lib/python3.10/dist-packages (from requests<3,>=2.24.0->ydata_profiling[notebook]) (2024.2.2)\n",
            "Requirement already satisfied: patsy>=0.5.4 in /usr/local/lib/python3.10/dist-packages (from statsmodels<1,>=0.13.2->ydata_profiling[notebook]) (0.5.6)\n",
            "Requirement already satisfied: attrs>=19.3.0 in /usr/local/lib/python3.10/dist-packages (from visions[type_image_path]<0.7.7,>=0.7.5->ydata_profiling[notebook]) (23.2.0)\n",
            "Requirement already satisfied: networkx>=2.4 in /usr/local/lib/python3.10/dist-packages (from visions[type_image_path]<0.7.7,>=0.7.5->ydata_profiling[notebook]) (3.2.1)\n",
            "Requirement already satisfied: setuptools>=18.5 in /usr/local/lib/python3.10/dist-packages (from ipython>=4.0.0->ipywidgets>=7.5.1->ydata_profiling[notebook]) (67.7.2)\n",
            "Collecting jedi>=0.16 (from ipython>=4.0.0->ipywidgets>=7.5.1->ydata_profiling[notebook])\n",
            "  Downloading jedi-0.19.1-py2.py3-none-any.whl (1.6 MB)\n",
            "\u001b[2K     \u001b[90m━━━━━━━━━━━━━━━━━━━━━━━━━━━━━━━━━━━━━━━━\u001b[0m \u001b[32m1.6/1.6 MB\u001b[0m \u001b[31m21.1 MB/s\u001b[0m eta \u001b[36m0:00:00\u001b[0m\n",
            "\u001b[?25hRequirement already satisfied: decorator in /usr/local/lib/python3.10/dist-packages (from ipython>=4.0.0->ipywidgets>=7.5.1->ydata_profiling[notebook]) (4.4.2)\n",
            "Requirement already satisfied: pickleshare in /usr/local/lib/python3.10/dist-packages (from ipython>=4.0.0->ipywidgets>=7.5.1->ydata_profiling[notebook]) (0.7.5)\n",
            "Requirement already satisfied: prompt-toolkit!=3.0.0,!=3.0.1,<3.1.0,>=2.0.0 in /usr/local/lib/python3.10/dist-packages (from ipython>=4.0.0->ipywidgets>=7.5.1->ydata_profiling[notebook]) (3.0.43)\n",
            "Requirement already satisfied: pygments in /usr/local/lib/python3.10/dist-packages (from ipython>=4.0.0->ipywidgets>=7.5.1->ydata_profiling[notebook]) (2.16.1)\n",
            "Requirement already satisfied: backcall in /usr/local/lib/python3.10/dist-packages (from ipython>=4.0.0->ipywidgets>=7.5.1->ydata_profiling[notebook]) (0.2.0)\n",
            "Requirement already satisfied: matplotlib-inline in /usr/local/lib/python3.10/dist-packages (from ipython>=4.0.0->ipywidgets>=7.5.1->ydata_profiling[notebook]) (0.1.6)\n",
            "Requirement already satisfied: pexpect>4.3 in /usr/local/lib/python3.10/dist-packages (from ipython>=4.0.0->ipywidgets>=7.5.1->ydata_profiling[notebook]) (4.9.0)\n",
            "Requirement already satisfied: six in /usr/local/lib/python3.10/dist-packages (from patsy>=0.5.4->statsmodels<1,>=0.13.2->ydata_profiling[notebook]) (1.16.0)\n",
            "Requirement already satisfied: notebook>=4.4.1 in /usr/local/lib/python3.10/dist-packages (from widgetsnbextension~=3.6.0->ipywidgets>=7.5.1->ydata_profiling[notebook]) (6.5.5)\n",
            "Requirement already satisfied: parso<0.9.0,>=0.8.3 in /usr/local/lib/python3.10/dist-packages (from jedi>=0.16->ipython>=4.0.0->ipywidgets>=7.5.1->ydata_profiling[notebook]) (0.8.3)\n",
            "Requirement already satisfied: argon2-cffi in /usr/local/lib/python3.10/dist-packages (from notebook>=4.4.1->widgetsnbextension~=3.6.0->ipywidgets>=7.5.1->ydata_profiling[notebook]) (23.1.0)\n",
            "Requirement already satisfied: nbformat in /usr/local/lib/python3.10/dist-packages (from notebook>=4.4.1->widgetsnbextension~=3.6.0->ipywidgets>=7.5.1->ydata_profiling[notebook]) (5.10.3)\n",
            "Requirement already satisfied: nbconvert>=5 in /usr/local/lib/python3.10/dist-packages (from notebook>=4.4.1->widgetsnbextension~=3.6.0->ipywidgets>=7.5.1->ydata_profiling[notebook]) (6.5.4)\n",
            "Requirement already satisfied: nest-asyncio>=1.5 in /usr/local/lib/python3.10/dist-packages (from notebook>=4.4.1->widgetsnbextension~=3.6.0->ipywidgets>=7.5.1->ydata_profiling[notebook]) (1.6.0)\n",
            "Requirement already satisfied: Send2Trash>=1.8.0 in /usr/local/lib/python3.10/dist-packages (from notebook>=4.4.1->widgetsnbextension~=3.6.0->ipywidgets>=7.5.1->ydata_profiling[notebook]) (1.8.2)\n",
            "Requirement already satisfied: terminado>=0.8.3 in /usr/local/lib/python3.10/dist-packages (from notebook>=4.4.1->widgetsnbextension~=3.6.0->ipywidgets>=7.5.1->ydata_profiling[notebook]) (0.18.1)\n",
            "Requirement already satisfied: prometheus-client in /usr/local/lib/python3.10/dist-packages (from notebook>=4.4.1->widgetsnbextension~=3.6.0->ipywidgets>=7.5.1->ydata_profiling[notebook]) (0.20.0)\n",
            "Requirement already satisfied: nbclassic>=0.4.7 in /usr/local/lib/python3.10/dist-packages (from notebook>=4.4.1->widgetsnbextension~=3.6.0->ipywidgets>=7.5.1->ydata_profiling[notebook]) (1.0.0)\n",
            "Requirement already satisfied: ptyprocess>=0.5 in /usr/local/lib/python3.10/dist-packages (from pexpect>4.3->ipython>=4.0.0->ipywidgets>=7.5.1->ydata_profiling[notebook]) (0.7.0)\n",
            "Requirement already satisfied: wcwidth in /usr/local/lib/python3.10/dist-packages (from prompt-toolkit!=3.0.0,!=3.0.1,<3.1.0,>=2.0.0->ipython>=4.0.0->ipywidgets>=7.5.1->ydata_profiling[notebook]) (0.2.13)\n",
            "Requirement already satisfied: jupyter-server>=1.8 in /usr/local/lib/python3.10/dist-packages (from nbclassic>=0.4.7->notebook>=4.4.1->widgetsnbextension~=3.6.0->ipywidgets>=7.5.1->ydata_profiling[notebook]) (1.24.0)\n",
            "Requirement already satisfied: notebook-shim>=0.2.3 in /usr/local/lib/python3.10/dist-packages (from nbclassic>=0.4.7->notebook>=4.4.1->widgetsnbextension~=3.6.0->ipywidgets>=7.5.1->ydata_profiling[notebook]) (0.2.4)\n",
            "Requirement already satisfied: lxml in /usr/local/lib/python3.10/dist-packages (from nbconvert>=5->notebook>=4.4.1->widgetsnbextension~=3.6.0->ipywidgets>=7.5.1->ydata_profiling[notebook]) (4.9.4)\n",
            "Requirement already satisfied: beautifulsoup4 in /usr/local/lib/python3.10/dist-packages (from nbconvert>=5->notebook>=4.4.1->widgetsnbextension~=3.6.0->ipywidgets>=7.5.1->ydata_profiling[notebook]) (4.12.3)\n",
            "Requirement already satisfied: bleach in /usr/local/lib/python3.10/dist-packages (from nbconvert>=5->notebook>=4.4.1->widgetsnbextension~=3.6.0->ipywidgets>=7.5.1->ydata_profiling[notebook]) (6.1.0)\n",
            "Requirement already satisfied: defusedxml in /usr/local/lib/python3.10/dist-packages (from nbconvert>=5->notebook>=4.4.1->widgetsnbextension~=3.6.0->ipywidgets>=7.5.1->ydata_profiling[notebook]) (0.7.1)\n",
            "Requirement already satisfied: entrypoints>=0.2.2 in /usr/local/lib/python3.10/dist-packages (from nbconvert>=5->notebook>=4.4.1->widgetsnbextension~=3.6.0->ipywidgets>=7.5.1->ydata_profiling[notebook]) (0.4)\n",
            "Requirement already satisfied: jupyterlab-pygments in /usr/local/lib/python3.10/dist-packages (from nbconvert>=5->notebook>=4.4.1->widgetsnbextension~=3.6.0->ipywidgets>=7.5.1->ydata_profiling[notebook]) (0.3.0)\n",
            "Requirement already satisfied: mistune<2,>=0.8.1 in /usr/local/lib/python3.10/dist-packages (from nbconvert>=5->notebook>=4.4.1->widgetsnbextension~=3.6.0->ipywidgets>=7.5.1->ydata_profiling[notebook]) (0.8.4)\n",
            "Requirement already satisfied: nbclient>=0.5.0 in /usr/local/lib/python3.10/dist-packages (from nbconvert>=5->notebook>=4.4.1->widgetsnbextension~=3.6.0->ipywidgets>=7.5.1->ydata_profiling[notebook]) (0.10.0)\n",
            "Requirement already satisfied: pandocfilters>=1.4.1 in /usr/local/lib/python3.10/dist-packages (from nbconvert>=5->notebook>=4.4.1->widgetsnbextension~=3.6.0->ipywidgets>=7.5.1->ydata_profiling[notebook]) (1.5.1)\n",
            "Requirement already satisfied: tinycss2 in /usr/local/lib/python3.10/dist-packages (from nbconvert>=5->notebook>=4.4.1->widgetsnbextension~=3.6.0->ipywidgets>=7.5.1->ydata_profiling[notebook]) (1.2.1)\n",
            "Requirement already satisfied: fastjsonschema in /usr/local/lib/python3.10/dist-packages (from nbformat->notebook>=4.4.1->widgetsnbextension~=3.6.0->ipywidgets>=7.5.1->ydata_profiling[notebook]) (2.19.1)\n",
            "Requirement already satisfied: jsonschema>=2.6 in /usr/local/lib/python3.10/dist-packages (from nbformat->notebook>=4.4.1->widgetsnbextension~=3.6.0->ipywidgets>=7.5.1->ydata_profiling[notebook]) (4.19.2)\n",
            "Requirement already satisfied: argon2-cffi-bindings in /usr/local/lib/python3.10/dist-packages (from argon2-cffi->notebook>=4.4.1->widgetsnbextension~=3.6.0->ipywidgets>=7.5.1->ydata_profiling[notebook]) (21.2.0)\n",
            "Requirement already satisfied: jsonschema-specifications>=2023.03.6 in /usr/local/lib/python3.10/dist-packages (from jsonschema>=2.6->nbformat->notebook>=4.4.1->widgetsnbextension~=3.6.0->ipywidgets>=7.5.1->ydata_profiling[notebook]) (2023.12.1)\n",
            "Requirement already satisfied: referencing>=0.28.4 in /usr/local/lib/python3.10/dist-packages (from jsonschema>=2.6->nbformat->notebook>=4.4.1->widgetsnbextension~=3.6.0->ipywidgets>=7.5.1->ydata_profiling[notebook]) (0.34.0)\n",
            "Requirement already satisfied: rpds-py>=0.7.1 in /usr/local/lib/python3.10/dist-packages (from jsonschema>=2.6->nbformat->notebook>=4.4.1->widgetsnbextension~=3.6.0->ipywidgets>=7.5.1->ydata_profiling[notebook]) (0.18.0)\n",
            "Requirement already satisfied: anyio<4,>=3.1.0 in /usr/local/lib/python3.10/dist-packages (from jupyter-server>=1.8->nbclassic>=0.4.7->notebook>=4.4.1->widgetsnbextension~=3.6.0->ipywidgets>=7.5.1->ydata_profiling[notebook]) (3.7.1)\n",
            "Requirement already satisfied: websocket-client in /usr/local/lib/python3.10/dist-packages (from jupyter-server>=1.8->nbclassic>=0.4.7->notebook>=4.4.1->widgetsnbextension~=3.6.0->ipywidgets>=7.5.1->ydata_profiling[notebook]) (1.7.0)\n",
            "Requirement already satisfied: cffi>=1.0.1 in /usr/local/lib/python3.10/dist-packages (from argon2-cffi-bindings->argon2-cffi->notebook>=4.4.1->widgetsnbextension~=3.6.0->ipywidgets>=7.5.1->ydata_profiling[notebook]) (1.16.0)\n",
            "Requirement already satisfied: soupsieve>1.2 in /usr/local/lib/python3.10/dist-packages (from beautifulsoup4->nbconvert>=5->notebook>=4.4.1->widgetsnbextension~=3.6.0->ipywidgets>=7.5.1->ydata_profiling[notebook]) (2.5)\n",
            "Requirement already satisfied: webencodings in /usr/local/lib/python3.10/dist-packages (from bleach->nbconvert>=5->notebook>=4.4.1->widgetsnbextension~=3.6.0->ipywidgets>=7.5.1->ydata_profiling[notebook]) (0.5.1)\n",
            "Requirement already satisfied: sniffio>=1.1 in /usr/local/lib/python3.10/dist-packages (from anyio<4,>=3.1.0->jupyter-server>=1.8->nbclassic>=0.4.7->notebook>=4.4.1->widgetsnbextension~=3.6.0->ipywidgets>=7.5.1->ydata_profiling[notebook]) (1.3.1)\n",
            "Requirement already satisfied: exceptiongroup in /usr/local/lib/python3.10/dist-packages (from anyio<4,>=3.1.0->jupyter-server>=1.8->nbclassic>=0.4.7->notebook>=4.4.1->widgetsnbextension~=3.6.0->ipywidgets>=7.5.1->ydata_profiling[notebook]) (1.2.0)\n",
            "Requirement already satisfied: pycparser in /usr/local/lib/python3.10/dist-packages (from cffi>=1.0.1->argon2-cffi-bindings->argon2-cffi->notebook>=4.4.1->widgetsnbextension~=3.6.0->ipywidgets>=7.5.1->ydata_profiling[notebook]) (2.22)\n",
            "Building wheels for collected packages: htmlmin\n",
            "  Building wheel for htmlmin (setup.py) ... \u001b[?25l\u001b[?25hdone\n",
            "  Created wheel for htmlmin: filename=htmlmin-0.1.12-py3-none-any.whl size=27080 sha256=43f06c5d46a35183521369451c800e6dd86f9e74ba9998cf74378d1bdff6dab2\n",
            "  Stored in directory: /root/.cache/pip/wheels/dd/91/29/a79cecb328d01739e64017b6fb9a1ab9d8cb1853098ec5966d\n",
            "Successfully built htmlmin\n",
            "Installing collected packages: htmlmin, typeguard, multimethod, jedi, dacite, imagehash, visions, seaborn, phik, ydata_profiling\n",
            "  Attempting uninstall: seaborn\n",
            "    Found existing installation: seaborn 0.13.1\n",
            "    Uninstalling seaborn-0.13.1:\n",
            "      Successfully uninstalled seaborn-0.13.1\n",
            "Successfully installed dacite-1.8.1 htmlmin-0.1.12 imagehash-4.3.1 jedi-0.19.1 multimethod-1.11.2 phik-0.12.4 seaborn-0.12.2 typeguard-4.2.1 visions-0.7.6 ydata_profiling-4.7.0\n"
          ]
        }
      ],
      "source": [
        "!pip install -U ydata_profiling[notebook]"
      ]
    },
    {
      "cell_type": "code",
      "source": [
        "import pandas as pd\n",
        "import numpy as np\n",
        "import seaborn as sns\n",
        "import matplotlib.pyplot as plt\n",
        "from ydata_profiling import ProfileReport"
      ],
      "metadata": {
        "id": "9iQy3jN_FD7f"
      },
      "execution_count": 103,
      "outputs": []
    },
    {
      "cell_type": "code",
      "source": [
        "dados = pd.read_excel(\"/content/Base_de_dados.xlsx\")"
      ],
      "metadata": {
        "id": "WB3s0sxDFD-H"
      },
      "execution_count": 2,
      "outputs": []
    },
    {
      "cell_type": "code",
      "source": [
        "dados.head()"
      ],
      "metadata": {
        "colab": {
          "base_uri": "https://localhost:8080/",
          "height": 486
        },
        "id": "oAMfYCN_FEAS",
        "outputId": "52a96a59-c859-47d6-df6a-fa4ece67e97e"
      },
      "execution_count": 3,
      "outputs": [
        {
          "output_type": "execute_result",
          "data": {
            "text/plain": [
              "  SalesOrderNumber                    OrderDate  ProductKey  ResellerKey  \\\n",
              "0          SO43897      Friday, August 25, 2017         235          312   \n",
              "1          SO43897      Friday, August 25, 2017         351          312   \n",
              "2          SO43897      Friday, August 25, 2017         348          312   \n",
              "3          SO43897      Friday, August 25, 2017         232          312   \n",
              "4          SO44544  Saturday, November 18, 2017         292          312   \n",
              "\n",
              "   EmployeeKey  SalesTerritoryKey  Quantity  Unit Price    Sales     Cost  \\\n",
              "0          282                  4         2       28.84    57.68    63.45   \n",
              "1          282                  4         2     2024.99  4049.98  3796.19   \n",
              "2          282                  4         2     2024.99  4049.98  3796.19   \n",
              "3          282                  4         2       28.84    57.68    63.45   \n",
              "4          282                  4         2      818.70  1637.40  1413.62   \n",
              "\n",
              "         Country      Continent                         Product   Color  \\\n",
              "0  United States  North America     Long-Sleeve Logo Jersey, XL   Multi   \n",
              "1  United States  North America          Mountain-100 Black, 48   Black   \n",
              "2  United States  North America          Mountain-100 Black, 38   Black   \n",
              "3  United States  North America      Long-Sleeve Logo Jersey, L   Multi   \n",
              "4  United States  North America  HL Mountain Frame - Silver, 48  Silver   \n",
              "\n",
              "       Subcategory    Category  \n",
              "0          Jerseys    Clothing  \n",
              "1   Mountain Bikes       Bikes  \n",
              "2   Mountain Bikes       Bikes  \n",
              "3          Jerseys    Clothing  \n",
              "4  Mountain Frames  Components  "
            ],
            "text/html": [
              "\n",
              "  <div id=\"df-92ae4c52-d11c-4f16-a4e5-2f455af3fd9f\" class=\"colab-df-container\">\n",
              "    <div>\n",
              "<style scoped>\n",
              "    .dataframe tbody tr th:only-of-type {\n",
              "        vertical-align: middle;\n",
              "    }\n",
              "\n",
              "    .dataframe tbody tr th {\n",
              "        vertical-align: top;\n",
              "    }\n",
              "\n",
              "    .dataframe thead th {\n",
              "        text-align: right;\n",
              "    }\n",
              "</style>\n",
              "<table border=\"1\" class=\"dataframe\">\n",
              "  <thead>\n",
              "    <tr style=\"text-align: right;\">\n",
              "      <th></th>\n",
              "      <th>SalesOrderNumber</th>\n",
              "      <th>OrderDate</th>\n",
              "      <th>ProductKey</th>\n",
              "      <th>ResellerKey</th>\n",
              "      <th>EmployeeKey</th>\n",
              "      <th>SalesTerritoryKey</th>\n",
              "      <th>Quantity</th>\n",
              "      <th>Unit Price</th>\n",
              "      <th>Sales</th>\n",
              "      <th>Cost</th>\n",
              "      <th>Country</th>\n",
              "      <th>Continent</th>\n",
              "      <th>Product</th>\n",
              "      <th>Color</th>\n",
              "      <th>Subcategory</th>\n",
              "      <th>Category</th>\n",
              "    </tr>\n",
              "  </thead>\n",
              "  <tbody>\n",
              "    <tr>\n",
              "      <th>0</th>\n",
              "      <td>SO43897</td>\n",
              "      <td>Friday, August 25, 2017</td>\n",
              "      <td>235</td>\n",
              "      <td>312</td>\n",
              "      <td>282</td>\n",
              "      <td>4</td>\n",
              "      <td>2</td>\n",
              "      <td>28.84</td>\n",
              "      <td>57.68</td>\n",
              "      <td>63.45</td>\n",
              "      <td>United States</td>\n",
              "      <td>North America</td>\n",
              "      <td>Long-Sleeve Logo Jersey, XL</td>\n",
              "      <td>Multi</td>\n",
              "      <td>Jerseys</td>\n",
              "      <td>Clothing</td>\n",
              "    </tr>\n",
              "    <tr>\n",
              "      <th>1</th>\n",
              "      <td>SO43897</td>\n",
              "      <td>Friday, August 25, 2017</td>\n",
              "      <td>351</td>\n",
              "      <td>312</td>\n",
              "      <td>282</td>\n",
              "      <td>4</td>\n",
              "      <td>2</td>\n",
              "      <td>2024.99</td>\n",
              "      <td>4049.98</td>\n",
              "      <td>3796.19</td>\n",
              "      <td>United States</td>\n",
              "      <td>North America</td>\n",
              "      <td>Mountain-100 Black, 48</td>\n",
              "      <td>Black</td>\n",
              "      <td>Mountain Bikes</td>\n",
              "      <td>Bikes</td>\n",
              "    </tr>\n",
              "    <tr>\n",
              "      <th>2</th>\n",
              "      <td>SO43897</td>\n",
              "      <td>Friday, August 25, 2017</td>\n",
              "      <td>348</td>\n",
              "      <td>312</td>\n",
              "      <td>282</td>\n",
              "      <td>4</td>\n",
              "      <td>2</td>\n",
              "      <td>2024.99</td>\n",
              "      <td>4049.98</td>\n",
              "      <td>3796.19</td>\n",
              "      <td>United States</td>\n",
              "      <td>North America</td>\n",
              "      <td>Mountain-100 Black, 38</td>\n",
              "      <td>Black</td>\n",
              "      <td>Mountain Bikes</td>\n",
              "      <td>Bikes</td>\n",
              "    </tr>\n",
              "    <tr>\n",
              "      <th>3</th>\n",
              "      <td>SO43897</td>\n",
              "      <td>Friday, August 25, 2017</td>\n",
              "      <td>232</td>\n",
              "      <td>312</td>\n",
              "      <td>282</td>\n",
              "      <td>4</td>\n",
              "      <td>2</td>\n",
              "      <td>28.84</td>\n",
              "      <td>57.68</td>\n",
              "      <td>63.45</td>\n",
              "      <td>United States</td>\n",
              "      <td>North America</td>\n",
              "      <td>Long-Sleeve Logo Jersey, L</td>\n",
              "      <td>Multi</td>\n",
              "      <td>Jerseys</td>\n",
              "      <td>Clothing</td>\n",
              "    </tr>\n",
              "    <tr>\n",
              "      <th>4</th>\n",
              "      <td>SO44544</td>\n",
              "      <td>Saturday, November 18, 2017</td>\n",
              "      <td>292</td>\n",
              "      <td>312</td>\n",
              "      <td>282</td>\n",
              "      <td>4</td>\n",
              "      <td>2</td>\n",
              "      <td>818.70</td>\n",
              "      <td>1637.40</td>\n",
              "      <td>1413.62</td>\n",
              "      <td>United States</td>\n",
              "      <td>North America</td>\n",
              "      <td>HL Mountain Frame - Silver, 48</td>\n",
              "      <td>Silver</td>\n",
              "      <td>Mountain Frames</td>\n",
              "      <td>Components</td>\n",
              "    </tr>\n",
              "  </tbody>\n",
              "</table>\n",
              "</div>\n",
              "    <div class=\"colab-df-buttons\">\n",
              "\n",
              "  <div class=\"colab-df-container\">\n",
              "    <button class=\"colab-df-convert\" onclick=\"convertToInteractive('df-92ae4c52-d11c-4f16-a4e5-2f455af3fd9f')\"\n",
              "            title=\"Convert this dataframe to an interactive table.\"\n",
              "            style=\"display:none;\">\n",
              "\n",
              "  <svg xmlns=\"http://www.w3.org/2000/svg\" height=\"24px\" viewBox=\"0 -960 960 960\">\n",
              "    <path d=\"M120-120v-720h720v720H120Zm60-500h600v-160H180v160Zm220 220h160v-160H400v160Zm0 220h160v-160H400v160ZM180-400h160v-160H180v160Zm440 0h160v-160H620v160ZM180-180h160v-160H180v160Zm440 0h160v-160H620v160Z\"/>\n",
              "  </svg>\n",
              "    </button>\n",
              "\n",
              "  <style>\n",
              "    .colab-df-container {\n",
              "      display:flex;\n",
              "      gap: 12px;\n",
              "    }\n",
              "\n",
              "    .colab-df-convert {\n",
              "      background-color: #E8F0FE;\n",
              "      border: none;\n",
              "      border-radius: 50%;\n",
              "      cursor: pointer;\n",
              "      display: none;\n",
              "      fill: #1967D2;\n",
              "      height: 32px;\n",
              "      padding: 0 0 0 0;\n",
              "      width: 32px;\n",
              "    }\n",
              "\n",
              "    .colab-df-convert:hover {\n",
              "      background-color: #E2EBFA;\n",
              "      box-shadow: 0px 1px 2px rgba(60, 64, 67, 0.3), 0px 1px 3px 1px rgba(60, 64, 67, 0.15);\n",
              "      fill: #174EA6;\n",
              "    }\n",
              "\n",
              "    .colab-df-buttons div {\n",
              "      margin-bottom: 4px;\n",
              "    }\n",
              "\n",
              "    [theme=dark] .colab-df-convert {\n",
              "      background-color: #3B4455;\n",
              "      fill: #D2E3FC;\n",
              "    }\n",
              "\n",
              "    [theme=dark] .colab-df-convert:hover {\n",
              "      background-color: #434B5C;\n",
              "      box-shadow: 0px 1px 3px 1px rgba(0, 0, 0, 0.15);\n",
              "      filter: drop-shadow(0px 1px 2px rgba(0, 0, 0, 0.3));\n",
              "      fill: #FFFFFF;\n",
              "    }\n",
              "  </style>\n",
              "\n",
              "    <script>\n",
              "      const buttonEl =\n",
              "        document.querySelector('#df-92ae4c52-d11c-4f16-a4e5-2f455af3fd9f button.colab-df-convert');\n",
              "      buttonEl.style.display =\n",
              "        google.colab.kernel.accessAllowed ? 'block' : 'none';\n",
              "\n",
              "      async function convertToInteractive(key) {\n",
              "        const element = document.querySelector('#df-92ae4c52-d11c-4f16-a4e5-2f455af3fd9f');\n",
              "        const dataTable =\n",
              "          await google.colab.kernel.invokeFunction('convertToInteractive',\n",
              "                                                    [key], {});\n",
              "        if (!dataTable) return;\n",
              "\n",
              "        const docLinkHtml = 'Like what you see? Visit the ' +\n",
              "          '<a target=\"_blank\" href=https://colab.research.google.com/notebooks/data_table.ipynb>data table notebook</a>'\n",
              "          + ' to learn more about interactive tables.';\n",
              "        element.innerHTML = '';\n",
              "        dataTable['output_type'] = 'display_data';\n",
              "        await google.colab.output.renderOutput(dataTable, element);\n",
              "        const docLink = document.createElement('div');\n",
              "        docLink.innerHTML = docLinkHtml;\n",
              "        element.appendChild(docLink);\n",
              "      }\n",
              "    </script>\n",
              "  </div>\n",
              "\n",
              "\n",
              "<div id=\"df-91336b61-93f2-42fc-902a-d380fc4bdc6f\">\n",
              "  <button class=\"colab-df-quickchart\" onclick=\"quickchart('df-91336b61-93f2-42fc-902a-d380fc4bdc6f')\"\n",
              "            title=\"Suggest charts\"\n",
              "            style=\"display:none;\">\n",
              "\n",
              "<svg xmlns=\"http://www.w3.org/2000/svg\" height=\"24px\"viewBox=\"0 0 24 24\"\n",
              "     width=\"24px\">\n",
              "    <g>\n",
              "        <path d=\"M19 3H5c-1.1 0-2 .9-2 2v14c0 1.1.9 2 2 2h14c1.1 0 2-.9 2-2V5c0-1.1-.9-2-2-2zM9 17H7v-7h2v7zm4 0h-2V7h2v10zm4 0h-2v-4h2v4z\"/>\n",
              "    </g>\n",
              "</svg>\n",
              "  </button>\n",
              "\n",
              "<style>\n",
              "  .colab-df-quickchart {\n",
              "      --bg-color: #E8F0FE;\n",
              "      --fill-color: #1967D2;\n",
              "      --hover-bg-color: #E2EBFA;\n",
              "      --hover-fill-color: #174EA6;\n",
              "      --disabled-fill-color: #AAA;\n",
              "      --disabled-bg-color: #DDD;\n",
              "  }\n",
              "\n",
              "  [theme=dark] .colab-df-quickchart {\n",
              "      --bg-color: #3B4455;\n",
              "      --fill-color: #D2E3FC;\n",
              "      --hover-bg-color: #434B5C;\n",
              "      --hover-fill-color: #FFFFFF;\n",
              "      --disabled-bg-color: #3B4455;\n",
              "      --disabled-fill-color: #666;\n",
              "  }\n",
              "\n",
              "  .colab-df-quickchart {\n",
              "    background-color: var(--bg-color);\n",
              "    border: none;\n",
              "    border-radius: 50%;\n",
              "    cursor: pointer;\n",
              "    display: none;\n",
              "    fill: var(--fill-color);\n",
              "    height: 32px;\n",
              "    padding: 0;\n",
              "    width: 32px;\n",
              "  }\n",
              "\n",
              "  .colab-df-quickchart:hover {\n",
              "    background-color: var(--hover-bg-color);\n",
              "    box-shadow: 0 1px 2px rgba(60, 64, 67, 0.3), 0 1px 3px 1px rgba(60, 64, 67, 0.15);\n",
              "    fill: var(--button-hover-fill-color);\n",
              "  }\n",
              "\n",
              "  .colab-df-quickchart-complete:disabled,\n",
              "  .colab-df-quickchart-complete:disabled:hover {\n",
              "    background-color: var(--disabled-bg-color);\n",
              "    fill: var(--disabled-fill-color);\n",
              "    box-shadow: none;\n",
              "  }\n",
              "\n",
              "  .colab-df-spinner {\n",
              "    border: 2px solid var(--fill-color);\n",
              "    border-color: transparent;\n",
              "    border-bottom-color: var(--fill-color);\n",
              "    animation:\n",
              "      spin 1s steps(1) infinite;\n",
              "  }\n",
              "\n",
              "  @keyframes spin {\n",
              "    0% {\n",
              "      border-color: transparent;\n",
              "      border-bottom-color: var(--fill-color);\n",
              "      border-left-color: var(--fill-color);\n",
              "    }\n",
              "    20% {\n",
              "      border-color: transparent;\n",
              "      border-left-color: var(--fill-color);\n",
              "      border-top-color: var(--fill-color);\n",
              "    }\n",
              "    30% {\n",
              "      border-color: transparent;\n",
              "      border-left-color: var(--fill-color);\n",
              "      border-top-color: var(--fill-color);\n",
              "      border-right-color: var(--fill-color);\n",
              "    }\n",
              "    40% {\n",
              "      border-color: transparent;\n",
              "      border-right-color: var(--fill-color);\n",
              "      border-top-color: var(--fill-color);\n",
              "    }\n",
              "    60% {\n",
              "      border-color: transparent;\n",
              "      border-right-color: var(--fill-color);\n",
              "    }\n",
              "    80% {\n",
              "      border-color: transparent;\n",
              "      border-right-color: var(--fill-color);\n",
              "      border-bottom-color: var(--fill-color);\n",
              "    }\n",
              "    90% {\n",
              "      border-color: transparent;\n",
              "      border-bottom-color: var(--fill-color);\n",
              "    }\n",
              "  }\n",
              "</style>\n",
              "\n",
              "  <script>\n",
              "    async function quickchart(key) {\n",
              "      const quickchartButtonEl =\n",
              "        document.querySelector('#' + key + ' button');\n",
              "      quickchartButtonEl.disabled = true;  // To prevent multiple clicks.\n",
              "      quickchartButtonEl.classList.add('colab-df-spinner');\n",
              "      try {\n",
              "        const charts = await google.colab.kernel.invokeFunction(\n",
              "            'suggestCharts', [key], {});\n",
              "      } catch (error) {\n",
              "        console.error('Error during call to suggestCharts:', error);\n",
              "      }\n",
              "      quickchartButtonEl.classList.remove('colab-df-spinner');\n",
              "      quickchartButtonEl.classList.add('colab-df-quickchart-complete');\n",
              "    }\n",
              "    (() => {\n",
              "      let quickchartButtonEl =\n",
              "        document.querySelector('#df-91336b61-93f2-42fc-902a-d380fc4bdc6f button');\n",
              "      quickchartButtonEl.style.display =\n",
              "        google.colab.kernel.accessAllowed ? 'block' : 'none';\n",
              "    })();\n",
              "  </script>\n",
              "</div>\n",
              "    </div>\n",
              "  </div>\n"
            ],
            "application/vnd.google.colaboratory.intrinsic+json": {
              "type": "dataframe",
              "variable_name": "dados",
              "summary": "{\n  \"name\": \"dados\",\n  \"rows\": 57851,\n  \"fields\": [\n    {\n      \"column\": \"SalesOrderNumber\",\n      \"properties\": {\n        \"dtype\": \"category\",\n        \"num_unique_values\": 3616,\n        \"samples\": [\n          \"SO61176\",\n          \"SO48383\",\n          \"SO47059\"\n        ],\n        \"semantic_type\": \"\",\n        \"description\": \"\"\n      }\n    },\n    {\n      \"column\": \"OrderDate\",\n      \"properties\": {\n        \"dtype\": \"object\",\n        \"num_unique_values\": 990,\n        \"samples\": [\n          \"Sunday, March 11, 2018\",\n          \"Monday, October 21, 2019\",\n          \"Wednesday, February 6, 2019\"\n        ],\n        \"semantic_type\": \"\",\n        \"description\": \"\"\n      }\n    },\n    {\n      \"column\": \"ProductKey\",\n      \"properties\": {\n        \"dtype\": \"number\",\n        \"std\": 113,\n        \"min\": 212,\n        \"max\": 606,\n        \"num_unique_values\": 334,\n        \"samples\": [\n          297,\n          404,\n          391\n        ],\n        \"semantic_type\": \"\",\n        \"description\": \"\"\n      }\n    },\n    {\n      \"column\": \"ResellerKey\",\n      \"properties\": {\n        \"dtype\": \"number\",\n        \"std\": 205,\n        \"min\": 1,\n        \"max\": 701,\n        \"num_unique_values\": 632,\n        \"samples\": [\n          213,\n          605,\n          553\n        ],\n        \"semantic_type\": \"\",\n        \"description\": \"\"\n      }\n    },\n    {\n      \"column\": \"EmployeeKey\",\n      \"properties\": {\n        \"dtype\": \"number\",\n        \"std\": 4,\n        \"min\": 272,\n        \"max\": 296,\n        \"num_unique_values\": 17,\n        \"samples\": [\n          282,\n          287,\n          288\n        ],\n        \"semantic_type\": \"\",\n        \"description\": \"\"\n      }\n    },\n    {\n      \"column\": \"SalesTerritoryKey\",\n      \"properties\": {\n        \"dtype\": \"number\",\n        \"std\": 2,\n        \"min\": 1,\n        \"max\": 10,\n        \"num_unique_values\": 10,\n        \"samples\": [\n          2,\n          6,\n          7\n        ],\n        \"semantic_type\": \"\",\n        \"description\": \"\"\n      }\n    },\n    {\n      \"column\": \"Quantity\",\n      \"properties\": {\n        \"dtype\": \"number\",\n        \"std\": 3,\n        \"min\": 1,\n        \"max\": 44,\n        \"num_unique_values\": 41,\n        \"samples\": [\n          35,\n          13,\n          9\n        ],\n        \"semantic_type\": \"\",\n        \"description\": \"\"\n      }\n    },\n    {\n      \"column\": \"Unit Price\",\n      \"properties\": {\n        \"dtype\": \"number\",\n        \"std\": 521.8801639775426,\n        \"min\": 1.33,\n        \"max\": 2146.96,\n        \"num_unique_values\": 230,\n        \"samples\": [\n          4.32,\n          16.27,\n          22.79\n        ],\n        \"semantic_type\": \"\",\n        \"description\": \"\"\n      }\n    },\n    {\n      \"column\": \"Sales\",\n      \"properties\": {\n        \"dtype\": \"number\",\n        \"std\": 2150.4082558575074,\n        \"min\": 1.37,\n        \"max\": 30993.04,\n        \"num_unique_values\": 1406,\n        \"samples\": [\n          4909.3,\n          8455.32,\n          141.33\n        ],\n        \"semantic_type\": \"\",\n        \"description\": \"\"\n      }\n    },\n    {\n      \"column\": \"Cost\",\n      \"properties\": {\n        \"dtype\": \"number\",\n        \"std\": 2169.787634479947,\n        \"min\": 0.86,\n        \"max\": 38530.39,\n        \"num_unique_values\": 1430,\n        \"samples\": [\n          884.71,\n          540.44,\n          9560.77\n        ],\n        \"semantic_type\": \"\",\n        \"description\": \"\"\n      }\n    },\n    {\n      \"column\": \"Country\",\n      \"properties\": {\n        \"dtype\": \"category\",\n        \"num_unique_values\": 6,\n        \"samples\": [\n          \"United States\",\n          \"Canada\",\n          \"Australia\"\n        ],\n        \"semantic_type\": \"\",\n        \"description\": \"\"\n      }\n    },\n    {\n      \"column\": \"Continent\",\n      \"properties\": {\n        \"dtype\": \"category\",\n        \"num_unique_values\": 3,\n        \"samples\": [\n          \"North America\",\n          \"Europe\",\n          \"Pacific\"\n        ],\n        \"semantic_type\": \"\",\n        \"description\": \"\"\n      }\n    },\n    {\n      \"column\": \"Product\",\n      \"properties\": {\n        \"dtype\": \"category\",\n        \"num_unique_values\": 250,\n        \"samples\": [\n          \"Road-250 Red, 48\",\n          \"Mountain-100 Black, 42\",\n          \"Road-450 Red, 60\"\n        ],\n        \"semantic_type\": \"\",\n        \"description\": \"\"\n      }\n    },\n    {\n      \"column\": \"Color\",\n      \"properties\": {\n        \"dtype\": \"category\",\n        \"num_unique_values\": 8,\n        \"samples\": [\n          \"Black\",\n          \"Silver/Black\",\n          \"Multi\"\n        ],\n        \"semantic_type\": \"\",\n        \"description\": \"\"\n      }\n    },\n    {\n      \"column\": \"Subcategory\",\n      \"properties\": {\n        \"dtype\": \"category\",\n        \"num_unique_values\": 33,\n        \"samples\": [\n          \"Hydration Packs\",\n          \"Socks\",\n          \"Road Bikes\"\n        ],\n        \"semantic_type\": \"\",\n        \"description\": \"\"\n      }\n    },\n    {\n      \"column\": \"Category\",\n      \"properties\": {\n        \"dtype\": \"category\",\n        \"num_unique_values\": 4,\n        \"samples\": [\n          \"Bikes\",\n          \"Accessories\",\n          \"Clothing\"\n        ],\n        \"semantic_type\": \"\",\n        \"description\": \"\"\n      }\n    }\n  ]\n}"
            }
          },
          "metadata": {},
          "execution_count": 3
        }
      ]
    },
    {
      "cell_type": "code",
      "source": [
        "dados.columns"
      ],
      "metadata": {
        "colab": {
          "base_uri": "https://localhost:8080/"
        },
        "id": "7JhCFKyQFECd",
        "outputId": "5a24d6d2-b064-483c-a833-4ebc3a16001c"
      },
      "execution_count": 4,
      "outputs": [
        {
          "output_type": "execute_result",
          "data": {
            "text/plain": [
              "Index(['SalesOrderNumber', 'OrderDate', 'ProductKey', 'ResellerKey',\n",
              "       'EmployeeKey', 'SalesTerritoryKey', 'Quantity', 'Unit Price', 'Sales',\n",
              "       'Cost', 'Country', 'Continent', 'Product', 'Color', 'Subcategory',\n",
              "       'Category'],\n",
              "      dtype='object')"
            ]
          },
          "metadata": {},
          "execution_count": 4
        }
      ]
    },
    {
      "cell_type": "code",
      "source": [
        "print(\"O dataset tem linhas: \", dados.shape[0])\n",
        "print(\"O dataset tem Colunas: \", dados.shape[1])"
      ],
      "metadata": {
        "colab": {
          "base_uri": "https://localhost:8080/"
        },
        "id": "0BuJ87zTFEE6",
        "outputId": "32327de5-5035-4b10-d258-b4bb0ea173b6"
      },
      "execution_count": 5,
      "outputs": [
        {
          "output_type": "stream",
          "name": "stdout",
          "text": [
            "O dataset tem linhas:  57851\n",
            "O dataset tem Colunas:  16\n"
          ]
        }
      ]
    },
    {
      "cell_type": "code",
      "source": [
        "dados.info(memory_usage='deep')"
      ],
      "metadata": {
        "colab": {
          "base_uri": "https://localhost:8080/"
        },
        "id": "BVhGRBaOF0GH",
        "outputId": "17dfe1db-9ce4-4baf-f231-e14b9fb27d48"
      },
      "execution_count": 6,
      "outputs": [
        {
          "output_type": "stream",
          "name": "stdout",
          "text": [
            "<class 'pandas.core.frame.DataFrame'>\n",
            "RangeIndex: 57851 entries, 0 to 57850\n",
            "Data columns (total 16 columns):\n",
            " #   Column             Non-Null Count  Dtype  \n",
            "---  ------             --------------  -----  \n",
            " 0   SalesOrderNumber   57851 non-null  object \n",
            " 1   OrderDate          57851 non-null  object \n",
            " 2   ProductKey         57851 non-null  int64  \n",
            " 3   ResellerKey        57851 non-null  int64  \n",
            " 4   EmployeeKey        57851 non-null  int64  \n",
            " 5   SalesTerritoryKey  57851 non-null  int64  \n",
            " 6   Quantity           57851 non-null  int64  \n",
            " 7   Unit Price         57851 non-null  float64\n",
            " 8   Sales              57851 non-null  float64\n",
            " 9   Cost               57851 non-null  float64\n",
            " 10  Country            57851 non-null  object \n",
            " 11  Continent          57851 non-null  object \n",
            " 12  Product            57851 non-null  object \n",
            " 13  Color              52998 non-null  object \n",
            " 14  Subcategory        57851 non-null  object \n",
            " 15  Category           57851 non-null  object \n",
            "dtypes: float64(3), int64(5), object(8)\n",
            "memory usage: 34.0 MB\n"
          ]
        }
      ]
    },
    {
      "cell_type": "code",
      "source": [
        "dados.info(verbose=False)"
      ],
      "metadata": {
        "colab": {
          "base_uri": "https://localhost:8080/"
        },
        "id": "d6lOejv6F0Ix",
        "outputId": "63d7ab09-b653-41af-d02f-39c29a397d8f"
      },
      "execution_count": 7,
      "outputs": [
        {
          "output_type": "stream",
          "name": "stdout",
          "text": [
            "<class 'pandas.core.frame.DataFrame'>\n",
            "RangeIndex: 57851 entries, 0 to 57850\n",
            "Columns: 16 entries, SalesOrderNumber to Category\n",
            "dtypes: float64(3), int64(5), object(8)\n",
            "memory usage: 7.1+ MB\n"
          ]
        }
      ]
    },
    {
      "cell_type": "code",
      "source": [
        "dados.dtypes"
      ],
      "metadata": {
        "colab": {
          "base_uri": "https://localhost:8080/"
        },
        "id": "fHhkoKzBF0K2",
        "outputId": "36ff5fc4-7537-4e14-976b-c9760af16596"
      },
      "execution_count": 8,
      "outputs": [
        {
          "output_type": "execute_result",
          "data": {
            "text/plain": [
              "SalesOrderNumber      object\n",
              "OrderDate             object\n",
              "ProductKey             int64\n",
              "ResellerKey            int64\n",
              "EmployeeKey            int64\n",
              "SalesTerritoryKey      int64\n",
              "Quantity               int64\n",
              "Unit Price           float64\n",
              "Sales                float64\n",
              "Cost                 float64\n",
              "Country               object\n",
              "Continent             object\n",
              "Product               object\n",
              "Color                 object\n",
              "Subcategory           object\n",
              "Category              object\n",
              "dtype: object"
            ]
          },
          "metadata": {},
          "execution_count": 8
        }
      ]
    },
    {
      "cell_type": "code",
      "source": [
        "dados.describe()"
      ],
      "metadata": {
        "colab": {
          "base_uri": "https://localhost:8080/",
          "height": 320
        },
        "id": "NZw_84kYGEHV",
        "outputId": "8be19c7b-ebcf-42ec-d920-388a23f46d13"
      },
      "execution_count": 9,
      "outputs": [
        {
          "output_type": "execute_result",
          "data": {
            "text/plain": [
              "         ProductKey   ResellerKey   EmployeeKey  SalesTerritoryKey  \\\n",
              "count  57851.000000  57851.000000  57851.000000       57851.000000   \n",
              "mean     408.636705    340.742978    286.131735           4.554424   \n",
              "std      113.665645    205.493906      4.521832           2.412247   \n",
              "min      212.000000      1.000000    272.000000           1.000000   \n",
              "25%      326.000000    166.000000    283.000000           3.000000   \n",
              "50%      401.000000    327.000000    285.000000           4.000000   \n",
              "75%      491.000000    514.000000    290.000000           6.000000   \n",
              "max      606.000000    701.000000    296.000000          10.000000   \n",
              "\n",
              "           Quantity    Unit Price         Sales          Cost  \n",
              "count  57851.000000  57851.000000  57851.000000  57851.000000  \n",
              "mean       3.528271    446.388513   1336.938293   1323.210932  \n",
              "std        3.035766    521.880164   2150.408256   2169.787634  \n",
              "min        1.000000      1.330000      1.370000      0.860000  \n",
              "25%        2.000000     34.930000    127.800000     97.150000  \n",
              "50%        3.000000    214.240000    469.790000    461.440000  \n",
              "75%        4.000000    672.290000   1488.540000   1510.300000  \n",
              "max       44.000000   2146.960000  30993.040000  38530.390000  "
            ],
            "text/html": [
              "\n",
              "  <div id=\"df-55322c0a-2cc0-4e65-8540-d28945ba3930\" class=\"colab-df-container\">\n",
              "    <div>\n",
              "<style scoped>\n",
              "    .dataframe tbody tr th:only-of-type {\n",
              "        vertical-align: middle;\n",
              "    }\n",
              "\n",
              "    .dataframe tbody tr th {\n",
              "        vertical-align: top;\n",
              "    }\n",
              "\n",
              "    .dataframe thead th {\n",
              "        text-align: right;\n",
              "    }\n",
              "</style>\n",
              "<table border=\"1\" class=\"dataframe\">\n",
              "  <thead>\n",
              "    <tr style=\"text-align: right;\">\n",
              "      <th></th>\n",
              "      <th>ProductKey</th>\n",
              "      <th>ResellerKey</th>\n",
              "      <th>EmployeeKey</th>\n",
              "      <th>SalesTerritoryKey</th>\n",
              "      <th>Quantity</th>\n",
              "      <th>Unit Price</th>\n",
              "      <th>Sales</th>\n",
              "      <th>Cost</th>\n",
              "    </tr>\n",
              "  </thead>\n",
              "  <tbody>\n",
              "    <tr>\n",
              "      <th>count</th>\n",
              "      <td>57851.000000</td>\n",
              "      <td>57851.000000</td>\n",
              "      <td>57851.000000</td>\n",
              "      <td>57851.000000</td>\n",
              "      <td>57851.000000</td>\n",
              "      <td>57851.000000</td>\n",
              "      <td>57851.000000</td>\n",
              "      <td>57851.000000</td>\n",
              "    </tr>\n",
              "    <tr>\n",
              "      <th>mean</th>\n",
              "      <td>408.636705</td>\n",
              "      <td>340.742978</td>\n",
              "      <td>286.131735</td>\n",
              "      <td>4.554424</td>\n",
              "      <td>3.528271</td>\n",
              "      <td>446.388513</td>\n",
              "      <td>1336.938293</td>\n",
              "      <td>1323.210932</td>\n",
              "    </tr>\n",
              "    <tr>\n",
              "      <th>std</th>\n",
              "      <td>113.665645</td>\n",
              "      <td>205.493906</td>\n",
              "      <td>4.521832</td>\n",
              "      <td>2.412247</td>\n",
              "      <td>3.035766</td>\n",
              "      <td>521.880164</td>\n",
              "      <td>2150.408256</td>\n",
              "      <td>2169.787634</td>\n",
              "    </tr>\n",
              "    <tr>\n",
              "      <th>min</th>\n",
              "      <td>212.000000</td>\n",
              "      <td>1.000000</td>\n",
              "      <td>272.000000</td>\n",
              "      <td>1.000000</td>\n",
              "      <td>1.000000</td>\n",
              "      <td>1.330000</td>\n",
              "      <td>1.370000</td>\n",
              "      <td>0.860000</td>\n",
              "    </tr>\n",
              "    <tr>\n",
              "      <th>25%</th>\n",
              "      <td>326.000000</td>\n",
              "      <td>166.000000</td>\n",
              "      <td>283.000000</td>\n",
              "      <td>3.000000</td>\n",
              "      <td>2.000000</td>\n",
              "      <td>34.930000</td>\n",
              "      <td>127.800000</td>\n",
              "      <td>97.150000</td>\n",
              "    </tr>\n",
              "    <tr>\n",
              "      <th>50%</th>\n",
              "      <td>401.000000</td>\n",
              "      <td>327.000000</td>\n",
              "      <td>285.000000</td>\n",
              "      <td>4.000000</td>\n",
              "      <td>3.000000</td>\n",
              "      <td>214.240000</td>\n",
              "      <td>469.790000</td>\n",
              "      <td>461.440000</td>\n",
              "    </tr>\n",
              "    <tr>\n",
              "      <th>75%</th>\n",
              "      <td>491.000000</td>\n",
              "      <td>514.000000</td>\n",
              "      <td>290.000000</td>\n",
              "      <td>6.000000</td>\n",
              "      <td>4.000000</td>\n",
              "      <td>672.290000</td>\n",
              "      <td>1488.540000</td>\n",
              "      <td>1510.300000</td>\n",
              "    </tr>\n",
              "    <tr>\n",
              "      <th>max</th>\n",
              "      <td>606.000000</td>\n",
              "      <td>701.000000</td>\n",
              "      <td>296.000000</td>\n",
              "      <td>10.000000</td>\n",
              "      <td>44.000000</td>\n",
              "      <td>2146.960000</td>\n",
              "      <td>30993.040000</td>\n",
              "      <td>38530.390000</td>\n",
              "    </tr>\n",
              "  </tbody>\n",
              "</table>\n",
              "</div>\n",
              "    <div class=\"colab-df-buttons\">\n",
              "\n",
              "  <div class=\"colab-df-container\">\n",
              "    <button class=\"colab-df-convert\" onclick=\"convertToInteractive('df-55322c0a-2cc0-4e65-8540-d28945ba3930')\"\n",
              "            title=\"Convert this dataframe to an interactive table.\"\n",
              "            style=\"display:none;\">\n",
              "\n",
              "  <svg xmlns=\"http://www.w3.org/2000/svg\" height=\"24px\" viewBox=\"0 -960 960 960\">\n",
              "    <path d=\"M120-120v-720h720v720H120Zm60-500h600v-160H180v160Zm220 220h160v-160H400v160Zm0 220h160v-160H400v160ZM180-400h160v-160H180v160Zm440 0h160v-160H620v160ZM180-180h160v-160H180v160Zm440 0h160v-160H620v160Z\"/>\n",
              "  </svg>\n",
              "    </button>\n",
              "\n",
              "  <style>\n",
              "    .colab-df-container {\n",
              "      display:flex;\n",
              "      gap: 12px;\n",
              "    }\n",
              "\n",
              "    .colab-df-convert {\n",
              "      background-color: #E8F0FE;\n",
              "      border: none;\n",
              "      border-radius: 50%;\n",
              "      cursor: pointer;\n",
              "      display: none;\n",
              "      fill: #1967D2;\n",
              "      height: 32px;\n",
              "      padding: 0 0 0 0;\n",
              "      width: 32px;\n",
              "    }\n",
              "\n",
              "    .colab-df-convert:hover {\n",
              "      background-color: #E2EBFA;\n",
              "      box-shadow: 0px 1px 2px rgba(60, 64, 67, 0.3), 0px 1px 3px 1px rgba(60, 64, 67, 0.15);\n",
              "      fill: #174EA6;\n",
              "    }\n",
              "\n",
              "    .colab-df-buttons div {\n",
              "      margin-bottom: 4px;\n",
              "    }\n",
              "\n",
              "    [theme=dark] .colab-df-convert {\n",
              "      background-color: #3B4455;\n",
              "      fill: #D2E3FC;\n",
              "    }\n",
              "\n",
              "    [theme=dark] .colab-df-convert:hover {\n",
              "      background-color: #434B5C;\n",
              "      box-shadow: 0px 1px 3px 1px rgba(0, 0, 0, 0.15);\n",
              "      filter: drop-shadow(0px 1px 2px rgba(0, 0, 0, 0.3));\n",
              "      fill: #FFFFFF;\n",
              "    }\n",
              "  </style>\n",
              "\n",
              "    <script>\n",
              "      const buttonEl =\n",
              "        document.querySelector('#df-55322c0a-2cc0-4e65-8540-d28945ba3930 button.colab-df-convert');\n",
              "      buttonEl.style.display =\n",
              "        google.colab.kernel.accessAllowed ? 'block' : 'none';\n",
              "\n",
              "      async function convertToInteractive(key) {\n",
              "        const element = document.querySelector('#df-55322c0a-2cc0-4e65-8540-d28945ba3930');\n",
              "        const dataTable =\n",
              "          await google.colab.kernel.invokeFunction('convertToInteractive',\n",
              "                                                    [key], {});\n",
              "        if (!dataTable) return;\n",
              "\n",
              "        const docLinkHtml = 'Like what you see? Visit the ' +\n",
              "          '<a target=\"_blank\" href=https://colab.research.google.com/notebooks/data_table.ipynb>data table notebook</a>'\n",
              "          + ' to learn more about interactive tables.';\n",
              "        element.innerHTML = '';\n",
              "        dataTable['output_type'] = 'display_data';\n",
              "        await google.colab.output.renderOutput(dataTable, element);\n",
              "        const docLink = document.createElement('div');\n",
              "        docLink.innerHTML = docLinkHtml;\n",
              "        element.appendChild(docLink);\n",
              "      }\n",
              "    </script>\n",
              "  </div>\n",
              "\n",
              "\n",
              "<div id=\"df-ce4f7fc8-2fbf-4ed0-9e54-8a9d0f811e8f\">\n",
              "  <button class=\"colab-df-quickchart\" onclick=\"quickchart('df-ce4f7fc8-2fbf-4ed0-9e54-8a9d0f811e8f')\"\n",
              "            title=\"Suggest charts\"\n",
              "            style=\"display:none;\">\n",
              "\n",
              "<svg xmlns=\"http://www.w3.org/2000/svg\" height=\"24px\"viewBox=\"0 0 24 24\"\n",
              "     width=\"24px\">\n",
              "    <g>\n",
              "        <path d=\"M19 3H5c-1.1 0-2 .9-2 2v14c0 1.1.9 2 2 2h14c1.1 0 2-.9 2-2V5c0-1.1-.9-2-2-2zM9 17H7v-7h2v7zm4 0h-2V7h2v10zm4 0h-2v-4h2v4z\"/>\n",
              "    </g>\n",
              "</svg>\n",
              "  </button>\n",
              "\n",
              "<style>\n",
              "  .colab-df-quickchart {\n",
              "      --bg-color: #E8F0FE;\n",
              "      --fill-color: #1967D2;\n",
              "      --hover-bg-color: #E2EBFA;\n",
              "      --hover-fill-color: #174EA6;\n",
              "      --disabled-fill-color: #AAA;\n",
              "      --disabled-bg-color: #DDD;\n",
              "  }\n",
              "\n",
              "  [theme=dark] .colab-df-quickchart {\n",
              "      --bg-color: #3B4455;\n",
              "      --fill-color: #D2E3FC;\n",
              "      --hover-bg-color: #434B5C;\n",
              "      --hover-fill-color: #FFFFFF;\n",
              "      --disabled-bg-color: #3B4455;\n",
              "      --disabled-fill-color: #666;\n",
              "  }\n",
              "\n",
              "  .colab-df-quickchart {\n",
              "    background-color: var(--bg-color);\n",
              "    border: none;\n",
              "    border-radius: 50%;\n",
              "    cursor: pointer;\n",
              "    display: none;\n",
              "    fill: var(--fill-color);\n",
              "    height: 32px;\n",
              "    padding: 0;\n",
              "    width: 32px;\n",
              "  }\n",
              "\n",
              "  .colab-df-quickchart:hover {\n",
              "    background-color: var(--hover-bg-color);\n",
              "    box-shadow: 0 1px 2px rgba(60, 64, 67, 0.3), 0 1px 3px 1px rgba(60, 64, 67, 0.15);\n",
              "    fill: var(--button-hover-fill-color);\n",
              "  }\n",
              "\n",
              "  .colab-df-quickchart-complete:disabled,\n",
              "  .colab-df-quickchart-complete:disabled:hover {\n",
              "    background-color: var(--disabled-bg-color);\n",
              "    fill: var(--disabled-fill-color);\n",
              "    box-shadow: none;\n",
              "  }\n",
              "\n",
              "  .colab-df-spinner {\n",
              "    border: 2px solid var(--fill-color);\n",
              "    border-color: transparent;\n",
              "    border-bottom-color: var(--fill-color);\n",
              "    animation:\n",
              "      spin 1s steps(1) infinite;\n",
              "  }\n",
              "\n",
              "  @keyframes spin {\n",
              "    0% {\n",
              "      border-color: transparent;\n",
              "      border-bottom-color: var(--fill-color);\n",
              "      border-left-color: var(--fill-color);\n",
              "    }\n",
              "    20% {\n",
              "      border-color: transparent;\n",
              "      border-left-color: var(--fill-color);\n",
              "      border-top-color: var(--fill-color);\n",
              "    }\n",
              "    30% {\n",
              "      border-color: transparent;\n",
              "      border-left-color: var(--fill-color);\n",
              "      border-top-color: var(--fill-color);\n",
              "      border-right-color: var(--fill-color);\n",
              "    }\n",
              "    40% {\n",
              "      border-color: transparent;\n",
              "      border-right-color: var(--fill-color);\n",
              "      border-top-color: var(--fill-color);\n",
              "    }\n",
              "    60% {\n",
              "      border-color: transparent;\n",
              "      border-right-color: var(--fill-color);\n",
              "    }\n",
              "    80% {\n",
              "      border-color: transparent;\n",
              "      border-right-color: var(--fill-color);\n",
              "      border-bottom-color: var(--fill-color);\n",
              "    }\n",
              "    90% {\n",
              "      border-color: transparent;\n",
              "      border-bottom-color: var(--fill-color);\n",
              "    }\n",
              "  }\n",
              "</style>\n",
              "\n",
              "  <script>\n",
              "    async function quickchart(key) {\n",
              "      const quickchartButtonEl =\n",
              "        document.querySelector('#' + key + ' button');\n",
              "      quickchartButtonEl.disabled = true;  // To prevent multiple clicks.\n",
              "      quickchartButtonEl.classList.add('colab-df-spinner');\n",
              "      try {\n",
              "        const charts = await google.colab.kernel.invokeFunction(\n",
              "            'suggestCharts', [key], {});\n",
              "      } catch (error) {\n",
              "        console.error('Error during call to suggestCharts:', error);\n",
              "      }\n",
              "      quickchartButtonEl.classList.remove('colab-df-spinner');\n",
              "      quickchartButtonEl.classList.add('colab-df-quickchart-complete');\n",
              "    }\n",
              "    (() => {\n",
              "      let quickchartButtonEl =\n",
              "        document.querySelector('#df-ce4f7fc8-2fbf-4ed0-9e54-8a9d0f811e8f button');\n",
              "      quickchartButtonEl.style.display =\n",
              "        google.colab.kernel.accessAllowed ? 'block' : 'none';\n",
              "    })();\n",
              "  </script>\n",
              "</div>\n",
              "    </div>\n",
              "  </div>\n"
            ],
            "application/vnd.google.colaboratory.intrinsic+json": {
              "type": "dataframe",
              "summary": "{\n  \"name\": \"dados\",\n  \"rows\": 8,\n  \"fields\": [\n    {\n      \"column\": \"ProductKey\",\n      \"properties\": {\n        \"dtype\": \"number\",\n        \"std\": 20324.78418982701,\n        \"min\": 113.66564484487495,\n        \"max\": 57851.0,\n        \"num_unique_values\": 8,\n        \"samples\": [\n          408.63670463777635,\n          401.0,\n          57851.0\n        ],\n        \"semantic_type\": \"\",\n        \"description\": \"\"\n      }\n    },\n    {\n      \"column\": \"ResellerKey\",\n      \"properties\": {\n        \"dtype\": \"number\",\n        \"std\": 20340.640717145954,\n        \"min\": 1.0,\n        \"max\": 57851.0,\n        \"num_unique_values\": 8,\n        \"samples\": [\n          340.74297764947886,\n          327.0,\n          57851.0\n        ],\n        \"semantic_type\": \"\",\n        \"description\": \"\"\n      }\n    },\n    {\n      \"column\": \"EmployeeKey\",\n      \"properties\": {\n        \"dtype\": \"number\",\n        \"std\": 20366.95130379556,\n        \"min\": 4.52183227439155,\n        \"max\": 57851.0,\n        \"num_unique_values\": 8,\n        \"samples\": [\n          286.1317349743306,\n          285.0,\n          57851.0\n        ],\n        \"semantic_type\": \"\",\n        \"description\": \"\"\n      }\n    },\n    {\n      \"column\": \"SalesTerritoryKey\",\n      \"properties\": {\n        \"dtype\": \"number\",\n        \"std\": 20451.85332623939,\n        \"min\": 1.0,\n        \"max\": 57851.0,\n        \"num_unique_values\": 8,\n        \"samples\": [\n          4.554424296900659,\n          4.0,\n          57851.0\n        ],\n        \"semantic_type\": \"\",\n        \"description\": \"\"\n      }\n    },\n    {\n      \"column\": \"Quantity\",\n      \"properties\": {\n        \"dtype\": \"number\",\n        \"std\": 20450.363365647376,\n        \"min\": 1.0,\n        \"max\": 57851.0,\n        \"num_unique_values\": 8,\n        \"samples\": [\n          3.5282709028365975,\n          3.0,\n          57851.0\n        ],\n        \"semantic_type\": \"\",\n        \"description\": \"\"\n      }\n    },\n    {\n      \"column\": \"Unit Price\",\n      \"properties\": {\n        \"dtype\": \"number\",\n        \"std\": 20260.930119844958,\n        \"min\": 1.33,\n        \"max\": 57851.0,\n        \"num_unique_values\": 8,\n        \"samples\": [\n          446.3885129038392,\n          214.24,\n          57851.0\n        ],\n        \"semantic_type\": \"\",\n        \"description\": \"\"\n      }\n    },\n    {\n      \"column\": \"Sales\",\n      \"properties\": {\n        \"dtype\": \"number\",\n        \"std\": 21386.92995618512,\n        \"min\": 1.37,\n        \"max\": 57851.0,\n        \"num_unique_values\": 8,\n        \"samples\": [\n          1336.9382932015005,\n          469.79,\n          57851.0\n        ],\n        \"semantic_type\": \"\",\n        \"description\": \"\"\n      }\n    },\n    {\n      \"column\": \"Cost\",\n      \"properties\": {\n        \"dtype\": \"number\",\n        \"std\": 22491.952428807785,\n        \"min\": 0.86,\n        \"max\": 57851.0,\n        \"num_unique_values\": 8,\n        \"samples\": [\n          1323.2109320495758,\n          461.44,\n          57851.0\n        ],\n        \"semantic_type\": \"\",\n        \"description\": \"\"\n      }\n    }\n  ]\n}"
            }
          },
          "metadata": {},
          "execution_count": 9
        }
      ]
    },
    {
      "cell_type": "code",
      "source": [
        "for column in dados.columns:\n",
        "    print(f\"{column}: Number of unique values {dados[column].nunique()}\")\n",
        "    print(\"==========================================================\")"
      ],
      "metadata": {
        "colab": {
          "base_uri": "https://localhost:8080/"
        },
        "id": "2CIyxuJ8GEKC",
        "outputId": "a7eb3fcf-214d-4cc8-e0c8-c0ab43a9b4aa"
      },
      "execution_count": 10,
      "outputs": [
        {
          "output_type": "stream",
          "name": "stdout",
          "text": [
            "SalesOrderNumber: Number of unique values 3616\n",
            "==========================================================\n",
            "OrderDate: Number of unique values 990\n",
            "==========================================================\n",
            "ProductKey: Number of unique values 334\n",
            "==========================================================\n",
            "ResellerKey: Number of unique values 632\n",
            "==========================================================\n",
            "EmployeeKey: Number of unique values 17\n",
            "==========================================================\n",
            "SalesTerritoryKey: Number of unique values 10\n",
            "==========================================================\n",
            "Quantity: Number of unique values 41\n",
            "==========================================================\n",
            "Unit Price: Number of unique values 230\n",
            "==========================================================\n",
            "Sales: Number of unique values 1406\n",
            "==========================================================\n",
            "Cost: Number of unique values 1430\n",
            "==========================================================\n",
            "Country: Number of unique values 6\n",
            "==========================================================\n",
            "Continent: Number of unique values 3\n",
            "==========================================================\n",
            "Product: Number of unique values 250\n",
            "==========================================================\n",
            "Color: Number of unique values 8\n",
            "==========================================================\n",
            "Subcategory: Number of unique values 33\n",
            "==========================================================\n",
            "Category: Number of unique values 4\n",
            "==========================================================\n"
          ]
        }
      ]
    },
    {
      "cell_type": "code",
      "source": [
        "dados[\"OrderDate\"]= pd.to_datetime(dados['OrderDate'])"
      ],
      "metadata": {
        "id": "iFxWA5JoGEMT"
      },
      "execution_count": 11,
      "outputs": []
    },
    {
      "cell_type": "code",
      "source": [
        "dados.head(2)"
      ],
      "metadata": {
        "colab": {
          "base_uri": "https://localhost:8080/",
          "height": 253
        },
        "id": "TxUwqFsGGcs-",
        "outputId": "e37fa823-5a3d-480b-dffe-3c0c403aa951"
      },
      "execution_count": 12,
      "outputs": [
        {
          "output_type": "execute_result",
          "data": {
            "text/plain": [
              "  SalesOrderNumber  OrderDate  ProductKey  ResellerKey  EmployeeKey  \\\n",
              "0          SO43897 2017-08-25         235          312          282   \n",
              "1          SO43897 2017-08-25         351          312          282   \n",
              "\n",
              "   SalesTerritoryKey  Quantity  Unit Price    Sales     Cost        Country  \\\n",
              "0                  4         2       28.84    57.68    63.45  United States   \n",
              "1                  4         2     2024.99  4049.98  3796.19  United States   \n",
              "\n",
              "       Continent                      Product  Color     Subcategory  Category  \n",
              "0  North America  Long-Sleeve Logo Jersey, XL  Multi         Jerseys  Clothing  \n",
              "1  North America       Mountain-100 Black, 48  Black  Mountain Bikes     Bikes  "
            ],
            "text/html": [
              "\n",
              "  <div id=\"df-d1f2dff4-103c-46a0-b8e2-8f75fd7578b8\" class=\"colab-df-container\">\n",
              "    <div>\n",
              "<style scoped>\n",
              "    .dataframe tbody tr th:only-of-type {\n",
              "        vertical-align: middle;\n",
              "    }\n",
              "\n",
              "    .dataframe tbody tr th {\n",
              "        vertical-align: top;\n",
              "    }\n",
              "\n",
              "    .dataframe thead th {\n",
              "        text-align: right;\n",
              "    }\n",
              "</style>\n",
              "<table border=\"1\" class=\"dataframe\">\n",
              "  <thead>\n",
              "    <tr style=\"text-align: right;\">\n",
              "      <th></th>\n",
              "      <th>SalesOrderNumber</th>\n",
              "      <th>OrderDate</th>\n",
              "      <th>ProductKey</th>\n",
              "      <th>ResellerKey</th>\n",
              "      <th>EmployeeKey</th>\n",
              "      <th>SalesTerritoryKey</th>\n",
              "      <th>Quantity</th>\n",
              "      <th>Unit Price</th>\n",
              "      <th>Sales</th>\n",
              "      <th>Cost</th>\n",
              "      <th>Country</th>\n",
              "      <th>Continent</th>\n",
              "      <th>Product</th>\n",
              "      <th>Color</th>\n",
              "      <th>Subcategory</th>\n",
              "      <th>Category</th>\n",
              "    </tr>\n",
              "  </thead>\n",
              "  <tbody>\n",
              "    <tr>\n",
              "      <th>0</th>\n",
              "      <td>SO43897</td>\n",
              "      <td>2017-08-25</td>\n",
              "      <td>235</td>\n",
              "      <td>312</td>\n",
              "      <td>282</td>\n",
              "      <td>4</td>\n",
              "      <td>2</td>\n",
              "      <td>28.84</td>\n",
              "      <td>57.68</td>\n",
              "      <td>63.45</td>\n",
              "      <td>United States</td>\n",
              "      <td>North America</td>\n",
              "      <td>Long-Sleeve Logo Jersey, XL</td>\n",
              "      <td>Multi</td>\n",
              "      <td>Jerseys</td>\n",
              "      <td>Clothing</td>\n",
              "    </tr>\n",
              "    <tr>\n",
              "      <th>1</th>\n",
              "      <td>SO43897</td>\n",
              "      <td>2017-08-25</td>\n",
              "      <td>351</td>\n",
              "      <td>312</td>\n",
              "      <td>282</td>\n",
              "      <td>4</td>\n",
              "      <td>2</td>\n",
              "      <td>2024.99</td>\n",
              "      <td>4049.98</td>\n",
              "      <td>3796.19</td>\n",
              "      <td>United States</td>\n",
              "      <td>North America</td>\n",
              "      <td>Mountain-100 Black, 48</td>\n",
              "      <td>Black</td>\n",
              "      <td>Mountain Bikes</td>\n",
              "      <td>Bikes</td>\n",
              "    </tr>\n",
              "  </tbody>\n",
              "</table>\n",
              "</div>\n",
              "    <div class=\"colab-df-buttons\">\n",
              "\n",
              "  <div class=\"colab-df-container\">\n",
              "    <button class=\"colab-df-convert\" onclick=\"convertToInteractive('df-d1f2dff4-103c-46a0-b8e2-8f75fd7578b8')\"\n",
              "            title=\"Convert this dataframe to an interactive table.\"\n",
              "            style=\"display:none;\">\n",
              "\n",
              "  <svg xmlns=\"http://www.w3.org/2000/svg\" height=\"24px\" viewBox=\"0 -960 960 960\">\n",
              "    <path d=\"M120-120v-720h720v720H120Zm60-500h600v-160H180v160Zm220 220h160v-160H400v160Zm0 220h160v-160H400v160ZM180-400h160v-160H180v160Zm440 0h160v-160H620v160ZM180-180h160v-160H180v160Zm440 0h160v-160H620v160Z\"/>\n",
              "  </svg>\n",
              "    </button>\n",
              "\n",
              "  <style>\n",
              "    .colab-df-container {\n",
              "      display:flex;\n",
              "      gap: 12px;\n",
              "    }\n",
              "\n",
              "    .colab-df-convert {\n",
              "      background-color: #E8F0FE;\n",
              "      border: none;\n",
              "      border-radius: 50%;\n",
              "      cursor: pointer;\n",
              "      display: none;\n",
              "      fill: #1967D2;\n",
              "      height: 32px;\n",
              "      padding: 0 0 0 0;\n",
              "      width: 32px;\n",
              "    }\n",
              "\n",
              "    .colab-df-convert:hover {\n",
              "      background-color: #E2EBFA;\n",
              "      box-shadow: 0px 1px 2px rgba(60, 64, 67, 0.3), 0px 1px 3px 1px rgba(60, 64, 67, 0.15);\n",
              "      fill: #174EA6;\n",
              "    }\n",
              "\n",
              "    .colab-df-buttons div {\n",
              "      margin-bottom: 4px;\n",
              "    }\n",
              "\n",
              "    [theme=dark] .colab-df-convert {\n",
              "      background-color: #3B4455;\n",
              "      fill: #D2E3FC;\n",
              "    }\n",
              "\n",
              "    [theme=dark] .colab-df-convert:hover {\n",
              "      background-color: #434B5C;\n",
              "      box-shadow: 0px 1px 3px 1px rgba(0, 0, 0, 0.15);\n",
              "      filter: drop-shadow(0px 1px 2px rgba(0, 0, 0, 0.3));\n",
              "      fill: #FFFFFF;\n",
              "    }\n",
              "  </style>\n",
              "\n",
              "    <script>\n",
              "      const buttonEl =\n",
              "        document.querySelector('#df-d1f2dff4-103c-46a0-b8e2-8f75fd7578b8 button.colab-df-convert');\n",
              "      buttonEl.style.display =\n",
              "        google.colab.kernel.accessAllowed ? 'block' : 'none';\n",
              "\n",
              "      async function convertToInteractive(key) {\n",
              "        const element = document.querySelector('#df-d1f2dff4-103c-46a0-b8e2-8f75fd7578b8');\n",
              "        const dataTable =\n",
              "          await google.colab.kernel.invokeFunction('convertToInteractive',\n",
              "                                                    [key], {});\n",
              "        if (!dataTable) return;\n",
              "\n",
              "        const docLinkHtml = 'Like what you see? Visit the ' +\n",
              "          '<a target=\"_blank\" href=https://colab.research.google.com/notebooks/data_table.ipynb>data table notebook</a>'\n",
              "          + ' to learn more about interactive tables.';\n",
              "        element.innerHTML = '';\n",
              "        dataTable['output_type'] = 'display_data';\n",
              "        await google.colab.output.renderOutput(dataTable, element);\n",
              "        const docLink = document.createElement('div');\n",
              "        docLink.innerHTML = docLinkHtml;\n",
              "        element.appendChild(docLink);\n",
              "      }\n",
              "    </script>\n",
              "  </div>\n",
              "\n",
              "\n",
              "<div id=\"df-86c4f2c8-cfec-4f26-94af-f10d11e05c00\">\n",
              "  <button class=\"colab-df-quickchart\" onclick=\"quickchart('df-86c4f2c8-cfec-4f26-94af-f10d11e05c00')\"\n",
              "            title=\"Suggest charts\"\n",
              "            style=\"display:none;\">\n",
              "\n",
              "<svg xmlns=\"http://www.w3.org/2000/svg\" height=\"24px\"viewBox=\"0 0 24 24\"\n",
              "     width=\"24px\">\n",
              "    <g>\n",
              "        <path d=\"M19 3H5c-1.1 0-2 .9-2 2v14c0 1.1.9 2 2 2h14c1.1 0 2-.9 2-2V5c0-1.1-.9-2-2-2zM9 17H7v-7h2v7zm4 0h-2V7h2v10zm4 0h-2v-4h2v4z\"/>\n",
              "    </g>\n",
              "</svg>\n",
              "  </button>\n",
              "\n",
              "<style>\n",
              "  .colab-df-quickchart {\n",
              "      --bg-color: #E8F0FE;\n",
              "      --fill-color: #1967D2;\n",
              "      --hover-bg-color: #E2EBFA;\n",
              "      --hover-fill-color: #174EA6;\n",
              "      --disabled-fill-color: #AAA;\n",
              "      --disabled-bg-color: #DDD;\n",
              "  }\n",
              "\n",
              "  [theme=dark] .colab-df-quickchart {\n",
              "      --bg-color: #3B4455;\n",
              "      --fill-color: #D2E3FC;\n",
              "      --hover-bg-color: #434B5C;\n",
              "      --hover-fill-color: #FFFFFF;\n",
              "      --disabled-bg-color: #3B4455;\n",
              "      --disabled-fill-color: #666;\n",
              "  }\n",
              "\n",
              "  .colab-df-quickchart {\n",
              "    background-color: var(--bg-color);\n",
              "    border: none;\n",
              "    border-radius: 50%;\n",
              "    cursor: pointer;\n",
              "    display: none;\n",
              "    fill: var(--fill-color);\n",
              "    height: 32px;\n",
              "    padding: 0;\n",
              "    width: 32px;\n",
              "  }\n",
              "\n",
              "  .colab-df-quickchart:hover {\n",
              "    background-color: var(--hover-bg-color);\n",
              "    box-shadow: 0 1px 2px rgba(60, 64, 67, 0.3), 0 1px 3px 1px rgba(60, 64, 67, 0.15);\n",
              "    fill: var(--button-hover-fill-color);\n",
              "  }\n",
              "\n",
              "  .colab-df-quickchart-complete:disabled,\n",
              "  .colab-df-quickchart-complete:disabled:hover {\n",
              "    background-color: var(--disabled-bg-color);\n",
              "    fill: var(--disabled-fill-color);\n",
              "    box-shadow: none;\n",
              "  }\n",
              "\n",
              "  .colab-df-spinner {\n",
              "    border: 2px solid var(--fill-color);\n",
              "    border-color: transparent;\n",
              "    border-bottom-color: var(--fill-color);\n",
              "    animation:\n",
              "      spin 1s steps(1) infinite;\n",
              "  }\n",
              "\n",
              "  @keyframes spin {\n",
              "    0% {\n",
              "      border-color: transparent;\n",
              "      border-bottom-color: var(--fill-color);\n",
              "      border-left-color: var(--fill-color);\n",
              "    }\n",
              "    20% {\n",
              "      border-color: transparent;\n",
              "      border-left-color: var(--fill-color);\n",
              "      border-top-color: var(--fill-color);\n",
              "    }\n",
              "    30% {\n",
              "      border-color: transparent;\n",
              "      border-left-color: var(--fill-color);\n",
              "      border-top-color: var(--fill-color);\n",
              "      border-right-color: var(--fill-color);\n",
              "    }\n",
              "    40% {\n",
              "      border-color: transparent;\n",
              "      border-right-color: var(--fill-color);\n",
              "      border-top-color: var(--fill-color);\n",
              "    }\n",
              "    60% {\n",
              "      border-color: transparent;\n",
              "      border-right-color: var(--fill-color);\n",
              "    }\n",
              "    80% {\n",
              "      border-color: transparent;\n",
              "      border-right-color: var(--fill-color);\n",
              "      border-bottom-color: var(--fill-color);\n",
              "    }\n",
              "    90% {\n",
              "      border-color: transparent;\n",
              "      border-bottom-color: var(--fill-color);\n",
              "    }\n",
              "  }\n",
              "</style>\n",
              "\n",
              "  <script>\n",
              "    async function quickchart(key) {\n",
              "      const quickchartButtonEl =\n",
              "        document.querySelector('#' + key + ' button');\n",
              "      quickchartButtonEl.disabled = true;  // To prevent multiple clicks.\n",
              "      quickchartButtonEl.classList.add('colab-df-spinner');\n",
              "      try {\n",
              "        const charts = await google.colab.kernel.invokeFunction(\n",
              "            'suggestCharts', [key], {});\n",
              "      } catch (error) {\n",
              "        console.error('Error during call to suggestCharts:', error);\n",
              "      }\n",
              "      quickchartButtonEl.classList.remove('colab-df-spinner');\n",
              "      quickchartButtonEl.classList.add('colab-df-quickchart-complete');\n",
              "    }\n",
              "    (() => {\n",
              "      let quickchartButtonEl =\n",
              "        document.querySelector('#df-86c4f2c8-cfec-4f26-94af-f10d11e05c00 button');\n",
              "      quickchartButtonEl.style.display =\n",
              "        google.colab.kernel.accessAllowed ? 'block' : 'none';\n",
              "    })();\n",
              "  </script>\n",
              "</div>\n",
              "    </div>\n",
              "  </div>\n"
            ],
            "application/vnd.google.colaboratory.intrinsic+json": {
              "type": "dataframe",
              "variable_name": "dados",
              "summary": "{\n  \"name\": \"dados\",\n  \"rows\": 57851,\n  \"fields\": [\n    {\n      \"column\": \"SalesOrderNumber\",\n      \"properties\": {\n        \"dtype\": \"category\",\n        \"num_unique_values\": 3616,\n        \"samples\": [\n          \"SO61176\",\n          \"SO48383\",\n          \"SO47059\"\n        ],\n        \"semantic_type\": \"\",\n        \"description\": \"\"\n      }\n    },\n    {\n      \"column\": \"OrderDate\",\n      \"properties\": {\n        \"dtype\": \"date\",\n        \"min\": \"2017-07-01 00:00:00\",\n        \"max\": \"2020-05-31 00:00:00\",\n        \"num_unique_values\": 990,\n        \"samples\": [\n          \"2018-03-11 00:00:00\",\n          \"2019-10-21 00:00:00\",\n          \"2019-02-06 00:00:00\"\n        ],\n        \"semantic_type\": \"\",\n        \"description\": \"\"\n      }\n    },\n    {\n      \"column\": \"ProductKey\",\n      \"properties\": {\n        \"dtype\": \"number\",\n        \"std\": 113,\n        \"min\": 212,\n        \"max\": 606,\n        \"num_unique_values\": 334,\n        \"samples\": [\n          297,\n          404,\n          391\n        ],\n        \"semantic_type\": \"\",\n        \"description\": \"\"\n      }\n    },\n    {\n      \"column\": \"ResellerKey\",\n      \"properties\": {\n        \"dtype\": \"number\",\n        \"std\": 205,\n        \"min\": 1,\n        \"max\": 701,\n        \"num_unique_values\": 632,\n        \"samples\": [\n          213,\n          605,\n          553\n        ],\n        \"semantic_type\": \"\",\n        \"description\": \"\"\n      }\n    },\n    {\n      \"column\": \"EmployeeKey\",\n      \"properties\": {\n        \"dtype\": \"number\",\n        \"std\": 4,\n        \"min\": 272,\n        \"max\": 296,\n        \"num_unique_values\": 17,\n        \"samples\": [\n          282,\n          287,\n          288\n        ],\n        \"semantic_type\": \"\",\n        \"description\": \"\"\n      }\n    },\n    {\n      \"column\": \"SalesTerritoryKey\",\n      \"properties\": {\n        \"dtype\": \"number\",\n        \"std\": 2,\n        \"min\": 1,\n        \"max\": 10,\n        \"num_unique_values\": 10,\n        \"samples\": [\n          2,\n          6,\n          7\n        ],\n        \"semantic_type\": \"\",\n        \"description\": \"\"\n      }\n    },\n    {\n      \"column\": \"Quantity\",\n      \"properties\": {\n        \"dtype\": \"number\",\n        \"std\": 3,\n        \"min\": 1,\n        \"max\": 44,\n        \"num_unique_values\": 41,\n        \"samples\": [\n          35,\n          13,\n          9\n        ],\n        \"semantic_type\": \"\",\n        \"description\": \"\"\n      }\n    },\n    {\n      \"column\": \"Unit Price\",\n      \"properties\": {\n        \"dtype\": \"number\",\n        \"std\": 521.8801639775426,\n        \"min\": 1.33,\n        \"max\": 2146.96,\n        \"num_unique_values\": 230,\n        \"samples\": [\n          4.32,\n          16.27,\n          22.79\n        ],\n        \"semantic_type\": \"\",\n        \"description\": \"\"\n      }\n    },\n    {\n      \"column\": \"Sales\",\n      \"properties\": {\n        \"dtype\": \"number\",\n        \"std\": 2150.4082558575074,\n        \"min\": 1.37,\n        \"max\": 30993.04,\n        \"num_unique_values\": 1406,\n        \"samples\": [\n          4909.3,\n          8455.32,\n          141.33\n        ],\n        \"semantic_type\": \"\",\n        \"description\": \"\"\n      }\n    },\n    {\n      \"column\": \"Cost\",\n      \"properties\": {\n        \"dtype\": \"number\",\n        \"std\": 2169.787634479947,\n        \"min\": 0.86,\n        \"max\": 38530.39,\n        \"num_unique_values\": 1430,\n        \"samples\": [\n          884.71,\n          540.44,\n          9560.77\n        ],\n        \"semantic_type\": \"\",\n        \"description\": \"\"\n      }\n    },\n    {\n      \"column\": \"Country\",\n      \"properties\": {\n        \"dtype\": \"category\",\n        \"num_unique_values\": 6,\n        \"samples\": [\n          \"United States\",\n          \"Canada\",\n          \"Australia\"\n        ],\n        \"semantic_type\": \"\",\n        \"description\": \"\"\n      }\n    },\n    {\n      \"column\": \"Continent\",\n      \"properties\": {\n        \"dtype\": \"category\",\n        \"num_unique_values\": 3,\n        \"samples\": [\n          \"North America\",\n          \"Europe\",\n          \"Pacific\"\n        ],\n        \"semantic_type\": \"\",\n        \"description\": \"\"\n      }\n    },\n    {\n      \"column\": \"Product\",\n      \"properties\": {\n        \"dtype\": \"category\",\n        \"num_unique_values\": 250,\n        \"samples\": [\n          \"Road-250 Red, 48\",\n          \"Mountain-100 Black, 42\",\n          \"Road-450 Red, 60\"\n        ],\n        \"semantic_type\": \"\",\n        \"description\": \"\"\n      }\n    },\n    {\n      \"column\": \"Color\",\n      \"properties\": {\n        \"dtype\": \"category\",\n        \"num_unique_values\": 8,\n        \"samples\": [\n          \"Black\",\n          \"Silver/Black\",\n          \"Multi\"\n        ],\n        \"semantic_type\": \"\",\n        \"description\": \"\"\n      }\n    },\n    {\n      \"column\": \"Subcategory\",\n      \"properties\": {\n        \"dtype\": \"category\",\n        \"num_unique_values\": 33,\n        \"samples\": [\n          \"Hydration Packs\",\n          \"Socks\",\n          \"Road Bikes\"\n        ],\n        \"semantic_type\": \"\",\n        \"description\": \"\"\n      }\n    },\n    {\n      \"column\": \"Category\",\n      \"properties\": {\n        \"dtype\": \"category\",\n        \"num_unique_values\": 4,\n        \"samples\": [\n          \"Bikes\",\n          \"Accessories\",\n          \"Clothing\"\n        ],\n        \"semantic_type\": \"\",\n        \"description\": \"\"\n      }\n    }\n  ]\n}"
            }
          },
          "metadata": {},
          "execution_count": 12
        }
      ]
    },
    {
      "cell_type": "code",
      "source": [
        "#a) - Quais foram as tendências de vendas ao longo do tempo (mensal)"
      ],
      "metadata": {
        "id": "ETgIabK8GcwC"
      },
      "execution_count": 13,
      "outputs": []
    },
    {
      "cell_type": "code",
      "source": [
        "venda_mensal = dados.resample('M', on='OrderDate')['Sales'].sum()"
      ],
      "metadata": {
        "id": "D8_QjjZNGEOz"
      },
      "execution_count": 14,
      "outputs": []
    },
    {
      "cell_type": "code",
      "source": [
        "venda_mensal"
      ],
      "metadata": {
        "colab": {
          "base_uri": "https://localhost:8080/"
        },
        "id": "Kur7djygF0NV",
        "outputId": "377dffaf-6702-48cd-be0e-afab962fda33"
      },
      "execution_count": 15,
      "outputs": [
        {
          "output_type": "execute_result",
          "data": {
            "text/plain": [
              "OrderDate\n",
              "2017-07-31     489328.40\n",
              "2017-08-31    1540072.02\n",
              "2017-09-30    1166332.45\n",
              "2017-10-31     844832.71\n",
              "2017-11-30    2325754.91\n",
              "2017-12-31    1703435.09\n",
              "2018-01-31     713229.54\n",
              "2018-02-28    1900794.46\n",
              "2018-03-31    1455280.27\n",
              "2018-04-30     883010.98\n",
              "2018-05-31    2269719.87\n",
              "2018-06-30     950663.90\n",
              "2018-07-31    2411558.85\n",
              "2018-08-31    3615914.46\n",
              "2018-09-30    2893701.61\n",
              "2018-10-31    1804176.93\n",
              "2018-11-30    3054996.72\n",
              "2018-12-31    2188205.66\n",
              "2019-01-31    1318592.01\n",
              "2019-02-28    2386073.19\n",
              "2019-03-31    1564294.92\n",
              "2019-04-30    1868433.35\n",
              "2019-05-31    2882637.58\n",
              "2019-06-30    1990249.25\n",
              "2019-07-31    2727979.03\n",
              "2019-08-31    4302463.14\n",
              "2019-09-30    4150879.35\n",
              "2019-10-31    2293200.43\n",
              "2019-11-30    3489052.03\n",
              "2019-12-31    3513587.30\n",
              "2020-01-31    1664187.50\n",
              "2020-02-29    2701954.05\n",
              "2020-03-31    2741182.95\n",
              "2020-04-30    2211885.83\n",
              "2020-05-31    3325556.46\n",
              "Freq: M, Name: Sales, dtype: float64"
            ]
          },
          "metadata": {},
          "execution_count": 15
        }
      ]
    },
    {
      "cell_type": "code",
      "source": [
        "#b) -  Quais foram as tendências de vendas ao longo do tempo (sazonal)"
      ],
      "metadata": {
        "id": "CHBrkN-sHu6i"
      },
      "execution_count": 16,
      "outputs": []
    },
    {
      "cell_type": "code",
      "source": [
        "media_venda_mensal = dados.groupby(dados['OrderDate'].dt.month)['Sales'].mean()"
      ],
      "metadata": {
        "id": "5rE0a_G-IdYK"
      },
      "execution_count": 17,
      "outputs": []
    },
    {
      "cell_type": "code",
      "source": [
        "media_venda_mensal"
      ],
      "metadata": {
        "colab": {
          "base_uri": "https://localhost:8080/"
        },
        "id": "ZoEFKO_qIdbf",
        "outputId": "ae05da18-c94f-4ed0-89c2-cf0d031ce9aa"
      },
      "execution_count": 18,
      "outputs": [
        {
          "output_type": "execute_result",
          "data": {
            "text/plain": [
              "OrderDate\n",
              "1     1347.924526\n",
              "2     1517.329939\n",
              "3     1424.167649\n",
              "4     1327.093626\n",
              "5     1353.218501\n",
              "6     1168.420004\n",
              "7     1321.020014\n",
              "8     1260.622367\n",
              "9     1255.875407\n",
              "10    1330.339184\n",
              "11    1395.720482\n",
              "12    1330.918054\n",
              "Name: Sales, dtype: float64"
            ]
          },
          "metadata": {},
          "execution_count": 18
        }
      ]
    },
    {
      "cell_type": "code",
      "source": [
        "#c) - Quais foram os picos de vendas e períodos de baixo desempenho\n",
        "# Podemos calcular as vendas máximas e mínimas por mês"
      ],
      "metadata": {
        "id": "zTvoxC3hIdgN"
      },
      "execution_count": 19,
      "outputs": []
    },
    {
      "cell_type": "code",
      "source": [
        "max_venda_mensal = dados.groupby(dados['OrderDate'].dt.month)['Sales'].max()\n",
        "min_venda_mensal = dados.groupby(dados['OrderDate'].dt.month)['Sales'].min()"
      ],
      "metadata": {
        "id": "ERmrXjxn0WSl"
      },
      "execution_count": 20,
      "outputs": []
    },
    {
      "cell_type": "code",
      "source": [
        "print(\"\\nVendas máximas por mês:\")\n",
        "print(max_venda_mensal)"
      ],
      "metadata": {
        "colab": {
          "base_uri": "https://localhost:8080/"
        },
        "id": "b4_tPfz_JAA7",
        "outputId": "96375fb2-5966-495d-d867-ef0592ddc800"
      },
      "execution_count": 21,
      "outputs": [
        {
          "output_type": "stream",
          "name": "stdout",
          "text": [
            "\n",
            "Vendas máximas por mês:\n",
            "OrderDate\n",
            "1     16319.92\n",
            "2     21691.83\n",
            "3     18224.91\n",
            "4     20195.84\n",
            "5     23489.88\n",
            "6     13089.40\n",
            "7     27536.04\n",
            "8     27607.86\n",
            "9     25515.00\n",
            "10    30993.04\n",
            "11    24913.56\n",
            "12    23663.88\n",
            "Name: Sales, dtype: float64\n"
          ]
        }
      ]
    },
    {
      "cell_type": "code",
      "source": [
        "print(\"\\nVendas mínimo por mês:\")\n",
        "print(min_venda_mensal)"
      ],
      "metadata": {
        "colab": {
          "base_uri": "https://localhost:8080/"
        },
        "id": "-r6JhMJv1Yfo",
        "outputId": "dfc07034-a3ba-4bd4-f9ee-a387fd1b6ec6"
      },
      "execution_count": 22,
      "outputs": [
        {
          "output_type": "stream",
          "name": "stdout",
          "text": [
            "\n",
            "Vendas mínimo por mês:\n",
            "OrderDate\n",
            "1     2.74\n",
            "2     1.37\n",
            "3     1.37\n",
            "4     2.74\n",
            "5     1.37\n",
            "6     5.19\n",
            "7     1.37\n",
            "8     1.37\n",
            "9     1.37\n",
            "10    2.74\n",
            "11    2.74\n",
            "12    1.37\n",
            "Name: Sales, dtype: float64\n"
          ]
        }
      ]
    },
    {
      "cell_type": "code",
      "source": [
        "##e) - Mostra a Comparação entre vendas de diferentes períodos temporais\n",
        "# Podemos comparar as vendas entre diferentes anos"
      ],
      "metadata": {
        "id": "q7sJQe85JADk"
      },
      "execution_count": 23,
      "outputs": []
    },
    {
      "cell_type": "code",
      "source": [
        "comp_vendas_ano = dados.groupby(dados['OrderDate'].dt.year)['Sales'].sum()"
      ],
      "metadata": {
        "id": "MuaWE9qsJAGB"
      },
      "execution_count": 24,
      "outputs": []
    },
    {
      "cell_type": "code",
      "source": [
        "print(\"\\nComparação de vendas entre diferentes anos:\")\n",
        "print(comp_vendas_ano)"
      ],
      "metadata": {
        "colab": {
          "base_uri": "https://localhost:8080/"
        },
        "id": "FgLe7abhJAIJ",
        "outputId": "a1a8317f-edb3-4d5f-ce41-1e7529083da6"
      },
      "execution_count": 25,
      "outputs": [
        {
          "output_type": "stream",
          "name": "stdout",
          "text": [
            "\n",
            "Comparação de vendas entre diferentes anos:\n",
            "OrderDate\n",
            "2017     8069755.58\n",
            "2018    24141253.25\n",
            "2019    32487441.58\n",
            "2020    12644766.79\n",
            "Name: Sales, dtype: float64\n"
          ]
        }
      ]
    },
    {
      "cell_type": "code",
      "source": [
        "#f) - Quais Produtos podemos considerar mais vendidos"
      ],
      "metadata": {
        "id": "M7mHlYCq31mS"
      },
      "execution_count": 26,
      "outputs": []
    },
    {
      "cell_type": "code",
      "source": [
        "top_produtos = dados.groupby('Product')['Sales'].sum().sort_values(ascending=False).head(10)"
      ],
      "metadata": {
        "id": "P_WyYuFpJAKa"
      },
      "execution_count": 27,
      "outputs": []
    },
    {
      "cell_type": "code",
      "source": [
        "# Visualizar os 10 produtos mais vendidos\n",
        "print(\"Top 10 produtos mais vendidos:\")\n",
        "print(top_produtos)"
      ],
      "metadata": {
        "colab": {
          "base_uri": "https://localhost:8080/"
        },
        "id": "naaNKH6b3M9M",
        "outputId": "a1828d2d-3039-4778-9488-890a6ea24671"
      },
      "execution_count": 28,
      "outputs": [
        {
          "output_type": "stream",
          "name": "stdout",
          "text": [
            "Top 10 produtos mais vendidos:\n",
            "Product\n",
            "Mountain-200 Black, 38     2944665.88\n",
            "Mountain-200 Black, 42     2517355.08\n",
            "Mountain-200 Silver, 38    2240091.34\n",
            "Mountain-200 Silver, 42    2108685.83\n",
            "Mountain-200 Silver, 46    2038938.83\n",
            "Mountain-200 Black, 46     1845368.54\n",
            "Road-250 Black, 44         1832750.05\n",
            "Road-250 Black, 48         1586672.94\n",
            "Road-350-W Yellow, 48      1283443.06\n",
            "Touring-1000 Blue, 60      1263913.32\n",
            "Name: Sales, dtype: float64\n"
          ]
        }
      ]
    },
    {
      "cell_type": "code",
      "source": [
        "#g) - Como esta a distribuição das vendas em relação a categoria, subcategoria e cor"
      ],
      "metadata": {
        "id": "32GBW0RM3NAH"
      },
      "execution_count": 29,
      "outputs": []
    },
    {
      "cell_type": "code",
      "source": [
        "vendas_categoria = dados.groupby('Category')['Sales'].sum()\n",
        "vendas_subcategoria = dados.groupby('Subcategory')['Sales'].sum()\n",
        "vendas_cor = dados.groupby('Color')['Sales'].sum()"
      ],
      "metadata": {
        "id": "lw3gdU_O3NCs"
      },
      "execution_count": 30,
      "outputs": []
    },
    {
      "cell_type": "code",
      "source": [
        "# Visualizar a distribuição de vendas por categoria, subcategoria e cor\n",
        "print(\"\\nDistribuição de vendas por categoria:\")\n",
        "print(vendas_categoria)\n",
        "print(\"\\nDistribuição de vendas por subcategoria:\")\n",
        "print(vendas_subcategoria)\n",
        "print(\"\\nDistribuição de vendas por cor:\")\n",
        "print(vendas_cor)"
      ],
      "metadata": {
        "colab": {
          "base_uri": "https://localhost:8080/"
        },
        "id": "G-hENzLH3NF4",
        "outputId": "3d799ca9-c0a8-44c0-b4bc-5787458dc7c7"
      },
      "execution_count": 31,
      "outputs": [
        {
          "output_type": "stream",
          "name": "stdout",
          "text": [
            "\n",
            "Distribuição de vendas por categoria:\n",
            "Category\n",
            "Accessories      532464.09\n",
            "Bikes          63879394.16\n",
            "Clothing        1704984.05\n",
            "Components     11226374.90\n",
            "Name: Sales, dtype: float64\n",
            "\n",
            "Distribuição de vendas por subcategoria:\n",
            "Subcategory\n",
            "Bib-Shorts             167171.79\n",
            "Bike Racks             175365.60\n",
            "Bottles and Cages        6885.93\n",
            "Bottom Brackets         44444.93\n",
            "Brakes                  60183.15\n",
            "Caps                    30658.42\n",
            "Chains                   8363.00\n",
            "Cleaners                10179.94\n",
            "Cranksets              183123.06\n",
            "Derailleurs             61629.35\n",
            "Forks                   77966.80\n",
            "Gloves                 207372.85\n",
            "Handlebars             161990.56\n",
            "Headsets                61134.40\n",
            "Helmets                250209.76\n",
            "Hydration Packs         59218.45\n",
            "Jerseys                549933.91\n",
            "Locks                   16249.00\n",
            "Mountain Bikes       25690513.86\n",
            "Mountain Frames       4493533.42\n",
            "Pedals                 133777.98\n",
            "Pumps                   13524.30\n",
            "Road Bikes           28681899.48\n",
            "Road Frames           3746817.13\n",
            "Saddles                 50424.97\n",
            "Shorts                 317170.09\n",
            "Socks                   23331.45\n",
            "Tights                 202096.16\n",
            "Tires and Tubes           831.11\n",
            "Touring Bikes         9506980.82\n",
            "Touring Frames        1463309.26\n",
            "Vests                  207249.38\n",
            "Wheels                 679676.89\n",
            "Name: Sales, dtype: float64\n",
            "\n",
            "Distribuição de vendas por cor:\n",
            "Color\n",
            "Black           28576938.26\n",
            "Blue             6598958.15\n",
            "Multi             531946.84\n",
            "Red             13843812.11\n",
            "Silver          14075460.96\n",
            "Silver/Black      133777.98\n",
            "White              23331.45\n",
            "Yellow          12939993.91\n",
            "Name: Sales, dtype: float64\n"
          ]
        }
      ]
    },
    {
      "cell_type": "code",
      "source": [
        "#h) - Qual foi o desempenho dos diferentes produtos da BD\n",
        "# Podemos calcular as vendas médias por produto"
      ],
      "metadata": {
        "id": "ZC_cdn2vJAM2"
      },
      "execution_count": 32,
      "outputs": []
    },
    {
      "cell_type": "code",
      "source": [
        "media_vendas_produtos = dados.groupby('Product')['Sales'].mean().sort_values(ascending=False).head(20)"
      ],
      "metadata": {
        "id": "Jr_o05IIJAPC"
      },
      "execution_count": 33,
      "outputs": []
    },
    {
      "cell_type": "code",
      "source": [
        "print(\"\\nVendas médias por produto:\")\n",
        "print(media_vendas_produtos)"
      ],
      "metadata": {
        "colab": {
          "base_uri": "https://localhost:8080/"
        },
        "id": "tGZk4KPUJARF",
        "outputId": "f850530f-c839-4ca9-c0b6-c81610a74a59"
      },
      "execution_count": 34,
      "outputs": [
        {
          "output_type": "stream",
          "name": "stdout",
          "text": [
            "\n",
            "Vendas médias por produto:\n",
            "Product\n",
            "Mountain-100 Black, 44     6424.337363\n",
            "Mountain-100 Black, 38     6402.983081\n",
            "Mountain-100 Black, 42     6125.872732\n",
            "Mountain-100 Silver, 38    5827.441585\n",
            "Mountain-100 Silver, 42    5685.949832\n",
            "Mountain-100 Black, 48     5665.799839\n",
            "Mountain-100 Silver, 44    5594.635707\n",
            "Mountain-100 Silver, 48    5234.962560\n",
            "Road-250 Red, 44           4990.764000\n",
            "Touring-1000 Blue, 60      4861.205077\n",
            "Mountain-200 Silver, 38    4706.074244\n",
            "Mountain-200 Black, 42     4661.768667\n",
            "Road-150 Red, 48           4651.746667\n",
            "Mountain-200 Black, 38     4608.240814\n",
            "Mountain-200 Silver, 42    4574.155813\n",
            "Touring-1000 Blue, 46      4523.793712\n",
            "Mountain-200 Silver, 46    4500.968720\n",
            "Road-250 Red, 48           4429.770561\n",
            "Mountain-200 Black, 46     4425.344221\n",
            "Road-150 Red, 52           4406.917895\n",
            "Name: Sales, dtype: float64\n"
          ]
        }
      ]
    },
    {
      "cell_type": "code",
      "source": [
        "#i) - Quais os territórios de vendas foram mais lucrativos"
      ],
      "metadata": {
        "id": "MYJu_-c66Bo5"
      },
      "execution_count": 35,
      "outputs": []
    },
    {
      "cell_type": "code",
      "source": [
        "dados.columns"
      ],
      "metadata": {
        "colab": {
          "base_uri": "https://localhost:8080/"
        },
        "id": "0YZQXcGP7KLA",
        "outputId": "4ad2765e-2e79-4b98-abdf-f955341a67e6"
      },
      "execution_count": 36,
      "outputs": [
        {
          "output_type": "execute_result",
          "data": {
            "text/plain": [
              "Index(['SalesOrderNumber', 'OrderDate', 'ProductKey', 'ResellerKey',\n",
              "       'EmployeeKey', 'SalesTerritoryKey', 'Quantity', 'Unit Price', 'Sales',\n",
              "       'Cost', 'Country', 'Continent', 'Product', 'Color', 'Subcategory',\n",
              "       'Category'],\n",
              "      dtype='object')"
            ]
          },
          "metadata": {},
          "execution_count": 36
        }
      ]
    },
    {
      "cell_type": "code",
      "source": [
        "vendas_territorio = dados.groupby('SalesTerritoryKey')['Sales'].sum().sort_values(ascending=False)"
      ],
      "metadata": {
        "id": "RFmS4bji6U9x"
      },
      "execution_count": 37,
      "outputs": []
    },
    {
      "cell_type": "code",
      "source": [
        "# Visualizar os territórios de vendas mais lucrativos\n",
        "print(\"Territórios de vendas mais lucrativos:\")\n",
        "print(vendas_territorio)"
      ],
      "metadata": {
        "colab": {
          "base_uri": "https://localhost:8080/"
        },
        "id": "C5Kprrt46VAo",
        "outputId": "2970fdb7-d70a-46bd-feb0-0afc95ece5af"
      },
      "execution_count": 38,
      "outputs": [
        {
          "output_type": "stream",
          "name": "stdout",
          "text": [
            "Territórios de vendas mais lucrativos:\n",
            "SalesTerritoryKey\n",
            "4     17928423.10\n",
            "6     13821416.96\n",
            "1     11964502.45\n",
            "3      7624656.86\n",
            "5      7613973.55\n",
            "2      6713671.39\n",
            "7      4526327.69\n",
            "10     3883042.96\n",
            "8      1876177.39\n",
            "9      1391024.85\n",
            "Name: Sales, dtype: float64\n"
          ]
        }
      ]
    },
    {
      "cell_type": "code",
      "source": [
        "dados['SalesTerritoryKey'].unique()"
      ],
      "metadata": {
        "colab": {
          "base_uri": "https://localhost:8080/"
        },
        "id": "QKweTZos6VDU",
        "outputId": "0bbba690-c9a7-4f7f-ec6b-33aa43f70a8a"
      },
      "execution_count": 39,
      "outputs": [
        {
          "output_type": "execute_result",
          "data": {
            "text/plain": [
              "array([ 4,  6,  1,  3, 10,  7,  8,  5,  2,  9])"
            ]
          },
          "metadata": {},
          "execution_count": 39
        }
      ]
    },
    {
      "cell_type": "code",
      "source": [
        "#j) - Como esta o desempho de vendas entre as regiões da BD\n",
        "# Podemos calcular as vendas médias por território"
      ],
      "metadata": {
        "id": "ZMZW8R3I6VF-"
      },
      "execution_count": 40,
      "outputs": []
    },
    {
      "cell_type": "code",
      "source": [
        "media_vendas_territorio = dados.groupby(\"SalesTerritoryKey\")['Sales'].mean()"
      ],
      "metadata": {
        "id": "KKebTJzJ6VIe"
      },
      "execution_count": 41,
      "outputs": []
    },
    {
      "cell_type": "code",
      "source": [
        "# Visualizar as vendas médias por território\n",
        "print(\"\\nVendas médias por território:\")\n",
        "print(media_vendas_territorio)"
      ],
      "metadata": {
        "colab": {
          "base_uri": "https://localhost:8080/"
        },
        "id": "IYBLu3Dj6VKt",
        "outputId": "a2c9f649-dfa9-4ed7-8fde-c1ea701197fe"
      },
      "execution_count": 42,
      "outputs": [
        {
          "output_type": "stream",
          "name": "stdout",
          "text": [
            "\n",
            "Vendas médias por território:\n",
            "SalesTerritoryKey\n",
            "1     1606.836214\n",
            "2     1196.732868\n",
            "3     1379.529014\n",
            "4     1397.818735\n",
            "5     1326.014202\n",
            "6     1264.076912\n",
            "7     1322.714112\n",
            "8     1117.437397\n",
            "9      977.529761\n",
            "10    1197.730709\n",
            "Name: Sales, dtype: float64\n"
          ]
        }
      ]
    },
    {
      "cell_type": "code",
      "source": [
        "# k) - Como calcular a margem de Lucro dessa BD"
      ],
      "metadata": {
        "id": "xsMAWg0F6VNS"
      },
      "execution_count": 43,
      "outputs": []
    },
    {
      "cell_type": "code",
      "source": [
        "dados['Profit'] = dados['Sales'] - dados['Cost']\n",
        "dados['Profit_Margin'] = (dados['Profit'] / dados['Sales']) * 100"
      ],
      "metadata": {
        "id": "04-ztEcy9KGE"
      },
      "execution_count": 44,
      "outputs": []
    },
    {
      "cell_type": "code",
      "source": [
        "# Visualizar as margens de lucro\n",
        "print(\"Margens de lucro:\")\n",
        "print(dados[['Product', 'Profit_Margin']].sample(20))"
      ],
      "metadata": {
        "colab": {
          "base_uri": "https://localhost:8080/"
        },
        "id": "IvWDKYX-9KI6",
        "outputId": "3aecbb6d-ba37-476b-8a6a-65f59bf64647"
      },
      "execution_count": 45,
      "outputs": [
        {
          "output_type": "stream",
          "name": "stdout",
          "text": [
            "Margens de lucro:\n",
            "                              Product  Profit_Margin\n",
            "23504       LL Road Frame - Black, 58      -1.136757\n",
            "39680         Touring-3000 Yellow, 54     -38.132371\n",
            "1188     ML Road Frame-W - Yellow, 38       7.498844\n",
            "52000           Road-550-W Yellow, 40      -0.897706\n",
            "53630         Mountain-200 Silver, 42       9.078370\n",
            "14128         LL Road Frame - Red, 48       7.497652\n",
            "19926          ML Mountain Rear Wheel      25.999153\n",
            "26409    ML Road Frame-W - Yellow, 44       7.498844\n",
            "24360                Road-150 Red, 48      -1.133230\n",
            "50874                 Classic Vest, S      37.668416\n",
            "11392          HL Mountain Handlebars      25.998476\n",
            "52271      Long-Sleeve Logo Jersey, M     -28.352308\n",
            "8404               Road-250 Black, 58      -0.897291\n",
            "54318          ML Mountain Rear Wheel      26.002683\n",
            "49871  HL Mountain Frame - Silver, 38       8.733358\n",
            "21519         Mountain-500 Silver, 48       9.076964\n",
            "31349          Mountain-300 Black, 44       7.647237\n",
            "22899                Road-650 Red, 48      -3.601609\n",
            "11655                   ML Road Pedal      25.986577\n",
            "7084          LL Mountain Front Wheel      26.008230\n"
          ]
        }
      ]
    },
    {
      "cell_type": "code",
      "source": [
        "# Identificar os produtos mais lucrativos"
      ],
      "metadata": {
        "id": "YXFM-lHR9KLY"
      },
      "execution_count": 46,
      "outputs": []
    },
    {
      "cell_type": "code",
      "source": [
        "produtos_lucrativos = dados.groupby(\"Product\")['Profit'].sum().sort_values(ascending=False).head(10)"
      ],
      "metadata": {
        "id": "disVlORK9KN8"
      },
      "execution_count": 47,
      "outputs": []
    },
    {
      "cell_type": "code",
      "source": [
        "# Visualizar os produtos mais lucrativos\n",
        "print(\"\\nTop 10 produtos mais lucrativos:\")\n",
        "print(produtos_lucrativos)"
      ],
      "metadata": {
        "colab": {
          "base_uri": "https://localhost:8080/"
        },
        "id": "HV-gjE9Y9KSG",
        "outputId": "a3dd52f4-a48a-49f2-a28d-9146b971f8b9"
      },
      "execution_count": 48,
      "outputs": [
        {
          "output_type": "stream",
          "name": "stdout",
          "text": [
            "\n",
            "Top 10 produtos mais lucrativos:\n",
            "Product\n",
            "Mountain-200 Black, 38            272773.86\n",
            "Mountain-200 Black, 42            234485.77\n",
            "Mountain-200 Silver, 38           210455.61\n",
            "Mountain-200 Silver, 42           198461.78\n",
            "Mountain-200 Silver, 46           193576.11\n",
            "Mountain-200 Black, 46            174514.55\n",
            "HL Mountain Frame - Silver, 38     93737.24\n",
            "HL Mountain Frame - Black, 42      90867.77\n",
            "Hitch Rack - 4-Bike                59350.80\n",
            "HL Mountain Frame - Black, 38      50868.34\n",
            "Name: Profit, dtype: float64\n"
          ]
        }
      ]
    },
    {
      "cell_type": "code",
      "source": [
        "# Analisar a relação entre custos e vendas\n",
        "# Podemos criar um gráfico de dispersão para visualizar a relação entre custos e vendas"
      ],
      "metadata": {
        "id": "Y0isz-M49KVT"
      },
      "execution_count": 49,
      "outputs": []
    },
    {
      "cell_type": "code",
      "source": [
        "plt.scatter(dados['Cost'], dados['Sales'])\n",
        "plt.xlabel('Custo')\n",
        "plt.ylabel('Vendas')\n",
        "plt.title('Relação entre Custos e Vendas')\n",
        "plt.show()"
      ],
      "metadata": {
        "colab": {
          "base_uri": "https://localhost:8080/",
          "height": 472
        },
        "id": "Zu_mLqS09KXJ",
        "outputId": "03b18c34-e79d-4c9e-f843-345597a1a29b"
      },
      "execution_count": 50,
      "outputs": [
        {
          "output_type": "display_data",
          "data": {
            "text/plain": [
              "<Figure size 640x480 with 1 Axes>"
            ],
            "image/png": "[encoded data removed]"
          },
          "metadata": {}
        }
      ]
    },
    {
      "cell_type": "code",
      "source": [
        "plt.scatter(dados['Unit Price'], dados['Sales'])\n",
        "plt.xlabel('Unit Price')\n",
        "plt.ylabel('Vendas')\n",
        "plt.title('Relação entre Preço e Vendas')\n",
        "plt.show()"
      ],
      "metadata": {
        "colab": {
          "base_uri": "https://localhost:8080/",
          "height": 472
        },
        "id": "S3ns8UWWR4Kq",
        "outputId": "23f280e6-14c5-45bd-99b0-9546143ec1a9"
      },
      "execution_count": 87,
      "outputs": [
        {
          "output_type": "display_data",
          "data": {
            "text/plain": [
              "<Figure size 640x480 with 1 Axes>"
            ],
            "image/png": "[encoded data removed]"
          },
          "metadata": {}
        }
      ]
    },
    {
      "cell_type": "code",
      "source": [
        "top_revendedores = dados.groupby('ResellerKey')['Sales'].sum().sort_values(ascending=False).head(10)"
      ],
      "metadata": {
        "id": "Ua4XdTjR9KZn"
      },
      "execution_count": 51,
      "outputs": []
    },
    {
      "cell_type": "code",
      "source": [
        "# Visualizar os principais resellers\n",
        "print(\"Top 10 resellers com melhores vendas:\")\n",
        "print(top_revendedores)"
      ],
      "metadata": {
        "colab": {
          "base_uri": "https://localhost:8080/"
        },
        "id": "AgCY0ObcAtVa",
        "outputId": "ed96114f-2a9c-466e-da3e-e1a4c00d7da6"
      },
      "execution_count": 52,
      "outputs": [
        {
          "output_type": "stream",
          "name": "stdout",
          "text": [
            "Top 10 resellers com melhores vendas:\n",
            "ResellerKey\n",
            "697    876702.53\n",
            "328    817125.03\n",
            "514    803767.27\n",
            "170    773398.22\n",
            "678    758432.73\n",
            "433    741360.41\n",
            "155    736865.30\n",
            "227    735233.10\n",
            "166    731634.54\n",
            "146    724740.34\n",
            "Name: Sales, dtype: float64\n"
          ]
        }
      ]
    },
    {
      "cell_type": "code",
      "source": [
        "# Identificar os funcionários com melhores vendas"
      ],
      "metadata": {
        "id": "1qfZuoanAtaa"
      },
      "execution_count": 53,
      "outputs": []
    },
    {
      "cell_type": "code",
      "source": [
        "top_funcionario = dados.groupby('EmployeeKey')['Sales'].sum().sort_values(ascending=False).head(20)"
      ],
      "metadata": {
        "id": "z9rz0MZS9KcP"
      },
      "execution_count": 54,
      "outputs": []
    },
    {
      "cell_type": "code",
      "source": [
        "# Visualizar os funcionários com melhores vendas\n",
        "print(\"\\nTop 10 funcionários com melhores vendas:\")\n",
        "print(top_funcionario)"
      ],
      "metadata": {
        "colab": {
          "base_uri": "https://localhost:8080/"
        },
        "id": "Lvh41F2cBuMt",
        "outputId": "d6c0b6be-fcb9-466c-8e60-45eb1ddaeceb"
      },
      "execution_count": 55,
      "outputs": [
        {
          "output_type": "stream",
          "name": "stdout",
          "text": [
            "\n",
            "Top 10 funcionários com melhores vendas:\n",
            "EmployeeKey\n",
            "282    10105300.52\n",
            "283     9748189.01\n",
            "281     8943724.48\n",
            "291     8096612.95\n",
            "285     6951495.29\n",
            "287     6237797.33\n",
            "288     5525270.26\n",
            "292     4427856.45\n",
            "289     3607902.61\n",
            "284     3482736.49\n",
            "286     3186712.14\n",
            "293     2184211.15\n",
            "295     1679641.53\n",
            "296     1216916.52\n",
            "272     1037173.72\n",
            "290      737568.42\n",
            "294      174108.33\n",
            "Name: Sales, dtype: float64\n"
          ]
        }
      ]
    },
    {
      "cell_type": "code",
      "source": [
        "# Analisar a eficácia dos canais de distribuição\n",
        "# Podemos comparar as vendas por canal de distribuição (reseller vs. employee)"
      ],
      "metadata": {
        "id": "LTt7dd5BB0Xw"
      },
      "execution_count": 56,
      "outputs": []
    },
    {
      "cell_type": "code",
      "source": [
        "vendas_canal = dados.groupby(\"ResellerKey\")['Sales'].sum().reset_index().rename(columns={'ResellerKey': 'Channel'})\n",
        "vendas_canal['Channel Type'] = 'Reseller'\n",
        "\n",
        "vendas_func = dados.groupby(\"EmployeeKey\")['Sales'].sum().reset_index().rename(columns={'EmployeeKey': 'Channel'})\n",
        "vendas_func['Channel Type'] = 'EmployeeKey'\n",
        "\n",
        "\n",
        "vendas_canal = pd.concat([vendas_canal, vendas_func])"
      ],
      "metadata": {
        "id": "t880eWOUCDTX"
      },
      "execution_count": 57,
      "outputs": []
    },
    {
      "cell_type": "code",
      "source": [
        "vendas_canal"
      ],
      "metadata": {
        "colab": {
          "base_uri": "https://localhost:8080/",
          "height": 423
        },
        "id": "wjLV1YbPEkRa",
        "outputId": "af2322fb-a3f7-4870-e65e-0cc199ef252e"
      },
      "execution_count": 58,
      "outputs": [
        {
          "output_type": "execute_result",
          "data": {
            "text/plain": [
              "    Channel       Sales Channel Type\n",
              "0         1    85177.04     Reseller\n",
              "1         2    25204.31     Reseller\n",
              "2         3   336451.79     Reseller\n",
              "3         4   586741.66     Reseller\n",
              "4         5    77174.62     Reseller\n",
              "..      ...         ...          ...\n",
              "12      292  4427856.45  EmployeeKey\n",
              "13      293  2184211.15  EmployeeKey\n",
              "14      294   174108.33  EmployeeKey\n",
              "15      295  1679641.53  EmployeeKey\n",
              "16      296  1216916.52  EmployeeKey\n",
              "\n",
              "[649 rows x 3 columns]"
            ],
            "text/html": [
              "\n",
              "  <div id=\"df-d98103e4-abbf-4516-8061-596f6ffe1371\" class=\"colab-df-container\">\n",
              "    <div>\n",
              "<style scoped>\n",
              "    .dataframe tbody tr th:only-of-type {\n",
              "        vertical-align: middle;\n",
              "    }\n",
              "\n",
              "    .dataframe tbody tr th {\n",
              "        vertical-align: top;\n",
              "    }\n",
              "\n",
              "    .dataframe thead th {\n",
              "        text-align: right;\n",
              "    }\n",
              "</style>\n",
              "<table border=\"1\" class=\"dataframe\">\n",
              "  <thead>\n",
              "    <tr style=\"text-align: right;\">\n",
              "      <th></th>\n",
              "      <th>Channel</th>\n",
              "      <th>Sales</th>\n",
              "      <th>Channel Type</th>\n",
              "    </tr>\n",
              "  </thead>\n",
              "  <tbody>\n",
              "    <tr>\n",
              "      <th>0</th>\n",
              "      <td>1</td>\n",
              "      <td>85177.04</td>\n",
              "      <td>Reseller</td>\n",
              "    </tr>\n",
              "    <tr>\n",
              "      <th>1</th>\n",
              "      <td>2</td>\n",
              "      <td>25204.31</td>\n",
              "      <td>Reseller</td>\n",
              "    </tr>\n",
              "    <tr>\n",
              "      <th>2</th>\n",
              "      <td>3</td>\n",
              "      <td>336451.79</td>\n",
              "      <td>Reseller</td>\n",
              "    </tr>\n",
              "    <tr>\n",
              "      <th>3</th>\n",
              "      <td>4</td>\n",
              "      <td>586741.66</td>\n",
              "      <td>Reseller</td>\n",
              "    </tr>\n",
              "    <tr>\n",
              "      <th>4</th>\n",
              "      <td>5</td>\n",
              "      <td>77174.62</td>\n",
              "      <td>Reseller</td>\n",
              "    </tr>\n",
              "    <tr>\n",
              "      <th>...</th>\n",
              "      <td>...</td>\n",
              "      <td>...</td>\n",
              "      <td>...</td>\n",
              "    </tr>\n",
              "    <tr>\n",
              "      <th>12</th>\n",
              "      <td>292</td>\n",
              "      <td>4427856.45</td>\n",
              "      <td>EmployeeKey</td>\n",
              "    </tr>\n",
              "    <tr>\n",
              "      <th>13</th>\n",
              "      <td>293</td>\n",
              "      <td>2184211.15</td>\n",
              "      <td>EmployeeKey</td>\n",
              "    </tr>\n",
              "    <tr>\n",
              "      <th>14</th>\n",
              "      <td>294</td>\n",
              "      <td>174108.33</td>\n",
              "      <td>EmployeeKey</td>\n",
              "    </tr>\n",
              "    <tr>\n",
              "      <th>15</th>\n",
              "      <td>295</td>\n",
              "      <td>1679641.53</td>\n",
              "      <td>EmployeeKey</td>\n",
              "    </tr>\n",
              "    <tr>\n",
              "      <th>16</th>\n",
              "      <td>296</td>\n",
              "      <td>1216916.52</td>\n",
              "      <td>EmployeeKey</td>\n",
              "    </tr>\n",
              "  </tbody>\n",
              "</table>\n",
              "<p>649 rows × 3 columns</p>\n",
              "</div>\n",
              "    <div class=\"colab-df-buttons\">\n",
              "\n",
              "  <div class=\"colab-df-container\">\n",
              "    <button class=\"colab-df-convert\" onclick=\"convertToInteractive('df-d98103e4-abbf-4516-8061-596f6ffe1371')\"\n",
              "            title=\"Convert this dataframe to an interactive table.\"\n",
              "            style=\"display:none;\">\n",
              "\n",
              "  <svg xmlns=\"http://www.w3.org/2000/svg\" height=\"24px\" viewBox=\"0 -960 960 960\">\n",
              "    <path d=\"M120-120v-720h720v720H120Zm60-500h600v-160H180v160Zm220 220h160v-160H400v160Zm0 220h160v-160H400v160ZM180-400h160v-160H180v160Zm440 0h160v-160H620v160ZM180-180h160v-160H180v160Zm440 0h160v-160H620v160Z\"/>\n",
              "  </svg>\n",
              "    </button>\n",
              "\n",
              "  <style>\n",
              "    .colab-df-container {\n",
              "      display:flex;\n",
              "      gap: 12px;\n",
              "    }\n",
              "\n",
              "    .colab-df-convert {\n",
              "      background-color: #E8F0FE;\n",
              "      border: none;\n",
              "      border-radius: 50%;\n",
              "      cursor: pointer;\n",
              "      display: none;\n",
              "      fill: #1967D2;\n",
              "      height: 32px;\n",
              "      padding: 0 0 0 0;\n",
              "      width: 32px;\n",
              "    }\n",
              "\n",
              "    .colab-df-convert:hover {\n",
              "      background-color: #E2EBFA;\n",
              "      box-shadow: 0px 1px 2px rgba(60, 64, 67, 0.3), 0px 1px 3px 1px rgba(60, 64, 67, 0.15);\n",
              "      fill: #174EA6;\n",
              "    }\n",
              "\n",
              "    .colab-df-buttons div {\n",
              "      margin-bottom: 4px;\n",
              "    }\n",
              "\n",
              "    [theme=dark] .colab-df-convert {\n",
              "      background-color: #3B4455;\n",
              "      fill: #D2E3FC;\n",
              "    }\n",
              "\n",
              "    [theme=dark] .colab-df-convert:hover {\n",
              "      background-color: #434B5C;\n",
              "      box-shadow: 0px 1px 3px 1px rgba(0, 0, 0, 0.15);\n",
              "      filter: drop-shadow(0px 1px 2px rgba(0, 0, 0, 0.3));\n",
              "      fill: #FFFFFF;\n",
              "    }\n",
              "  </style>\n",
              "\n",
              "    <script>\n",
              "      const buttonEl =\n",
              "        document.querySelector('#df-d98103e4-abbf-4516-8061-596f6ffe1371 button.colab-df-convert');\n",
              "      buttonEl.style.display =\n",
              "        google.colab.kernel.accessAllowed ? 'block' : 'none';\n",
              "\n",
              "      async function convertToInteractive(key) {\n",
              "        const element = document.querySelector('#df-d98103e4-abbf-4516-8061-596f6ffe1371');\n",
              "        const dataTable =\n",
              "          await google.colab.kernel.invokeFunction('convertToInteractive',\n",
              "                                                    [key], {});\n",
              "        if (!dataTable) return;\n",
              "\n",
              "        const docLinkHtml = 'Like what you see? Visit the ' +\n",
              "          '<a target=\"_blank\" href=https://colab.research.google.com/notebooks/data_table.ipynb>data table notebook</a>'\n",
              "          + ' to learn more about interactive tables.';\n",
              "        element.innerHTML = '';\n",
              "        dataTable['output_type'] = 'display_data';\n",
              "        await google.colab.output.renderOutput(dataTable, element);\n",
              "        const docLink = document.createElement('div');\n",
              "        docLink.innerHTML = docLinkHtml;\n",
              "        element.appendChild(docLink);\n",
              "      }\n",
              "    </script>\n",
              "  </div>\n",
              "\n",
              "\n",
              "<div id=\"df-6172d990-fa3d-4b03-8416-e3eb01bbc55d\">\n",
              "  <button class=\"colab-df-quickchart\" onclick=\"quickchart('df-6172d990-fa3d-4b03-8416-e3eb01bbc55d')\"\n",
              "            title=\"Suggest charts\"\n",
              "            style=\"display:none;\">\n",
              "\n",
              "<svg xmlns=\"http://www.w3.org/2000/svg\" height=\"24px\"viewBox=\"0 0 24 24\"\n",
              "     width=\"24px\">\n",
              "    <g>\n",
              "        <path d=\"M19 3H5c-1.1 0-2 .9-2 2v14c0 1.1.9 2 2 2h14c1.1 0 2-.9 2-2V5c0-1.1-.9-2-2-2zM9 17H7v-7h2v7zm4 0h-2V7h2v10zm4 0h-2v-4h2v4z\"/>\n",
              "    </g>\n",
              "</svg>\n",
              "  </button>\n",
              "\n",
              "<style>\n",
              "  .colab-df-quickchart {\n",
              "      --bg-color: #E8F0FE;\n",
              "      --fill-color: #1967D2;\n",
              "      --hover-bg-color: #E2EBFA;\n",
              "      --hover-fill-color: #174EA6;\n",
              "      --disabled-fill-color: #AAA;\n",
              "      --disabled-bg-color: #DDD;\n",
              "  }\n",
              "\n",
              "  [theme=dark] .colab-df-quickchart {\n",
              "      --bg-color: #3B4455;\n",
              "      --fill-color: #D2E3FC;\n",
              "      --hover-bg-color: #434B5C;\n",
              "      --hover-fill-color: #FFFFFF;\n",
              "      --disabled-bg-color: #3B4455;\n",
              "      --disabled-fill-color: #666;\n",
              "  }\n",
              "\n",
              "  .colab-df-quickchart {\n",
              "    background-color: var(--bg-color);\n",
              "    border: none;\n",
              "    border-radius: 50%;\n",
              "    cursor: pointer;\n",
              "    display: none;\n",
              "    fill: var(--fill-color);\n",
              "    height: 32px;\n",
              "    padding: 0;\n",
              "    width: 32px;\n",
              "  }\n",
              "\n",
              "  .colab-df-quickchart:hover {\n",
              "    background-color: var(--hover-bg-color);\n",
              "    box-shadow: 0 1px 2px rgba(60, 64, 67, 0.3), 0 1px 3px 1px rgba(60, 64, 67, 0.15);\n",
              "    fill: var(--button-hover-fill-color);\n",
              "  }\n",
              "\n",
              "  .colab-df-quickchart-complete:disabled,\n",
              "  .colab-df-quickchart-complete:disabled:hover {\n",
              "    background-color: var(--disabled-bg-color);\n",
              "    fill: var(--disabled-fill-color);\n",
              "    box-shadow: none;\n",
              "  }\n",
              "\n",
              "  .colab-df-spinner {\n",
              "    border: 2px solid var(--fill-color);\n",
              "    border-color: transparent;\n",
              "    border-bottom-color: var(--fill-color);\n",
              "    animation:\n",
              "      spin 1s steps(1) infinite;\n",
              "  }\n",
              "\n",
              "  @keyframes spin {\n",
              "    0% {\n",
              "      border-color: transparent;\n",
              "      border-bottom-color: var(--fill-color);\n",
              "      border-left-color: var(--fill-color);\n",
              "    }\n",
              "    20% {\n",
              "      border-color: transparent;\n",
              "      border-left-color: var(--fill-color);\n",
              "      border-top-color: var(--fill-color);\n",
              "    }\n",
              "    30% {\n",
              "      border-color: transparent;\n",
              "      border-left-color: var(--fill-color);\n",
              "      border-top-color: var(--fill-color);\n",
              "      border-right-color: var(--fill-color);\n",
              "    }\n",
              "    40% {\n",
              "      border-color: transparent;\n",
              "      border-right-color: var(--fill-color);\n",
              "      border-top-color: var(--fill-color);\n",
              "    }\n",
              "    60% {\n",
              "      border-color: transparent;\n",
              "      border-right-color: var(--fill-color);\n",
              "    }\n",
              "    80% {\n",
              "      border-color: transparent;\n",
              "      border-right-color: var(--fill-color);\n",
              "      border-bottom-color: var(--fill-color);\n",
              "    }\n",
              "    90% {\n",
              "      border-color: transparent;\n",
              "      border-bottom-color: var(--fill-color);\n",
              "    }\n",
              "  }\n",
              "</style>\n",
              "\n",
              "  <script>\n",
              "    async function quickchart(key) {\n",
              "      const quickchartButtonEl =\n",
              "        document.querySelector('#' + key + ' button');\n",
              "      quickchartButtonEl.disabled = true;  // To prevent multiple clicks.\n",
              "      quickchartButtonEl.classList.add('colab-df-spinner');\n",
              "      try {\n",
              "        const charts = await google.colab.kernel.invokeFunction(\n",
              "            'suggestCharts', [key], {});\n",
              "      } catch (error) {\n",
              "        console.error('Error during call to suggestCharts:', error);\n",
              "      }\n",
              "      quickchartButtonEl.classList.remove('colab-df-spinner');\n",
              "      quickchartButtonEl.classList.add('colab-df-quickchart-complete');\n",
              "    }\n",
              "    (() => {\n",
              "      let quickchartButtonEl =\n",
              "        document.querySelector('#df-6172d990-fa3d-4b03-8416-e3eb01bbc55d button');\n",
              "      quickchartButtonEl.style.display =\n",
              "        google.colab.kernel.accessAllowed ? 'block' : 'none';\n",
              "    })();\n",
              "  </script>\n",
              "</div>\n",
              "    </div>\n",
              "  </div>\n"
            ],
            "application/vnd.google.colaboratory.intrinsic+json": {
              "type": "dataframe",
              "variable_name": "vendas_canal",
              "summary": "{\n  \"name\": \"vendas_canal\",\n  \"rows\": 649,\n  \"fields\": [\n    {\n      \"column\": \"Channel\",\n      \"properties\": {\n        \"dtype\": \"number\",\n        \"std\": 202,\n        \"min\": 1,\n        \"max\": 701,\n        \"num_unique_values\": 633,\n        \"samples\": [\n          360,\n          269,\n          435\n        ],\n        \"semantic_type\": \"\",\n        \"description\": \"\"\n      }\n    },\n    {\n      \"column\": \"Sales\",\n      \"properties\": {\n        \"dtype\": \"number\",\n        \"std\": 893008.1726310039,\n        \"min\": 1.37,\n        \"max\": 10105300.52,\n        \"num_unique_values\": 644,\n        \"samples\": [\n          3482736.49,\n          2719.2200000000003,\n          105379.61\n        ],\n        \"semantic_type\": \"\",\n        \"description\": \"\"\n      }\n    },\n    {\n      \"column\": \"Channel Type\",\n      \"properties\": {\n        \"dtype\": \"category\",\n        \"num_unique_values\": 2,\n        \"samples\": [\n          \"EmployeeKey\",\n          \"Reseller\"\n        ],\n        \"semantic_type\": \"\",\n        \"description\": \"\"\n      }\n    }\n  ]\n}"
            }
          },
          "metadata": {},
          "execution_count": 58
        }
      ]
    },
    {
      "cell_type": "code",
      "source": [
        "# Identificar os países com maior volume de vendas"
      ],
      "metadata": {
        "id": "2jXEghqUCDYU"
      },
      "execution_count": 59,
      "outputs": []
    },
    {
      "cell_type": "code",
      "source": [
        "vendas_pais = dados.groupby(\"Country\")[\"Sales\"].sum().sort_values(ascending=False)"
      ],
      "metadata": {
        "id": "VKBgNy2oCDan"
      },
      "execution_count": 61,
      "outputs": []
    },
    {
      "cell_type": "code",
      "source": [
        "print(\"Países com maior volume de vendas:\")\n",
        "print(vendas_pais)"
      ],
      "metadata": {
        "colab": {
          "base_uri": "https://localhost:8080/"
        },
        "id": "B63tA7uuCDcw",
        "outputId": "96dfb908-067a-462f-985c-1dc69510bc81"
      },
      "execution_count": 62,
      "outputs": [
        {
          "output_type": "stream",
          "name": "stdout",
          "text": [
            "Países com maior volume de vendas:\n",
            "Country\n",
            "United States     51845227.35\n",
            "Canada            13821416.96\n",
            "France             4526327.69\n",
            "United Kingdom     3883042.96\n",
            "Germany            1876177.39\n",
            "Australia          1391024.85\n",
            "Name: Sales, dtype: float64\n"
          ]
        }
      ]
    },
    {
      "cell_type": "code",
      "source": [
        "# Identificar os continentes com maior volume de vendas"
      ],
      "metadata": {
        "id": "dDBUvEZxCDfC"
      },
      "execution_count": 59,
      "outputs": []
    },
    {
      "cell_type": "code",
      "source": [
        "vendas_continente = dados.groupby(\"Continent\")[\"Sales\"].sum().sort_values(ascending=False)"
      ],
      "metadata": {
        "id": "ciE1JP4iCDg6"
      },
      "execution_count": 63,
      "outputs": []
    },
    {
      "cell_type": "code",
      "source": [
        "# Visualizar os continentes com maior volume de vendas\n",
        "print(\"\\nContinentes com maior volume de vendas:\")\n",
        "print(vendas_continente)"
      ],
      "metadata": {
        "colab": {
          "base_uri": "https://localhost:8080/"
        },
        "id": "L8NEO6idCDjS",
        "outputId": "043e4417-5320-427a-9a25-05d0b5327d77"
      },
      "execution_count": 64,
      "outputs": [
        {
          "output_type": "stream",
          "name": "stdout",
          "text": [
            "\n",
            "Continentes com maior volume de vendas:\n",
            "Continent\n",
            "North America    65666644.31\n",
            "Europe           10285548.04\n",
            "Pacific           1391024.85\n",
            "Name: Sales, dtype: float64\n"
          ]
        }
      ]
    },
    {
      "cell_type": "code",
      "source": [
        "# Comparar o desempenho de vendas entre diferentes regiões geográficas\n",
        "# Podemos criar um gráfico de barras para comparar as vendas por país ou continente"
      ],
      "metadata": {
        "id": "dk9lYw2LCDlg"
      },
      "execution_count": 59,
      "outputs": []
    },
    {
      "cell_type": "code",
      "source": [
        "plt.figure(figsize=(10, 6))\n",
        "vendas_pais.plot(kind='bar', color='skyblue')\n",
        "plt.title('Vendas por País')\n",
        "plt.xlabel('País')\n",
        "plt.ylabel('Vendas')\n",
        "plt.xticks(rotation=0)\n",
        "plt.show()"
      ],
      "metadata": {
        "colab": {
          "base_uri": "https://localhost:8080/",
          "height": 565
        },
        "id": "5mG17A6wL56M",
        "outputId": "0ceb3ecb-454f-4eeb-da04-5f27674c248c"
      },
      "execution_count": 69,
      "outputs": [
        {
          "output_type": "display_data",
          "data": {
            "text/plain": [
              "<Figure size 1000x600 with 1 Axes>"
            ],
            "image/png": "[encoded data removed]"
          },
          "metadata": {}
        }
      ]
    },
    {
      "cell_type": "code",
      "source": [
        "plt.figure(figsize=(8, 6))\n",
        "vendas_continente.plot(kind='bar', color='skyblue')\n",
        "plt.title('Vendas por Continente')\n",
        "plt.xlabel('Continente')\n",
        "plt.ylabel('Vendas')\n",
        "plt.xticks(rotation=0)\n",
        "plt.show()"
      ],
      "metadata": {
        "colab": {
          "base_uri": "https://localhost:8080/",
          "height": 564
        },
        "id": "TOdoB6kOL58z",
        "outputId": "eee5b8e9-4413-4164-a641-699dfac1f9da"
      },
      "execution_count": 71,
      "outputs": [
        {
          "output_type": "display_data",
          "data": {
            "text/plain": [
              "<Figure size 800x600 with 1 Axes>"
            ],
            "image/png": "[encoded data removed]"
          },
          "metadata": {}
        }
      ]
    },
    {
      "cell_type": "code",
      "source": [
        "# Identificar os produtos mais vendidos em termos de quantidade"
      ],
      "metadata": {
        "id": "qJ-yEk7rL5_R"
      },
      "execution_count": null,
      "outputs": []
    },
    {
      "cell_type": "code",
      "source": [
        "produtos_qtd = dados.groupby(\"Product\")['Quantity'].sum().sort_values(ascending=False).head(10)"
      ],
      "metadata": {
        "id": "dUHTG2CkNKsR"
      },
      "execution_count": 73,
      "outputs": []
    },
    {
      "cell_type": "code",
      "source": [
        "# Visualizar os produtos mais vendidos em termos de quantidade\n",
        "print(\"Top 10 produtos mais vendidos em termos de quantidade:\")\n",
        "print(produtos_qtd)"
      ],
      "metadata": {
        "colab": {
          "base_uri": "https://localhost:8080/"
        },
        "id": "hBTQkoPgNKu1",
        "outputId": "ccdb603a-6635-43b2-e693-96e5015882cb"
      },
      "execution_count": 74,
      "outputs": [
        {
          "output_type": "stream",
          "name": "stdout",
          "text": [
            "Top 10 produtos mais vendidos em termos de quantidade:\n",
            "Product\n",
            "AWC Logo Cap                       5903\n",
            "Long-Sleeve Logo Jersey, L         5899\n",
            "Sport-100 Helmet, Blue             4412\n",
            "Sport-100 Helmet, Black            4238\n",
            "Sport-100 Helmet, Red              3865\n",
            "Classic Vest, S                    3696\n",
            "Full-Finger Gloves, L              3365\n",
            "Short-Sleeve Classic Jersey, XL    3159\n",
            "Long-Sleeve Logo Jersey, M         3084\n",
            "Half-Finger Gloves, M              2810\n",
            "Name: Quantity, dtype: int64\n"
          ]
        }
      ]
    },
    {
      "cell_type": "code",
      "source": [
        "# Analisar a demanda por diferentes produtos\n",
        "# Podemos criar um gráfico de barras para visualizar a quantidade vendida por produto"
      ],
      "metadata": {
        "id": "fvIbQIAANK1t"
      },
      "execution_count": null,
      "outputs": []
    },
    {
      "cell_type": "code",
      "source": [
        "plt.figure(figsize=(10, 6))\n",
        "produtos_qtd.plot(kind='bar', color='salmon')\n",
        "plt.title('Quantidade de Produtos Vendidos por Produto')\n",
        "plt.xlabel('Produto')\n",
        "plt.ylabel('Quantidade Vendida')\n",
        "plt.xticks(rotation=90)\n",
        "plt.show()"
      ],
      "metadata": {
        "colab": {
          "base_uri": "https://localhost:8080/",
          "height": 763
        },
        "id": "XUGwp7JfNK5s",
        "outputId": "d004286d-fffc-4bf4-87e5-449ec505b115"
      },
      "execution_count": 76,
      "outputs": [
        {
          "output_type": "display_data",
          "data": {
            "text/plain": [
              "<Figure size 1000x600 with 1 Axes>"
            ],
            "image/png": "[encoded data removed]"
          },
          "metadata": {}
        }
      ]
    },
    {
      "cell_type": "code",
      "source": [
        "# Análise da variação dos preços dos produtos ao longo do tempo\n",
        "# Vamos agrupar os dados por mês e calcular o preço unitário médio"
      ],
      "metadata": {
        "id": "qRPqVBTSL6BV"
      },
      "execution_count": null,
      "outputs": []
    },
    {
      "cell_type": "code",
      "source": [
        "variacao_precos_mensal = dados.resample('M', on='OrderDate')['Unit Price'].mean()"
      ],
      "metadata": {
        "id": "aydFGm8AL6Du"
      },
      "execution_count": 80,
      "outputs": []
    },
    {
      "cell_type": "code",
      "source": [
        "# Visualizar a variação dos preços dos produtos ao longo do tempo\n",
        "print(\"Variação dos preços dos produtos ao longo do tempo:\")\n",
        "print(variacao_precos_mensal)"
      ],
      "metadata": {
        "colab": {
          "base_uri": "https://localhost:8080/"
        },
        "id": "oumrp-4WL6F9",
        "outputId": "6a80a6c3-465f-4109-ef96-d143c6157573"
      },
      "execution_count": 81,
      "outputs": [
        {
          "output_type": "stream",
          "name": "stdout",
          "text": [
            "Variação dos preços dos produtos ao longo do tempo:\n",
            "OrderDate\n",
            "2017-07-31    655.587102\n",
            "2017-08-31    758.934866\n",
            "2017-09-30    741.850169\n",
            "2017-10-31    677.452906\n",
            "2017-11-30    752.305561\n",
            "2017-12-31    734.582167\n",
            "2018-01-31    808.940557\n",
            "2018-02-28    896.795346\n",
            "2018-03-31    863.541501\n",
            "2018-04-30    732.249838\n",
            "2018-05-31    761.301691\n",
            "2018-06-30    552.945934\n",
            "2018-07-31    350.739489\n",
            "2018-08-31    372.746856\n",
            "2018-09-30    365.296160\n",
            "2018-10-31    381.995583\n",
            "2018-11-30    412.478977\n",
            "2018-12-31    407.077182\n",
            "2019-01-31    428.872767\n",
            "2019-02-28    488.753984\n",
            "2019-03-31    450.026379\n",
            "2019-04-30    369.778047\n",
            "2019-05-31    400.513612\n",
            "2019-06-30    390.323740\n",
            "2019-07-31    350.553591\n",
            "2019-08-31    342.194403\n",
            "2019-09-30    343.404806\n",
            "2019-10-31    378.645851\n",
            "2019-11-30    395.802462\n",
            "2019-12-31    412.522146\n",
            "2020-01-31    433.501281\n",
            "2020-02-29    477.836652\n",
            "2020-03-31    485.267970\n",
            "2020-04-30    378.907334\n",
            "2020-05-31    391.853541\n",
            "Freq: M, Name: Unit Price, dtype: float64\n"
          ]
        }
      ]
    },
    {
      "cell_type": "code",
      "source": [
        "# Visualizar o valor da variação dos preços mensais"
      ],
      "metadata": {
        "id": "Mt4ILqcmQCAs"
      },
      "execution_count": null,
      "outputs": []
    },
    {
      "cell_type": "code",
      "source": [
        "variacao_precos_mensal.diff()"
      ],
      "metadata": {
        "colab": {
          "base_uri": "https://localhost:8080/"
        },
        "id": "GGtFSyvHPl8u",
        "outputId": "91c7dc96-c567-47fe-b1cf-a1c7b288f80b"
      },
      "execution_count": 82,
      "outputs": [
        {
          "output_type": "execute_result",
          "data": {
            "text/plain": [
              "OrderDate\n",
              "2017-07-31           NaN\n",
              "2017-08-31    103.347764\n",
              "2017-09-30    -17.084698\n",
              "2017-10-31    -64.397263\n",
              "2017-11-30     74.852655\n",
              "2017-12-31    -17.723394\n",
              "2018-01-31     74.358390\n",
              "2018-02-28     87.854789\n",
              "2018-03-31    -33.253846\n",
              "2018-04-30   -131.291663\n",
              "2018-05-31     29.051853\n",
              "2018-06-30   -208.355757\n",
              "2018-07-31   -202.206445\n",
              "2018-08-31     22.007366\n",
              "2018-09-30     -7.450695\n",
              "2018-10-31     16.699423\n",
              "2018-11-30     30.483393\n",
              "2018-12-31     -5.401794\n",
              "2019-01-31     21.795585\n",
              "2019-02-28     59.881217\n",
              "2019-03-31    -38.727606\n",
              "2019-04-30    -80.248332\n",
              "2019-05-31     30.735565\n",
              "2019-06-30    -10.189873\n",
              "2019-07-31    -39.770149\n",
              "2019-08-31     -8.359188\n",
              "2019-09-30      1.210403\n",
              "2019-10-31     35.241045\n",
              "2019-11-30     17.156611\n",
              "2019-12-31     16.719684\n",
              "2020-01-31     20.979135\n",
              "2020-02-29     44.335371\n",
              "2020-03-31      7.431317\n",
              "2020-04-30   -106.360635\n",
              "2020-05-31     12.946206\n",
              "Freq: M, Name: Unit Price, dtype: float64"
            ]
          },
          "metadata": {},
          "execution_count": 82
        }
      ]
    },
    {
      "cell_type": "code",
      "source": [
        "# Identificar produtos com preços unitários mais altos ou mais baixos"
      ],
      "metadata": {
        "id": "vPeNVm9_Pl_b"
      },
      "execution_count": null,
      "outputs": []
    },
    {
      "cell_type": "code",
      "source": [
        "preco_produto_alto = dados.groupby(\"Product\")[\"Unit Price\"].max().sort_values(ascending=False).head(10)\n",
        "preco_produto_baixo = dados.groupby(\"Product\")[\"Unit Price\"].min().sort_values(ascending=False).head(10)"
      ],
      "metadata": {
        "id": "jjOizfp7PmBt"
      },
      "execution_count": 84,
      "outputs": []
    },
    {
      "cell_type": "code",
      "source": [
        "# Visualizar os produtos com preços unitários mais altos e mais baixos\n",
        "print(\"\\nProdutos com preços unitários mais altos:\")\n",
        "print(preco_produto_alto)\n",
        "print(\"\\nProdutos com preços unitários mais baixos:\")\n",
        "print(preco_produto_baixo)"
      ],
      "metadata": {
        "colab": {
          "base_uri": "https://localhost:8080/"
        },
        "id": "61VLOG2yPmEG",
        "outputId": "c3ad395a-dfbd-4167-ef04-fb30655a1e3c"
      },
      "execution_count": 85,
      "outputs": [
        {
          "output_type": "stream",
          "name": "stdout",
          "text": [
            "\n",
            "Produtos com preços unitários mais altos:\n",
            "Product\n",
            "Road-150 Red, 62           2146.96\n",
            "Road-150 Red, 56           2146.96\n",
            "Road-150 Red, 52           2146.96\n",
            "Road-150 Red, 48           2146.96\n",
            "Road-150 Red, 44           2146.96\n",
            "Mountain-100 Silver, 48    2039.99\n",
            "Mountain-100 Silver, 44    2039.99\n",
            "Mountain-100 Silver, 38    2039.99\n",
            "Mountain-100 Silver, 42    2039.99\n",
            "Mountain-100 Black, 38     2024.99\n",
            "Name: Unit Price, dtype: float64\n",
            "\n",
            "Produtos com preços unitários mais baixos:\n",
            "Product\n",
            "Road-150 Red, 52         2146.96\n",
            "Road-150 Red, 44         2146.96\n",
            "Road-150 Red, 48         2146.96\n",
            "Road-150 Red, 56         2146.96\n",
            "Road-150 Red, 62         2146.96\n",
            "Road-250 Red, 52         1466.01\n",
            "Touring-1000 Blue, 54    1430.44\n",
            "Touring-1000 Blue, 50    1430.44\n",
            "Road-250 Red, 48         1417.14\n",
            "Road-250 Red, 44         1343.84\n",
            "Name: Unit Price, dtype: float64\n"
          ]
        }
      ]
    },
    {
      "cell_type": "code",
      "source": [
        "#Suponha que você queira visualizar a média dos preços dos produtos por\n",
        "#trimestre para analisar padrões sazonais. Aqui está como você pode fazer isso:"
      ],
      "metadata": {
        "id": "AV4nnYuvTGuO"
      },
      "execution_count": null,
      "outputs": []
    },
    {
      "cell_type": "code",
      "source": [
        "dados['trimestre'] = dados['OrderDate'].dt.to_period('T')"
      ],
      "metadata": {
        "id": "zwAHs6cJPmGa"
      },
      "execution_count": 88,
      "outputs": []
    },
    {
      "cell_type": "code",
      "source": [
        "media_trimestre = dados.groupby('trimestre')['Unit Price'].mean().sample(10)"
      ],
      "metadata": {
        "id": "WAeX6c9hPmIl"
      },
      "execution_count": 94,
      "outputs": []
    },
    {
      "cell_type": "code",
      "source": [
        "# Visualizar a média dos preços dos produtos por trimestre\n",
        "print(\"Média dos preços dos produtos por trimestre:\")\n",
        "print(media_trimestre)"
      ],
      "metadata": {
        "colab": {
          "base_uri": "https://localhost:8080/"
        },
        "id": "Lk61sKrNTd0O",
        "outputId": "b74a051c-b4c3-4fab-be02-c6bc06f551cc"
      },
      "execution_count": 95,
      "outputs": [
        {
          "output_type": "stream",
          "name": "stdout",
          "text": [
            "Média dos preços dos produtos por trimestre:\n",
            "trimestre\n",
            "2019-01-08 00:00    761.951600\n",
            "2019-10-22 00:00    401.372256\n",
            "2019-07-16 00:00    347.948913\n",
            "2020-03-06 00:00    640.912424\n",
            "2019-01-03 00:00    189.866667\n",
            "2019-04-12 00:00    407.390541\n",
            "2018-07-28 00:00    281.087838\n",
            "2019-12-19 00:00    398.187259\n",
            "2018-06-28 00:00    619.635000\n",
            "2018-07-13 00:00    267.006935\n",
            "Freq: T, Name: Unit Price, dtype: float64\n"
          ]
        }
      ]
    },
    {
      "cell_type": "code",
      "source": [
        "# Vamos plotar um gráfico de linha para visualizar a tendência dos preços dos produtos ao longo do tempo"
      ],
      "metadata": {
        "id": "gjFYcXMfTd3D"
      },
      "execution_count": null,
      "outputs": []
    },
    {
      "cell_type": "code",
      "source": [
        "plt.hist(dados.Sales, bins=8)\n",
        "plt.title(\"Histograma Venda dos Produtos\");"
      ],
      "metadata": {
        "colab": {
          "base_uri": "https://localhost:8080/",
          "height": 452
        },
        "id": "ZxmP5yMETd5Z",
        "outputId": "14981e92-4ee8-43f0-aefd-b2981387f81c"
      },
      "execution_count": 112,
      "outputs": [
        {
          "output_type": "display_data",
          "data": {
            "text/plain": [
              "<Figure size 640x480 with 1 Axes>"
            ],
            "image/png": "[encoded data removed]"
          },
          "metadata": {}
        }
      ]
    },
    {
      "cell_type": "code",
      "source": [
        "plt.hist(dados[\"Unit Price\"], bins=10)\n",
        "plt.title(\"Histograma dos preços Unitários\");"
      ],
      "metadata": {
        "colab": {
          "base_uri": "https://localhost:8080/",
          "height": 453
        },
        "id": "Re4xVFIUcsQZ",
        "outputId": "7a6f430d-9c0e-4f8c-faf9-370e18f6821b"
      },
      "execution_count": 110,
      "outputs": [
        {
          "output_type": "display_data",
          "data": {
            "text/plain": [
              "<Figure size 640x480 with 1 Axes>"
            ],
            "image/png": "[encoded data removed]"
          },
          "metadata": {}
        }
      ]
    },
    {
      "cell_type": "code",
      "source": [
        "plt.hist(dados[\"Quantity\"], bins=10)\n",
        "plt.title(\"Histograma da quantidade dos produtos na BD\");"
      ],
      "metadata": {
        "colab": {
          "base_uri": "https://localhost:8080/",
          "height": 453
        },
        "id": "Oh8cXG8bdBRM",
        "outputId": "7620114b-9dc9-4b82-db74-a1051ed2d665"
      },
      "execution_count": 111,
      "outputs": [
        {
          "output_type": "display_data",
          "data": {
            "text/plain": [
              "<Figure size 640x480 with 1 Axes>"
            ],
            "image/png": "[encoded data removed]"
          },
          "metadata": {}
        }
      ]
    },
    {
      "cell_type": "code",
      "source": [
        "# Calculando a correlação de Pearson entre os preços dos produtos e as vendas correspondentes\n",
        "correlation = dados['Unit Price'].corr(dados['Sales'])\n",
        "# Visualizando a correlação\n",
        "print(\"Correlação entre preços e vendas:\", correlation)\n"
      ],
      "metadata": {
        "colab": {
          "base_uri": "https://localhost:8080/"
        },
        "id": "pz3zJaONTd8C",
        "outputId": "12a5d108-baf4-4ec6-d5aa-76e317856201"
      },
      "execution_count": 97,
      "outputs": [
        {
          "output_type": "stream",
          "name": "stdout",
          "text": [
            "Correlação entre preços e vendas: 0.7210051451890267\n"
          ]
        }
      ]
    },
    {
      "cell_type": "code",
      "source": [
        "corrdados = dados[['Unit Price', 'Sales', 'Quantity']]"
      ],
      "metadata": {
        "id": "OQJQHHG4VOXU"
      },
      "execution_count": 99,
      "outputs": []
    },
    {
      "cell_type": "code",
      "source": [
        "corrdados.corr()"
      ],
      "metadata": {
        "colab": {
          "base_uri": "https://localhost:8080/",
          "height": 143
        },
        "id": "8voCGhagWQiW",
        "outputId": "130312a5-86fb-42cf-f356-ba1db1a7390e"
      },
      "execution_count": 100,
      "outputs": [
        {
          "output_type": "execute_result",
          "data": {
            "text/plain": [
              "            Unit Price     Sales  Quantity\n",
              "Unit Price    1.000000  0.721005 -0.148012\n",
              "Sales         0.721005  1.000000  0.237600\n",
              "Quantity     -0.148012  0.237600  1.000000"
            ],
            "text/html": [
              "\n",
              "  <div id=\"df-5abb590d-0a73-48ae-a823-4b81392a5a5f\" class=\"colab-df-container\">\n",
              "    <div>\n",
              "<style scoped>\n",
              "    .dataframe tbody tr th:only-of-type {\n",
              "        vertical-align: middle;\n",
              "    }\n",
              "\n",
              "    .dataframe tbody tr th {\n",
              "        vertical-align: top;\n",
              "    }\n",
              "\n",
              "    .dataframe thead th {\n",
              "        text-align: right;\n",
              "    }\n",
              "</style>\n",
              "<table border=\"1\" class=\"dataframe\">\n",
              "  <thead>\n",
              "    <tr style=\"text-align: right;\">\n",
              "      <th></th>\n",
              "      <th>Unit Price</th>\n",
              "      <th>Sales</th>\n",
              "      <th>Quantity</th>\n",
              "    </tr>\n",
              "  </thead>\n",
              "  <tbody>\n",
              "    <tr>\n",
              "      <th>Unit Price</th>\n",
              "      <td>1.000000</td>\n",
              "      <td>0.721005</td>\n",
              "      <td>-0.148012</td>\n",
              "    </tr>\n",
              "    <tr>\n",
              "      <th>Sales</th>\n",
              "      <td>0.721005</td>\n",
              "      <td>1.000000</td>\n",
              "      <td>0.237600</td>\n",
              "    </tr>\n",
              "    <tr>\n",
              "      <th>Quantity</th>\n",
              "      <td>-0.148012</td>\n",
              "      <td>0.237600</td>\n",
              "      <td>1.000000</td>\n",
              "    </tr>\n",
              "  </tbody>\n",
              "</table>\n",
              "</div>\n",
              "    <div class=\"colab-df-buttons\">\n",
              "\n",
              "  <div class=\"colab-df-container\">\n",
              "    <button class=\"colab-df-convert\" onclick=\"convertToInteractive('df-5abb590d-0a73-48ae-a823-4b81392a5a5f')\"\n",
              "            title=\"Convert this dataframe to an interactive table.\"\n",
              "            style=\"display:none;\">\n",
              "\n",
              "  <svg xmlns=\"http://www.w3.org/2000/svg\" height=\"24px\" viewBox=\"0 -960 960 960\">\n",
              "    <path d=\"M120-120v-720h720v720H120Zm60-500h600v-160H180v160Zm220 220h160v-160H400v160Zm0 220h160v-160H400v160ZM180-400h160v-160H180v160Zm440 0h160v-160H620v160ZM180-180h160v-160H180v160Zm440 0h160v-160H620v160Z\"/>\n",
              "  </svg>\n",
              "    </button>\n",
              "\n",
              "  <style>\n",
              "    .colab-df-container {\n",
              "      display:flex;\n",
              "      gap: 12px;\n",
              "    }\n",
              "\n",
              "    .colab-df-convert {\n",
              "      background-color: #E8F0FE;\n",
              "      border: none;\n",
              "      border-radius: 50%;\n",
              "      cursor: pointer;\n",
              "      display: none;\n",
              "      fill: #1967D2;\n",
              "      height: 32px;\n",
              "      padding: 0 0 0 0;\n",
              "      width: 32px;\n",
              "    }\n",
              "\n",
              "    .colab-df-convert:hover {\n",
              "      background-color: #E2EBFA;\n",
              "      box-shadow: 0px 1px 2px rgba(60, 64, 67, 0.3), 0px 1px 3px 1px rgba(60, 64, 67, 0.15);\n",
              "      fill: #174EA6;\n",
              "    }\n",
              "\n",
              "    .colab-df-buttons div {\n",
              "      margin-bottom: 4px;\n",
              "    }\n",
              "\n",
              "    [theme=dark] .colab-df-convert {\n",
              "      background-color: #3B4455;\n",
              "      fill: #D2E3FC;\n",
              "    }\n",
              "\n",
              "    [theme=dark] .colab-df-convert:hover {\n",
              "      background-color: #434B5C;\n",
              "      box-shadow: 0px 1px 3px 1px rgba(0, 0, 0, 0.15);\n",
              "      filter: drop-shadow(0px 1px 2px rgba(0, 0, 0, 0.3));\n",
              "      fill: #FFFFFF;\n",
              "    }\n",
              "  </style>\n",
              "\n",
              "    <script>\n",
              "      const buttonEl =\n",
              "        document.querySelector('#df-5abb590d-0a73-48ae-a823-4b81392a5a5f button.colab-df-convert');\n",
              "      buttonEl.style.display =\n",
              "        google.colab.kernel.accessAllowed ? 'block' : 'none';\n",
              "\n",
              "      async function convertToInteractive(key) {\n",
              "        const element = document.querySelector('#df-5abb590d-0a73-48ae-a823-4b81392a5a5f');\n",
              "        const dataTable =\n",
              "          await google.colab.kernel.invokeFunction('convertToInteractive',\n",
              "                                                    [key], {});\n",
              "        if (!dataTable) return;\n",
              "\n",
              "        const docLinkHtml = 'Like what you see? Visit the ' +\n",
              "          '<a target=\"_blank\" href=https://colab.research.google.com/notebooks/data_table.ipynb>data table notebook</a>'\n",
              "          + ' to learn more about interactive tables.';\n",
              "        element.innerHTML = '';\n",
              "        dataTable['output_type'] = 'display_data';\n",
              "        await google.colab.output.renderOutput(dataTable, element);\n",
              "        const docLink = document.createElement('div');\n",
              "        docLink.innerHTML = docLinkHtml;\n",
              "        element.appendChild(docLink);\n",
              "      }\n",
              "    </script>\n",
              "  </div>\n",
              "\n",
              "\n",
              "<div id=\"df-e8d7b2e8-c7be-4e94-a68a-428055ef1bc8\">\n",
              "  <button class=\"colab-df-quickchart\" onclick=\"quickchart('df-e8d7b2e8-c7be-4e94-a68a-428055ef1bc8')\"\n",
              "            title=\"Suggest charts\"\n",
              "            style=\"display:none;\">\n",
              "\n",
              "<svg xmlns=\"http://www.w3.org/2000/svg\" height=\"24px\"viewBox=\"0 0 24 24\"\n",
              "     width=\"24px\">\n",
              "    <g>\n",
              "        <path d=\"M19 3H5c-1.1 0-2 .9-2 2v14c0 1.1.9 2 2 2h14c1.1 0 2-.9 2-2V5c0-1.1-.9-2-2-2zM9 17H7v-7h2v7zm4 0h-2V7h2v10zm4 0h-2v-4h2v4z\"/>\n",
              "    </g>\n",
              "</svg>\n",
              "  </button>\n",
              "\n",
              "<style>\n",
              "  .colab-df-quickchart {\n",
              "      --bg-color: #E8F0FE;\n",
              "      --fill-color: #1967D2;\n",
              "      --hover-bg-color: #E2EBFA;\n",
              "      --hover-fill-color: #174EA6;\n",
              "      --disabled-fill-color: #AAA;\n",
              "      --disabled-bg-color: #DDD;\n",
              "  }\n",
              "\n",
              "  [theme=dark] .colab-df-quickchart {\n",
              "      --bg-color: #3B4455;\n",
              "      --fill-color: #D2E3FC;\n",
              "      --hover-bg-color: #434B5C;\n",
              "      --hover-fill-color: #FFFFFF;\n",
              "      --disabled-bg-color: #3B4455;\n",
              "      --disabled-fill-color: #666;\n",
              "  }\n",
              "\n",
              "  .colab-df-quickchart {\n",
              "    background-color: var(--bg-color);\n",
              "    border: none;\n",
              "    border-radius: 50%;\n",
              "    cursor: pointer;\n",
              "    display: none;\n",
              "    fill: var(--fill-color);\n",
              "    height: 32px;\n",
              "    padding: 0;\n",
              "    width: 32px;\n",
              "  }\n",
              "\n",
              "  .colab-df-quickchart:hover {\n",
              "    background-color: var(--hover-bg-color);\n",
              "    box-shadow: 0 1px 2px rgba(60, 64, 67, 0.3), 0 1px 3px 1px rgba(60, 64, 67, 0.15);\n",
              "    fill: var(--button-hover-fill-color);\n",
              "  }\n",
              "\n",
              "  .colab-df-quickchart-complete:disabled,\n",
              "  .colab-df-quickchart-complete:disabled:hover {\n",
              "    background-color: var(--disabled-bg-color);\n",
              "    fill: var(--disabled-fill-color);\n",
              "    box-shadow: none;\n",
              "  }\n",
              "\n",
              "  .colab-df-spinner {\n",
              "    border: 2px solid var(--fill-color);\n",
              "    border-color: transparent;\n",
              "    border-bottom-color: var(--fill-color);\n",
              "    animation:\n",
              "      spin 1s steps(1) infinite;\n",
              "  }\n",
              "\n",
              "  @keyframes spin {\n",
              "    0% {\n",
              "      border-color: transparent;\n",
              "      border-bottom-color: var(--fill-color);\n",
              "      border-left-color: var(--fill-color);\n",
              "    }\n",
              "    20% {\n",
              "      border-color: transparent;\n",
              "      border-left-color: var(--fill-color);\n",
              "      border-top-color: var(--fill-color);\n",
              "    }\n",
              "    30% {\n",
              "      border-color: transparent;\n",
              "      border-left-color: var(--fill-color);\n",
              "      border-top-color: var(--fill-color);\n",
              "      border-right-color: var(--fill-color);\n",
              "    }\n",
              "    40% {\n",
              "      border-color: transparent;\n",
              "      border-right-color: var(--fill-color);\n",
              "      border-top-color: var(--fill-color);\n",
              "    }\n",
              "    60% {\n",
              "      border-color: transparent;\n",
              "      border-right-color: var(--fill-color);\n",
              "    }\n",
              "    80% {\n",
              "      border-color: transparent;\n",
              "      border-right-color: var(--fill-color);\n",
              "      border-bottom-color: var(--fill-color);\n",
              "    }\n",
              "    90% {\n",
              "      border-color: transparent;\n",
              "      border-bottom-color: var(--fill-color);\n",
              "    }\n",
              "  }\n",
              "</style>\n",
              "\n",
              "  <script>\n",
              "    async function quickchart(key) {\n",
              "      const quickchartButtonEl =\n",
              "        document.querySelector('#' + key + ' button');\n",
              "      quickchartButtonEl.disabled = true;  // To prevent multiple clicks.\n",
              "      quickchartButtonEl.classList.add('colab-df-spinner');\n",
              "      try {\n",
              "        const charts = await google.colab.kernel.invokeFunction(\n",
              "            'suggestCharts', [key], {});\n",
              "      } catch (error) {\n",
              "        console.error('Error during call to suggestCharts:', error);\n",
              "      }\n",
              "      quickchartButtonEl.classList.remove('colab-df-spinner');\n",
              "      quickchartButtonEl.classList.add('colab-df-quickchart-complete');\n",
              "    }\n",
              "    (() => {\n",
              "      let quickchartButtonEl =\n",
              "        document.querySelector('#df-e8d7b2e8-c7be-4e94-a68a-428055ef1bc8 button');\n",
              "      quickchartButtonEl.style.display =\n",
              "        google.colab.kernel.accessAllowed ? 'block' : 'none';\n",
              "    })();\n",
              "  </script>\n",
              "</div>\n",
              "    </div>\n",
              "  </div>\n"
            ],
            "application/vnd.google.colaboratory.intrinsic+json": {
              "type": "dataframe",
              "summary": "{\n  \"name\": \"corrdados\",\n  \"rows\": 3,\n  \"fields\": [\n    {\n      \"column\": \"Unit Price\",\n      \"properties\": {\n        \"dtype\": \"number\",\n        \"std\": 0.598742959598413,\n        \"min\": -0.14801158112260548,\n        \"max\": 1.0,\n        \"num_unique_values\": 3,\n        \"samples\": [\n          1.0,\n          0.721005145189021,\n          -0.14801158112260548\n        ],\n        \"semantic_type\": \"\",\n        \"description\": \"\"\n      }\n    },\n    {\n      \"column\": \"Sales\",\n      \"properties\": {\n        \"dtype\": \"number\",\n        \"std\": 0.38573987102268953,\n        \"min\": 0.23760037518985053,\n        \"max\": 1.0,\n        \"num_unique_values\": 3,\n        \"samples\": [\n          0.721005145189021,\n          1.0,\n          0.23760037518985053\n        ],\n        \"semantic_type\": \"\",\n        \"description\": \"\"\n      }\n    },\n    {\n      \"column\": \"Quantity\",\n      \"properties\": {\n        \"dtype\": \"number\",\n        \"std\": 0.5842203293212531,\n        \"min\": -0.14801158112260548,\n        \"max\": 1.0,\n        \"num_unique_values\": 3,\n        \"samples\": [\n          -0.14801158112260548,\n          0.23760037518985053,\n          1.0\n        ],\n        \"semantic_type\": \"\",\n        \"description\": \"\"\n      }\n    }\n  ]\n}"
            }
          },
          "metadata": {},
          "execution_count": 100
        }
      ]
    },
    {
      "cell_type": "code",
      "source": [
        "#Imprmir um relatorio automatizado com a biblioteca Ydata"
      ],
      "metadata": {
        "id": "w8PomGctVOaD"
      },
      "execution_count": null,
      "outputs": []
    },
    {
      "cell_type": "code",
      "source": [
        "profile = ProfileReport(dados)\n",
        "\n",
        "profile.to_file(\"/content/Report_data.html\")"
      ],
      "metadata": {
        "colab": {
          "base_uri": "https://localhost:8080/",
          "height": 200,
          "referenced_widgets": [
            "7a0a6427cb34490d8131e28879b78c2a",
            "a5d85d3c02694df388699216a029b093",
            "9f939549bdbe4ab2af51f7128bb2b961",
            "033a3fce337747119cc90860c5014f6e",
            "467aff55f5fb42579ce633b5cac7e2fe",
            "6da8eaf15b844df28622c89536c9d6bf",
            "08617d4c67604fa5acbd85be1e7e06cc",
            "7399a58bfab24bc8a3ac400a3151b128",
            "536ad532a93940c3aa21bc8d4547e349",
            "ef7535b700404d62a93dbfe76db4db19",
            "cf2ab00cc9f44f06b1d5585caa7719e2",
            "99004586e565421f93dd5d4b9e830230",
            "9d1503eedc554cf1ab7dc97faf761880",
            "907b7437b56548f7a438f8f45a45af10",
            "2f46d5a02bf2413a92e14e530ea74f53",
            "8ae8e08098fd4bd597f6137ec108650f",
            "7457d671855647f7b6c35de1c4ae2cf7",
            "c5cd1852acd943e19fe0bc6a1ff44779",
            "ded2d59a7d544dfe93e99178cbb7d942",
            "f786b8636e22471481afda65a8067a00",
            "3a1367f52fcd4c7ba1abc21adb9f81e2",
            "53ed495369e54369baa51ce571cfa522",
            "8e3338f4044b48b8b12d9a8e9090db55",
            "f0914cf910d64d7ba4c220431681c75d",
            "ca19c64c6968424d98ad18e22c051e82",
            "5949d29663e4413ab29a3fc7f3a3289a",
            "5d61b0d3bb9544f2a5454fb51b2dccad",
            "de75cd3fd06c468db650345fa103c2e6",
            "f5510129103f4391a1bf6dab456a1e39",
            "6bf7ba55fcad4bbc9c04af97483bde56",
            "ef3495abfa374c599b46e63aa56e2bb9",
            "69d506cd3bb94c9bada372b190ca761f",
            "7c8474296fa44b9691db7ba3da804561",
            "d2941171e55f484f95e4e0652bb77eeb",
            "8a59d3e8e24e487889edcd31940ce1b5",
            "7b1e4affb7a7492d87e821fd79673b93",
            "80e323180bf5499ab364c234290ccc39",
            "b84df15a3076478b9f1150ffd16f7862",
            "b610d8375c1f4f4bb3d2e629a8dfd3e2",
            "5012f724862e4ac197aee316b93ba97f",
            "cd62271068144ca59c46745e2760d98c",
            "2107fff2a17945048dae175c392b7d94",
            "f96a107dbb25434fbf6943006ace3af1",
            "34add2df9b634271a577e01618f58f43"
          ]
        },
        "id": "bAmAXfS9VOcV",
        "outputId": "f2d36e55-1254-419a-b262-dc7e5a6b4d06"
      },
      "execution_count": 104,
      "outputs": [
        {
          "output_type": "stream",
          "name": "stderr",
          "text": [
            "/usr/local/lib/python3.10/dist-packages/ydata_profiling/profile_report.py:354: UserWarning: Try running command: 'pip install --upgrade Pillow' to avoid ValueError\n",
            "  warnings.warn(\n"
          ]
        },
        {
          "output_type": "display_data",
          "data": {
            "text/plain": [
              "Summarize dataset:   0%|          | 0/5 [00:00<?, ?it/s]"
            ],
            "application/vnd.jupyter.widget-view+json": {
              "version_major": 2,
              "version_minor": 0,
              "model_id": "7a0a6427cb34490d8131e28879b78c2a"
            }
          },
          "metadata": {}
        },
        {
          "output_type": "display_data",
          "data": {
            "text/plain": [
              "Generate report structure:   0%|          | 0/1 [00:00<?, ?it/s]"
            ],
            "application/vnd.jupyter.widget-view+json": {
              "version_major": 2,
              "version_minor": 0,
              "model_id": "99004586e565421f93dd5d4b9e830230"
            }
          },
          "metadata": {}
        },
        {
          "output_type": "display_data",
          "data": {
            "text/plain": [
              "Render HTML:   0%|          | 0/1 [00:00<?, ?it/s]"
            ],
            "application/vnd.jupyter.widget-view+json": {
              "version_major": 2,
              "version_minor": 0,
              "model_id": "8e3338f4044b48b8b12d9a8e9090db55"
            }
          },
          "metadata": {}
        },
        {
          "output_type": "display_data",
          "data": {
            "text/plain": [
              "Export report to file:   0%|          | 0/1 [00:00<?, ?it/s]"
            ],
            "application/vnd.jupyter.widget-view+json": {
              "version_major": 2,
              "version_minor": 0,
              "model_id": "d2941171e55f484f95e4e0652bb77eeb"
            }
          },
          "metadata": {}
        }
      ]
    },
    {
      "cell_type": "code",
      "source": [],
      "metadata": {
        "id": "qWH3hjdtVOed"
      },
      "execution_count": null,
      "outputs": []
    },
    {
      "cell_type": "code",
      "source": [],
      "metadata": {
        "id": "dH9Wuz08VOg-"
      },
      "execution_count": null,
      "outputs": []
    },
    {
      "cell_type": "code",
      "source": [],
      "metadata": {
        "id": "bnZTV1JDVOjW"
      },
      "execution_count": null,
      "outputs": []
    }
  ]
}